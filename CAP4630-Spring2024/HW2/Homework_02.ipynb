{
  "cells": [
    {
      "cell_type": "markdown",
      "metadata": {
        "id": "qkRblh6HrR-E"
      },
      "source": [
        "# Logistic Regression Homework\n",
        "\n",
        "This is the 2nd assignment for CAP 4630 and we will implement logistic regression and apply it to two\n",
        "different datasets. \\\n",
        "You will use **\"Tasks\"** and **\"Hints\"** to finish the work. **(Total 100 Points)** \\\n",
        "You are **not** allowed to use Machine Learning libaries such as Scikit-learn and Keras.\n",
        "\n",
        "**Task Overview:**\n",
        "- Logistic Regression"
      ]
    },
    {
      "cell_type": "markdown",
      "metadata": {
        "id": "0KgGYvlJrR-I"
      },
      "source": [
        "## 1 - Logistic Regression ##\n",
        "### 1.1 Packages\n",
        "\n",
        "Import useful packages for scientific computing and data processing.\n",
        "\n",
        "**Tasks:**\n",
        "1. Import numpy and rename it to np.\n",
        "2. Import pandas and rename it to pd.\n",
        "3. Import the pyplot function in the libraray of matplotlib and rename it to plt.\n",
        "\n",
        "References:\n",
        "- [numpy](www.numpy.org) is the fundamental package for scientific computing with Python.\n",
        "- [matplotlib](http://matplotlib.org) is a famous library to plot graphs in Python.\n",
        "\n",
        "**Attention:**\n",
        "1. After this renaming, you will use the new name to call functions. For example, **numpy** will become **np** in the following sections."
      ]
    },
    {
      "cell_type": "code",
      "execution_count": 1,
      "metadata": {
        "id": "9XsaCeKnrR-J"
      },
      "outputs": [],
      "source": [
        "#PID 5062063\n",
        "#Zachary Hull\n",
        "# Import and rename libraries here\n",
        "import numpy as np\n",
        "import pandas as pd\n",
        "from matplotlib import pyplot as plt"
      ]
    },
    {
      "cell_type": "markdown",
      "metadata": {
        "collapsed": true,
        "id": "iwi9_htDrR-K"
      },
      "source": [
        "### 1.2 - Data Preparation ##\n",
        "\n",
        "Prepare the data for regression task. **(20 Points)**\n",
        "\n",
        "**Tasks:**\n",
        "1. Load data for logistic regression.\n",
        "2. **Generate the SCATTER PLOT of the data**.\n",
        "\n",
        "**Hints:**\n",
        "1. The data file is \"data_logistic.csv\", which are exam scores for students.\n",
        "2. The data is organized by column: x1 (exam 1 score), x2 (exam 2 score), and label y (pass 1 or fail 0).\n",
        "3. Please use different colors for postive(label=1) and negative(label=0) data.\n",
        "4. An example of scatter plots is shown below.\n",
        "\n",
        "![](https://drive.google.com/uc?export=view&id=1CPv5s4W8SkUMa_sXCIz-NejSnFj-e1IH)"
      ]
    },
    {
      "cell_type": "code",
      "execution_count": 2,
      "metadata": {
        "colab": {
          "base_uri": "https://localhost:8080/",
          "height": 708
        },
        "id": "XzclXeWZrR-L",
        "outputId": "ba61bb31-9326-4d7b-9ec1-5d196b37894d"
      },
      "outputs": [
        {
          "output_type": "stream",
          "name": "stdout",
          "text": [
            "Mounted at /content/drive\n",
            "           x1         x2  label\n",
            "0   75.013658  30.603263      0\n",
            "1   55.482161  35.570703      0\n",
            "2   95.861555  38.225278      0\n",
            "3   93.114389  38.800670      0\n",
            "4   56.253817  39.261473      0\n",
            "..        ...        ...    ...\n",
            "75  78.635424  96.647427      1\n",
            "76  40.457551  97.535185      1\n",
            "77  69.364589  97.718692      1\n",
            "78  33.915500  98.869436      0\n",
            "79  39.538339  98.955421      0\n",
            "\n",
            "[80 rows x 3 columns]\n",
            "(80, 3)\n"
          ]
        },
        {
          "output_type": "display_data",
          "data": {
            "text/plain": [
              "<Figure size 640x480 with 1 Axes>"
            ],
            "image/png": "[encoded data removed]"
          },
          "metadata": {}
        }
      ],
      "source": [
        "# Preprocess input data and generate plots\n",
        "from google.colab import drive\n",
        "drive.mount('/content/drive')\n",
        "\n",
        "csv_name = '/content/drive/MyDrive/data_logistic.csv'\n",
        "with open(csv_name, 'r') as file:\n",
        "  df = pd.read_csv(csv_name)\n",
        "\n",
        "print(df)\n",
        "print(df.shape)\n",
        "\n",
        "pass_test = df[df[\"label\"] == 1]\n",
        "fail_test = df[df[\"label\"] == 0]\n",
        "\n",
        "x1 = df[\"x1\"].values\n",
        "x2 = df[\"x2\"].values\n",
        "x = np.column_stack((np.ones_like(x1), x1, x2))\n",
        "y = df[\"label\"].values\n",
        "\n",
        "plt.scatter(pass_test[\"x1\"], pass_test[\"x2\"], color=\"Red\", label=\"Positive\")\n",
        "plt.scatter(fail_test[\"x1\"], fail_test[\"x2\"], color=\"Blue\", label=\"Negative\")\n",
        "plt.legend()\n",
        "plt.show()"
      ]
    },
    {
      "cell_type": "markdown",
      "metadata": {
        "id": "8lmPoYpBrR-L"
      },
      "source": [
        "### 1.3 - Sigmoid function ##\n",
        "\n",
        "\n",
        "Implement sigmoid function so it can be called by the rest of your program. **(20 Points)**\n",
        "\n",
        "**Tasks:**\n",
        "1. Implement the sigmoid function (**def sigmoid(z):**).\n",
        "2. Test the sigmoid function by function **plotting** with test data (X, Y) where Y = sigmoid(X).\n",
        "\n",
        "**Hints:**  \n",
        "1. Given the class material, sigmoid function is defined as:\n",
        "$g(z) = \\frac{1}{1+e^{-z}}$.\n",
        "2. You may consider X = np.linspace(-5, 5, 1000) to plot the curve.\n",
        "3. Plot Y against X.\n",
        "4. An example of plot for validation is shown below:\n",
        "\n",
        "![](https://drive.google.com/uc?export=view&id=18j5oHdw78uVm2WwHsdIb4hwhpXDxR37S)"
      ]
    },
    {
      "cell_type": "code",
      "execution_count": 3,
      "metadata": {
        "id": "_NkUESIBrR-L"
      },
      "outputs": [],
      "source": [
        "# Implement sigmoid fuction here\n",
        "def sigmoid(z):\n",
        "  result = 1 / (1 + np.exp(-z))\n",
        "  return result\n"
      ]
    },
    {
      "cell_type": "code",
      "execution_count": 4,
      "metadata": {
        "colab": {
          "base_uri": "https://localhost:8080/",
          "height": 430
        },
        "id": "lsZ8Du2GrR-M",
        "outputId": "08689d31-5a2a-44c0-8f66-1e74946446b9"
      },
      "outputs": [
        {
          "output_type": "display_data",
          "data": {
            "text/plain": [
              "<Figure size 640x480 with 1 Axes>"
            ],
            "image/png": "[encoded data removed]"
          },
          "metadata": {}
        }
      ],
      "source": [
        "# Plot data here\n",
        "X = np.linspace(-5, 5, 1000)\n",
        "Y = sigmoid(X)\n",
        "plt.plot(X, Y)\n",
        "plt.show()"
      ]
    },
    {
      "cell_type": "markdown",
      "metadata": {
        "id": "EezM4rQfrR-M"
      },
      "source": [
        "### 1.4 - Cost function and gradient ##\n",
        "\n",
        "Implement the cross entropy cost function and its gradient for logistic regression. **(30 Points)**\n",
        "\n",
        "**Tasks:**\n",
        "1. Implement the \"cal_cost\" to compute the cost.\n",
        "2. Implement the \"cal_grad\" to compute the gradients.\n",
        "3. Test \"cal_cost\" and \"cal_grad\" with initial values and print out the results.\n",
        "\n",
        "**Hint:**\n",
        "1. The cross entropy cost function (J(θ)) in logistic regression is shown below. It involves two terms, including ylog(h) and (1-y)log(1-h) where h is the function of x.\n",
        "\n",
        "![](https://drive.google.com/uc?export=view&id=1xLhlPFI4wekwuA7lFm7ebRVt0XBZk3e7)\n",
        "\n",
        "2. The gradient of the cost J(θ) is a vector of the same length as θ where the $j$th element (for $j = 0, 1, . . . , n)$ is defined below. You may do a hand calculation to justify the first order derivative with the term above.\n",
        "\n",
        "![](https://drive.google.com/uc?export=view&id=1xfA0A0xyRv2L5JZIdedAmEZxZ3DwpOCF)\n",
        "\n",
        "3. When you implement J(θ), please use eps = 1e-15 to prevent possible \"divide by 0 exception\" in second term. You may think about the reason.\n",
        "4. You may consider the below templates for two functions:\n",
        "\n",
        "    def cal_cost(theta, X, y):\n",
        "\n",
        "        htheta = ...\n",
        "        term1 = ...  /* matrix_multiplication(log(htheta), y)\n",
        "        term2 = ...  /* matrix_multiplication(log(1-htheta+eps), (1-y))\n",
        "        J = - 1 / m * (term1 + term2)\n",
        "        \n",
        "        return cost\n",
        "        \n",
        "    \n",
        "    def cal_grad(theta, X, y):\n",
        "        \n",
        "        htheta = ...\n",
        "        term1 = ... /* matrix_multiplication(transpose(X), (htheta - y))  //you may think about why transpose(x)\n",
        "        grad = 1 / m * term1\n",
        "    \n",
        "        return grad\n",
        "5. It involves matrix multiplication and you may consider the function of np.matmul or np.dot.   \n",
        "        \n",
        "6. Initialize the intercept term (constant term) with **ones** and the theta with **zeros**. Test the functions with these initial values. \\\n",
        "    **Expected outputs:**\\\n",
        "    Cost at initial theta : 0.6931471805599445\\\n",
        "    Gradient at inital theta : [-0.1        -10.91242026 -11.73652937]\n"
      ]
    },
    {
      "cell_type": "code",
      "execution_count": 17,
      "metadata": {
        "colab": {
          "base_uri": "https://localhost:8080/"
        },
        "id": "0gdK7LEurR-O",
        "outputId": "476937f8-8f1c-4c7f-d308-395c4c3b4261"
      },
      "outputs": [
        {
          "output_type": "stream",
          "name": "stdout",
          "text": [
            "cost at initial theta:  0.6931471805599445\n",
            "gradient at initial theta:  [ -0.1        -10.91242026 -11.73652937]\n"
          ]
        }
      ],
      "source": [
        "# Implement the cost function here\n",
        "def cal_cost(theta, X, y):\n",
        "  m = len(y)\n",
        "  eps = 1e-15\n",
        "  htheta = sigmoid(np.dot(X, theta))\n",
        "  term1 = np.dot(np.log(htheta), y)\n",
        "  term2 = np.dot(np.log(1 - htheta + eps), (1 - y))\n",
        "\n",
        "  cost = -1 / m * (term1 + term2)\n",
        "  return cost\n",
        "\n",
        "def cal_grad(theta, X, y):\n",
        "  m = len(y)\n",
        "  htheta = sigmoid(np.dot(X, theta))\n",
        "  term1 = np.dot(X.T, (htheta - y))\n",
        "  grad = 1 / m * term1\n",
        "  return grad\n",
        "\n",
        "theta = np.zeros(x[1].shape)\n",
        "cost = cal_cost(theta, x, y)\n",
        "print(\"cost at initial theta: \", cost)\n",
        "grad = cal_grad(theta, x, y)\n",
        "print(\"gradient at initial theta: \", grad)"
      ]
    },
    {
      "cell_type": "markdown",
      "metadata": {
        "id": "MYRvgcOIrR-O"
      },
      "source": [
        "## 1.5 Train parameters with Gradient Descent ##\n",
        "\n",
        "\n",
        "Train parameters using Gradient Descent. **(15 Points)**\n",
        "\n",
        "**Tasks:**\n",
        "1. Calculate best fit theta by Gradient Descent with learning rate of **0.001 (1e-3)** and epoch of **80K**. The initial theta from above blocks is used as initial values.\n",
        "2. Print out the best theta (the last one is considered as the best here) and its corresponding cost.\n",
        "3. **Plot the decision boundary**.\n",
        "\n",
        "**Hints:**\n",
        "1. You may take gradient descent in homework 1 as an template.\n",
        "2. Derive the boundary line from **sigmoid(theta[0]+ X1 * theta[1] + X2* theta[2])=0.5**. Think about why we get the line by setting **the activated probability to 0.5**. Also, try to calculate the final relationship between X1 and X2. When sigmoid(X) = 0.5, what is the value of x? Check the generated plot in 1.3.\n",
        "3. The validation of first 5 epochs (updated theta and cost): \\\n",
        "------Epoch 0------\\\n",
        "Theta: [0.0001     0.01091242 0.01173653]\\\n",
        "Cost: 0.6996118077359638\\\n",
        "------Epoch 1------\\\n",
        "Theta: [-0.0001129   0.00053949  0.00229352]\\\n",
        "Cost: 0.6649331468590681\\\n",
        "------Epoch 2------\\\n",
        "Theta: [-5.93604956e-05  8.33145873e-03  1.07754324e-02]\\\n",
        "Cost: 0.6679914364992459\\\n",
        "------Epoch 3------\\\n",
        "Theta: [-0.0002356   0.0004607   0.00370829]\\\n",
        "Cost: 0.6545873034874964\\\n",
        "------Epoch 4------\\\n",
        "Theta: [-0.00020363  0.00683227  0.01065138]\\\n",
        "Cost: 0.6563302142684528\n",
        "4. You may take the plots below as an exmample:\n",
        "\n",
        "![](https://drive.google.com/uc?export=view&id=1xLg9LrIF888gGXj3zRAG9iJLsyAmgPQg)\n",
        "\n",
        "5. It may take ~1 min to finish running."
      ]
    },
    {
      "cell_type": "code",
      "execution_count": 18,
      "metadata": {
        "id": "9ciPHuXLrR-P",
        "colab": {
          "base_uri": "https://localhost:8080/"
        },
        "outputId": "abaa4fbc-6ca3-4271-d6f9-70d72780469c"
      },
      "outputs": [
        {
          "output_type": "stream",
          "name": "stdout",
          "text": [
            "theta: [ 0.03598226 -0.00028154 -0.00026767]\n",
            "cost: 0.43839024368793944\n"
          ]
        }
      ],
      "source": [
        "# Gradient Descent Implementation Here\n",
        "lr = 0.001\n",
        "epoch = 80000\n",
        "theta = np.zeros(x[1].shape)\n",
        "\n",
        "for i in range(epoch):\n",
        "  grad = cal_grad(theta, x, y)\n",
        "  cost = cal_cost(theta, x, y)\n",
        "  theta -= lr * grad\n",
        "\n",
        "print(f\"theta: {grad}\")\n",
        "print(f\"cost: {cost}\")"
      ]
    },
    {
      "cell_type": "code",
      "execution_count": 19,
      "metadata": {
        "id": "M-Smcl0trR-Q",
        "colab": {
          "base_uri": "https://localhost:8080/",
          "height": 430
        },
        "outputId": "847d0843-0513-4c05-88b4-03e737489253"
      },
      "outputs": [
        {
          "output_type": "display_data",
          "data": {
            "text/plain": [
              "<Figure size 640x480 with 1 Axes>"
            ],
            "image/png": "[encoded data removed]"
          },
          "metadata": {}
        }
      ],
      "source": [
        "# Draw Decision Boundary Here\n",
        "theta_final = theta\n",
        "cost_final = cost\n",
        "x1_vals = np.linspace(min(x1), max(x1), 100)\n",
        "x2_vals = -(theta_final[0] + theta_final[1] * x1_vals) / theta_final[2]\n",
        "\n",
        "plt.scatter(pass_test[\"x1\"], pass_test[\"x2\"], color=\"Red\", label=\"Positive\")\n",
        "plt.scatter(fail_test[\"x1\"], fail_test[\"x2\"], color=\"Blue\", label=\"Negative\")\n",
        "plt.plot(x1_vals, x2_vals, color='green')\n",
        "plt.legend()\n",
        "plt.show()"
      ]
    },
    {
      "cell_type": "markdown",
      "metadata": {
        "id": "eLnt6xIbrR-Q"
      },
      "source": [
        "\n",
        "### 1.6 Evaluating Logistic Regression\n",
        "\n",
        "Evaluate the model with given data. **(15 Points)**\n",
        "\n",
        "**Tasks:**\n",
        "1. Calculate the training accuracy and **PRINT IT OUT**.\n",
        "2. Evaluate the predicted probability of the learnt model with x1 = 56 and x2 = 32 and **PRINT IT OUT**.\n",
        "\n",
        "\n",
        "**Hints:**  \n",
        "1. Positive(prediction>0.5) and negative(prediction<=0.5).\n",
        "2. The prediction results are based on acceptance probability. Given the two exam scores, we expected the model yields either high probability of \"fail\" or low probability of \"pass\".\n",
        "3. Training accuracy should be around **85%**."
      ]
    },
    {
      "cell_type": "code",
      "execution_count": 21,
      "metadata": {
        "id": "hLO2yltvrR-Q",
        "colab": {
          "base_uri": "https://localhost:8080/"
        },
        "outputId": "f1ff410b-7520-422a-bd70-c69cc5707030"
      },
      "outputs": [
        {
          "output_type": "stream",
          "name": "stdout",
          "text": [
            "Accuracy: 85.0\n",
            "Predicted probability of pass with x1 = 56 and x2 = 32: 0.2742666161817613\n"
          ]
        }
      ],
      "source": [
        "# Evaluate the model\n",
        "probabilities = sigmoid(np.dot(x, theta_final))\n",
        "prediction = (probabilities > 0.5)\n",
        "\n",
        "accuracy = np.mean(prediction == y) * 100\n",
        "print(f\"Accuracy: {accuracy}\")\n",
        "x_test = np.array([1, 56, 32])\n",
        "prob = sigmoid(np.dot(x_test, theta))\n",
        "print(f\"Predicted probability of pass with x1 = 56 and x2 = 32: {prob}\")"
      ]
    }
  ],
  "metadata": {
    "coursera": {
      "course_slug": "neural-networks-deep-learning",
      "graded_item_id": "XaIWT",
      "launcher_item_id": "zAgPl"
    },
    "kernelspec": {
      "display_name": "Python 3",
      "language": "python",
      "name": "python3"
    },
    "language_info": {
      "codemirror_mode": {
        "name": "ipython",
        "version": 3
      },
      "file_extension": ".py",
      "mimetype": "text/x-python",
      "name": "python",
      "nbconvert_exporter": "python",
      "pygments_lexer": "ipython3",
      "version": "3.8.5"
    },
    "colab": {
      "provenance": []
    }
  },
  "nbformat": 4,
  "nbformat_minor": 0
}