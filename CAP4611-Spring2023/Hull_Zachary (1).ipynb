{
  "nbformat": 4,
  "nbformat_minor": 0,
  "metadata": {
    "colab": {
      "provenance": [],
      "collapsed_sections": [
        "awGVHHvHdrSl",
        "7SljwTh_IhBa"
      ]
    },
    "kernelspec": {
      "name": "python3",
      "display_name": "Python 3"
    },
    "language_info": {
      "name": "python"
    }
  },
  "cells": [
    {
      "cell_type": "markdown",
      "source": [
        "# This jupyter notebook is prepared by “Zachary Hull”."
      ],
      "metadata": {
        "id": "spL0XEtgujEq"
      }
    },
    {
      "cell_type": "markdown",
      "source": [
        "### 1. Run the block below to upload the dataset. (Note that the file list gets refreshed every time your runtime is disconnected. Simply run this when you return to upload the file again using the files API. Once you run, it should wait for you to upload the file. (1pt) "
      ],
      "metadata": {
        "id": "z0RatGCRZYX4"
      }
    },
    {
      "cell_type": "code",
      "execution_count": 1,
      "metadata": {
        "colab": {
          "base_uri": "https://localhost:8080/",
          "height": 73
        },
        "id": "zP5kvG6TAEuN",
        "outputId": "dfd9c2ee-5c7e-4617-e269-69ae71d4c26e"
      },
      "outputs": [
        {
          "output_type": "display_data",
          "data": {
            "text/plain": [
              "<IPython.core.display.HTML object>"
            ],
            "text/html": [
              "\n",
              "     <input type=\"file\" id=\"files-d6247e75-1bbb-45b0-9dcb-aa545347e9d0\" name=\"files[]\" multiple disabled\n",
              "        style=\"border:none\" />\n",
              "     <output id=\"result-d6247e75-1bbb-45b0-9dcb-aa545347e9d0\">\n",
              "      Upload widget is only available when the cell has been executed in the\n",
              "      current browser session. Please rerun this cell to enable.\n",
              "      </output>\n",
              "      <script>// Copyright 2017 Google LLC\n",
              "//\n",
              "// Licensed under the Apache License, Version 2.0 (the \"License\");\n",
              "// you may not use this file except in compliance with the License.\n",
              "// You may obtain a copy of the License at\n",
              "//\n",
              "//      http://www.apache.org/licenses/LICENSE-2.0\n",
              "//\n",
              "// Unless required by applicable law or agreed to in writing, software\n",
              "// distributed under the License is distributed on an \"AS IS\" BASIS,\n",
              "// WITHOUT WARRANTIES OR CONDITIONS OF ANY KIND, either express or implied.\n",
              "// See the License for the specific language governing permissions and\n",
              "// limitations under the License.\n",
              "\n",
              "/**\n",
              " * @fileoverview Helpers for google.colab Python module.\n",
              " */\n",
              "(function(scope) {\n",
              "function span(text, styleAttributes = {}) {\n",
              "  const element = document.createElement('span');\n",
              "  element.textContent = text;\n",
              "  for (const key of Object.keys(styleAttributes)) {\n",
              "    element.style[key] = styleAttributes[key];\n",
              "  }\n",
              "  return element;\n",
              "}\n",
              "\n",
              "// Max number of bytes which will be uploaded at a time.\n",
              "const MAX_PAYLOAD_SIZE = 100 * 1024;\n",
              "\n",
              "function _uploadFiles(inputId, outputId) {\n",
              "  const steps = uploadFilesStep(inputId, outputId);\n",
              "  const outputElement = document.getElementById(outputId);\n",
              "  // Cache steps on the outputElement to make it available for the next call\n",
              "  // to uploadFilesContinue from Python.\n",
              "  outputElement.steps = steps;\n",
              "\n",
              "  return _uploadFilesContinue(outputId);\n",
              "}\n",
              "\n",
              "// This is roughly an async generator (not supported in the browser yet),\n",
              "// where there are multiple asynchronous steps and the Python side is going\n",
              "// to poll for completion of each step.\n",
              "// This uses a Promise to block the python side on completion of each step,\n",
              "// then passes the result of the previous step as the input to the next step.\n",
              "function _uploadFilesContinue(outputId) {\n",
              "  const outputElement = document.getElementById(outputId);\n",
              "  const steps = outputElement.steps;\n",
              "\n",
              "  const next = steps.next(outputElement.lastPromiseValue);\n",
              "  return Promise.resolve(next.value.promise).then((value) => {\n",
              "    // Cache the last promise value to make it available to the next\n",
              "    // step of the generator.\n",
              "    outputElement.lastPromiseValue = value;\n",
              "    return next.value.response;\n",
              "  });\n",
              "}\n",
              "\n",
              "/**\n",
              " * Generator function which is called between each async step of the upload\n",
              " * process.\n",
              " * @param {string} inputId Element ID of the input file picker element.\n",
              " * @param {string} outputId Element ID of the output display.\n",
              " * @return {!Iterable<!Object>} Iterable of next steps.\n",
              " */\n",
              "function* uploadFilesStep(inputId, outputId) {\n",
              "  const inputElement = document.getElementById(inputId);\n",
              "  inputElement.disabled = false;\n",
              "\n",
              "  const outputElement = document.getElementById(outputId);\n",
              "  outputElement.innerHTML = '';\n",
              "\n",
              "  const pickedPromise = new Promise((resolve) => {\n",
              "    inputElement.addEventListener('change', (e) => {\n",
              "      resolve(e.target.files);\n",
              "    });\n",
              "  });\n",
              "\n",
              "  const cancel = document.createElement('button');\n",
              "  inputElement.parentElement.appendChild(cancel);\n",
              "  cancel.textContent = 'Cancel upload';\n",
              "  const cancelPromise = new Promise((resolve) => {\n",
              "    cancel.onclick = () => {\n",
              "      resolve(null);\n",
              "    };\n",
              "  });\n",
              "\n",
              "  // Wait for the user to pick the files.\n",
              "  const files = yield {\n",
              "    promise: Promise.race([pickedPromise, cancelPromise]),\n",
              "    response: {\n",
              "      action: 'starting',\n",
              "    }\n",
              "  };\n",
              "\n",
              "  cancel.remove();\n",
              "\n",
              "  // Disable the input element since further picks are not allowed.\n",
              "  inputElement.disabled = true;\n",
              "\n",
              "  if (!files) {\n",
              "    return {\n",
              "      response: {\n",
              "        action: 'complete',\n",
              "      }\n",
              "    };\n",
              "  }\n",
              "\n",
              "  for (const file of files) {\n",
              "    const li = document.createElement('li');\n",
              "    li.append(span(file.name, {fontWeight: 'bold'}));\n",
              "    li.append(span(\n",
              "        `(${file.type || 'n/a'}) - ${file.size} bytes, ` +\n",
              "        `last modified: ${\n",
              "            file.lastModifiedDate ? file.lastModifiedDate.toLocaleDateString() :\n",
              "                                    'n/a'} - `));\n",
              "    const percent = span('0% done');\n",
              "    li.appendChild(percent);\n",
              "\n",
              "    outputElement.appendChild(li);\n",
              "\n",
              "    const fileDataPromise = new Promise((resolve) => {\n",
              "      const reader = new FileReader();\n",
              "      reader.onload = (e) => {\n",
              "        resolve(e.target.result);\n",
              "      };\n",
              "      reader.readAsArrayBuffer(file);\n",
              "    });\n",
              "    // Wait for the data to be ready.\n",
              "    let fileData = yield {\n",
              "      promise: fileDataPromise,\n",
              "      response: {\n",
              "        action: 'continue',\n",
              "      }\n",
              "    };\n",
              "\n",
              "    // Use a chunked sending to avoid message size limits. See b/62115660.\n",
              "    let position = 0;\n",
              "    do {\n",
              "      const length = Math.min(fileData.byteLength - position, MAX_PAYLOAD_SIZE);\n",
              "      const chunk = new Uint8Array(fileData, position, length);\n",
              "      position += length;\n",
              "\n",
              "      const base64 = btoa(String.fromCharCode.apply(null, chunk));\n",
              "      yield {\n",
              "        response: {\n",
              "          action: 'append',\n",
              "          file: file.name,\n",
              "          data: base64,\n",
              "        },\n",
              "      };\n",
              "\n",
              "      let percentDone = fileData.byteLength === 0 ?\n",
              "          100 :\n",
              "          Math.round((position / fileData.byteLength) * 100);\n",
              "      percent.textContent = `${percentDone}% done`;\n",
              "\n",
              "    } while (position < fileData.byteLength);\n",
              "  }\n",
              "\n",
              "  // All done.\n",
              "  yield {\n",
              "    response: {\n",
              "      action: 'complete',\n",
              "    }\n",
              "  };\n",
              "}\n",
              "\n",
              "scope.google = scope.google || {};\n",
              "scope.google.colab = scope.google.colab || {};\n",
              "scope.google.colab._files = {\n",
              "  _uploadFiles,\n",
              "  _uploadFilesContinue,\n",
              "};\n",
              "})(self);\n",
              "</script> "
            ]
          },
          "metadata": {}
        },
        {
          "output_type": "stream",
          "name": "stdout",
          "text": [
            "Saving startup_info_.csv to startup_info_.csv\n"
          ]
        }
      ],
      "source": [
        "from google.colab import files\n",
        "uploaded = files.upload()"
      ]
    },
    {
      "cell_type": "markdown",
      "source": [
        "### 2. Import numpy, pandas, matplotlib.pyplot and seaborn packages. (2pt)\n",
        "###### If you need additional packages, you can import it on the go in any code-block below."
      ],
      "metadata": {
        "id": "51riiwHpZdGU"
      }
    },
    {
      "cell_type": "code",
      "source": [
        "#TODO\n",
        "import matplotlib.pyplot as plt\n",
        "import numpy as np\n",
        "import pandas as pd\n",
        "import seaborn as sns"
      ],
      "metadata": {
        "id": "Af42g4HJA0EJ"
      },
      "execution_count": 2,
      "outputs": []
    },
    {
      "cell_type": "markdown",
      "source": [
        "### 3. Import the dataset into a pandas dataframe. Then report how many rows and columns are present in the dataset. (2pt)"
      ],
      "metadata": {
        "id": "tgpSxPZLa3S7"
      }
    },
    {
      "cell_type": "code",
      "source": [
        "#TODO\n",
        "df = pd.read_csv('/content/startup_info_.csv')"
      ],
      "metadata": {
        "id": "dd4FeivqA7wn"
      },
      "execution_count": 3,
      "outputs": []
    },
    {
      "cell_type": "markdown",
      "source": [
        "### 4. Call the describe method to see summary statistics of the numerical attribute columns. (1pt)"
      ],
      "metadata": {
        "id": "DhrdsUo3Z3ic"
      }
    },
    {
      "cell_type": "code",
      "source": [
        "#TODO\n",
        "df.describe()"
      ],
      "metadata": {
        "id": "JzD8fzg2a1PV",
        "colab": {
          "base_uri": "https://localhost:8080/",
          "height": 364
        },
        "outputId": "639b05cf-21f8-4689-c8c1-3409f373c719"
      },
      "execution_count": 4,
      "outputs": [
        {
          "output_type": "execute_result",
          "data": {
            "text/plain": [
              "        Unnamed: 0    latitude   longitude      labels  \\\n",
              "count   923.000000  923.000000  923.000000  923.000000   \n",
              "mean    572.297941   38.517442 -103.539212    0.646804   \n",
              "std     333.585431    3.741497   22.394167    0.478222   \n",
              "min       1.000000   25.752358 -122.756956    0.000000   \n",
              "25%     283.500000   37.388869 -122.198732    0.000000   \n",
              "50%     577.000000   37.779281 -118.374037    1.000000   \n",
              "75%     866.500000   40.730646  -77.214731    1.000000   \n",
              "max    1153.000000   59.335232   18.057121    1.000000   \n",
              "\n",
              "       age_first_funding_year  age_last_funding_year  \\\n",
              "count              923.000000             923.000000   \n",
              "mean                 2.235630               3.931456   \n",
              "std                  2.510449               2.967910   \n",
              "min                 -9.046600              -9.046600   \n",
              "25%                  0.576700               1.669850   \n",
              "50%                  1.446600               3.528800   \n",
              "75%                  3.575350               5.560250   \n",
              "max                 21.895900              21.895900   \n",
              "\n",
              "       age_first_milestone_year  age_last_milestone_year  relationships  \\\n",
              "count                771.000000               771.000000     923.000000   \n",
              "mean                   3.055353                 4.754423       7.710726   \n",
              "std                    2.977057                 3.212107       7.265776   \n",
              "min                  -14.169900                -7.005500       0.000000   \n",
              "25%                    1.000000                 2.411000       3.000000   \n",
              "50%                    2.520500                 4.476700       5.000000   \n",
              "75%                    4.686300                 6.753400      10.000000   \n",
              "max                   24.684900                24.684900      63.000000   \n",
              "\n",
              "       funding_rounds  funding_total_usd  milestones  avg_participants  \\\n",
              "count      923.000000       9.230000e+02  923.000000        923.000000   \n",
              "mean         2.310943       2.541975e+07    1.841820          2.838586   \n",
              "std          1.390922       1.896344e+08    1.322632          1.874601   \n",
              "min          1.000000       1.100000e+04    0.000000          1.000000   \n",
              "25%          1.000000       2.725000e+06    1.000000          1.500000   \n",
              "50%          2.000000       1.000000e+07    2.000000          2.500000   \n",
              "75%          3.000000       2.472500e+07    3.000000          3.800000   \n",
              "max         10.000000       5.700000e+09    8.000000         16.000000   \n",
              "\n",
              "        is_top500  \n",
              "count  923.000000  \n",
              "mean     0.809317  \n",
              "std      0.393052  \n",
              "min      0.000000  \n",
              "25%      1.000000  \n",
              "50%      1.000000  \n",
              "75%      1.000000  \n",
              "max      1.000000  "
            ],
            "text/html": [
              "\n",
              "  <div id=\"df-ea06c357-832d-47bc-8f9a-77a00f4d6759\">\n",
              "    <div class=\"colab-df-container\">\n",
              "      <div>\n",
              "<style scoped>\n",
              "    .dataframe tbody tr th:only-of-type {\n",
              "        vertical-align: middle;\n",
              "    }\n",
              "\n",
              "    .dataframe tbody tr th {\n",
              "        vertical-align: top;\n",
              "    }\n",
              "\n",
              "    .dataframe thead th {\n",
              "        text-align: right;\n",
              "    }\n",
              "</style>\n",
              "<table border=\"1\" class=\"dataframe\">\n",
              "  <thead>\n",
              "    <tr style=\"text-align: right;\">\n",
              "      <th></th>\n",
              "      <th>Unnamed: 0</th>\n",
              "      <th>latitude</th>\n",
              "      <th>longitude</th>\n",
              "      <th>labels</th>\n",
              "      <th>age_first_funding_year</th>\n",
              "      <th>age_last_funding_year</th>\n",
              "      <th>age_first_milestone_year</th>\n",
              "      <th>age_last_milestone_year</th>\n",
              "      <th>relationships</th>\n",
              "      <th>funding_rounds</th>\n",
              "      <th>funding_total_usd</th>\n",
              "      <th>milestones</th>\n",
              "      <th>avg_participants</th>\n",
              "      <th>is_top500</th>\n",
              "    </tr>\n",
              "  </thead>\n",
              "  <tbody>\n",
              "    <tr>\n",
              "      <th>count</th>\n",
              "      <td>923.000000</td>\n",
              "      <td>923.000000</td>\n",
              "      <td>923.000000</td>\n",
              "      <td>923.000000</td>\n",
              "      <td>923.000000</td>\n",
              "      <td>923.000000</td>\n",
              "      <td>771.000000</td>\n",
              "      <td>771.000000</td>\n",
              "      <td>923.000000</td>\n",
              "      <td>923.000000</td>\n",
              "      <td>9.230000e+02</td>\n",
              "      <td>923.000000</td>\n",
              "      <td>923.000000</td>\n",
              "      <td>923.000000</td>\n",
              "    </tr>\n",
              "    <tr>\n",
              "      <th>mean</th>\n",
              "      <td>572.297941</td>\n",
              "      <td>38.517442</td>\n",
              "      <td>-103.539212</td>\n",
              "      <td>0.646804</td>\n",
              "      <td>2.235630</td>\n",
              "      <td>3.931456</td>\n",
              "      <td>3.055353</td>\n",
              "      <td>4.754423</td>\n",
              "      <td>7.710726</td>\n",
              "      <td>2.310943</td>\n",
              "      <td>2.541975e+07</td>\n",
              "      <td>1.841820</td>\n",
              "      <td>2.838586</td>\n",
              "      <td>0.809317</td>\n",
              "    </tr>\n",
              "    <tr>\n",
              "      <th>std</th>\n",
              "      <td>333.585431</td>\n",
              "      <td>3.741497</td>\n",
              "      <td>22.394167</td>\n",
              "      <td>0.478222</td>\n",
              "      <td>2.510449</td>\n",
              "      <td>2.967910</td>\n",
              "      <td>2.977057</td>\n",
              "      <td>3.212107</td>\n",
              "      <td>7.265776</td>\n",
              "      <td>1.390922</td>\n",
              "      <td>1.896344e+08</td>\n",
              "      <td>1.322632</td>\n",
              "      <td>1.874601</td>\n",
              "      <td>0.393052</td>\n",
              "    </tr>\n",
              "    <tr>\n",
              "      <th>min</th>\n",
              "      <td>1.000000</td>\n",
              "      <td>25.752358</td>\n",
              "      <td>-122.756956</td>\n",
              "      <td>0.000000</td>\n",
              "      <td>-9.046600</td>\n",
              "      <td>-9.046600</td>\n",
              "      <td>-14.169900</td>\n",
              "      <td>-7.005500</td>\n",
              "      <td>0.000000</td>\n",
              "      <td>1.000000</td>\n",
              "      <td>1.100000e+04</td>\n",
              "      <td>0.000000</td>\n",
              "      <td>1.000000</td>\n",
              "      <td>0.000000</td>\n",
              "    </tr>\n",
              "    <tr>\n",
              "      <th>25%</th>\n",
              "      <td>283.500000</td>\n",
              "      <td>37.388869</td>\n",
              "      <td>-122.198732</td>\n",
              "      <td>0.000000</td>\n",
              "      <td>0.576700</td>\n",
              "      <td>1.669850</td>\n",
              "      <td>1.000000</td>\n",
              "      <td>2.411000</td>\n",
              "      <td>3.000000</td>\n",
              "      <td>1.000000</td>\n",
              "      <td>2.725000e+06</td>\n",
              "      <td>1.000000</td>\n",
              "      <td>1.500000</td>\n",
              "      <td>1.000000</td>\n",
              "    </tr>\n",
              "    <tr>\n",
              "      <th>50%</th>\n",
              "      <td>577.000000</td>\n",
              "      <td>37.779281</td>\n",
              "      <td>-118.374037</td>\n",
              "      <td>1.000000</td>\n",
              "      <td>1.446600</td>\n",
              "      <td>3.528800</td>\n",
              "      <td>2.520500</td>\n",
              "      <td>4.476700</td>\n",
              "      <td>5.000000</td>\n",
              "      <td>2.000000</td>\n",
              "      <td>1.000000e+07</td>\n",
              "      <td>2.000000</td>\n",
              "      <td>2.500000</td>\n",
              "      <td>1.000000</td>\n",
              "    </tr>\n",
              "    <tr>\n",
              "      <th>75%</th>\n",
              "      <td>866.500000</td>\n",
              "      <td>40.730646</td>\n",
              "      <td>-77.214731</td>\n",
              "      <td>1.000000</td>\n",
              "      <td>3.575350</td>\n",
              "      <td>5.560250</td>\n",
              "      <td>4.686300</td>\n",
              "      <td>6.753400</td>\n",
              "      <td>10.000000</td>\n",
              "      <td>3.000000</td>\n",
              "      <td>2.472500e+07</td>\n",
              "      <td>3.000000</td>\n",
              "      <td>3.800000</td>\n",
              "      <td>1.000000</td>\n",
              "    </tr>\n",
              "    <tr>\n",
              "      <th>max</th>\n",
              "      <td>1153.000000</td>\n",
              "      <td>59.335232</td>\n",
              "      <td>18.057121</td>\n",
              "      <td>1.000000</td>\n",
              "      <td>21.895900</td>\n",
              "      <td>21.895900</td>\n",
              "      <td>24.684900</td>\n",
              "      <td>24.684900</td>\n",
              "      <td>63.000000</td>\n",
              "      <td>10.000000</td>\n",
              "      <td>5.700000e+09</td>\n",
              "      <td>8.000000</td>\n",
              "      <td>16.000000</td>\n",
              "      <td>1.000000</td>\n",
              "    </tr>\n",
              "  </tbody>\n",
              "</table>\n",
              "</div>\n",
              "      <button class=\"colab-df-convert\" onclick=\"convertToInteractive('df-ea06c357-832d-47bc-8f9a-77a00f4d6759')\"\n",
              "              title=\"Convert this dataframe to an interactive table.\"\n",
              "              style=\"display:none;\">\n",
              "        \n",
              "  <svg xmlns=\"http://www.w3.org/2000/svg\" height=\"24px\"viewBox=\"0 0 24 24\"\n",
              "       width=\"24px\">\n",
              "    <path d=\"M0 0h24v24H0V0z\" fill=\"none\"/>\n",
              "    <path d=\"M18.56 5.44l.94 2.06.94-2.06 2.06-.94-2.06-.94-.94-2.06-.94 2.06-2.06.94zm-11 1L8.5 8.5l.94-2.06 2.06-.94-2.06-.94L8.5 2.5l-.94 2.06-2.06.94zm10 10l.94 2.06.94-2.06 2.06-.94-2.06-.94-.94-2.06-.94 2.06-2.06.94z\"/><path d=\"M17.41 7.96l-1.37-1.37c-.4-.4-.92-.59-1.43-.59-.52 0-1.04.2-1.43.59L10.3 9.45l-7.72 7.72c-.78.78-.78 2.05 0 2.83L4 21.41c.39.39.9.59 1.41.59.51 0 1.02-.2 1.41-.59l7.78-7.78 2.81-2.81c.8-.78.8-2.07 0-2.86zM5.41 20L4 18.59l7.72-7.72 1.47 1.35L5.41 20z\"/>\n",
              "  </svg>\n",
              "      </button>\n",
              "      \n",
              "  <style>\n",
              "    .colab-df-container {\n",
              "      display:flex;\n",
              "      flex-wrap:wrap;\n",
              "      gap: 12px;\n",
              "    }\n",
              "\n",
              "    .colab-df-convert {\n",
              "      background-color: #E8F0FE;\n",
              "      border: none;\n",
              "      border-radius: 50%;\n",
              "      cursor: pointer;\n",
              "      display: none;\n",
              "      fill: #1967D2;\n",
              "      height: 32px;\n",
              "      padding: 0 0 0 0;\n",
              "      width: 32px;\n",
              "    }\n",
              "\n",
              "    .colab-df-convert:hover {\n",
              "      background-color: #E2EBFA;\n",
              "      box-shadow: 0px 1px 2px rgba(60, 64, 67, 0.3), 0px 1px 3px 1px rgba(60, 64, 67, 0.15);\n",
              "      fill: #174EA6;\n",
              "    }\n",
              "\n",
              "    [theme=dark] .colab-df-convert {\n",
              "      background-color: #3B4455;\n",
              "      fill: #D2E3FC;\n",
              "    }\n",
              "\n",
              "    [theme=dark] .colab-df-convert:hover {\n",
              "      background-color: #434B5C;\n",
              "      box-shadow: 0px 1px 3px 1px rgba(0, 0, 0, 0.15);\n",
              "      filter: drop-shadow(0px 1px 2px rgba(0, 0, 0, 0.3));\n",
              "      fill: #FFFFFF;\n",
              "    }\n",
              "  </style>\n",
              "\n",
              "      <script>\n",
              "        const buttonEl =\n",
              "          document.querySelector('#df-ea06c357-832d-47bc-8f9a-77a00f4d6759 button.colab-df-convert');\n",
              "        buttonEl.style.display =\n",
              "          google.colab.kernel.accessAllowed ? 'block' : 'none';\n",
              "\n",
              "        async function convertToInteractive(key) {\n",
              "          const element = document.querySelector('#df-ea06c357-832d-47bc-8f9a-77a00f4d6759');\n",
              "          const dataTable =\n",
              "            await google.colab.kernel.invokeFunction('convertToInteractive',\n",
              "                                                     [key], {});\n",
              "          if (!dataTable) return;\n",
              "\n",
              "          const docLinkHtml = 'Like what you see? Visit the ' +\n",
              "            '<a target=\"_blank\" href=https://colab.research.google.com/notebooks/data_table.ipynb>data table notebook</a>'\n",
              "            + ' to learn more about interactive tables.';\n",
              "          element.innerHTML = '';\n",
              "          dataTable['output_type'] = 'display_data';\n",
              "          await google.colab.output.renderOutput(dataTable, element);\n",
              "          const docLink = document.createElement('div');\n",
              "          docLink.innerHTML = docLinkHtml;\n",
              "          element.appendChild(docLink);\n",
              "        }\n",
              "      </script>\n",
              "    </div>\n",
              "  </div>\n",
              "  "
            ]
          },
          "metadata": {},
          "execution_count": 4
        }
      ]
    },
    {
      "cell_type": "markdown",
      "source": [
        "### 5.1 List all attribute columns (1pt)"
      ],
      "metadata": {
        "id": "cPzHm4hdaBjF"
      }
    },
    {
      "cell_type": "code",
      "source": [
        "#TODO\n",
        "list(df.columns)"
      ],
      "metadata": {
        "id": "51nRWYt1MZeH",
        "colab": {
          "base_uri": "https://localhost:8080/",
          "height": 0
        },
        "outputId": "2e3d4f99-3236-4419-bbe0-38d43e58a3d1"
      },
      "execution_count": 5,
      "outputs": [
        {
          "output_type": "execute_result",
          "data": {
            "text/plain": [
              "['Unnamed: 0',\n",
              " 'state_code',\n",
              " 'latitude',\n",
              " 'longitude',\n",
              " 'zip_code',\n",
              " 'id',\n",
              " 'city',\n",
              " 'Unnamed: 6',\n",
              " 'name',\n",
              " 'labels',\n",
              " 'founded_at',\n",
              " 'closed_at',\n",
              " 'first_funding_at',\n",
              " 'last_funding_at',\n",
              " 'age_first_funding_year',\n",
              " 'age_last_funding_year',\n",
              " 'age_first_milestone_year',\n",
              " 'age_last_milestone_year',\n",
              " 'relationships',\n",
              " 'funding_rounds',\n",
              " 'funding_total_usd',\n",
              " 'milestones',\n",
              " 'state_code.1',\n",
              " 'category_code',\n",
              " 'object_id',\n",
              " 'avg_participants',\n",
              " 'is_top500',\n",
              " 'status']"
            ]
          },
          "metadata": {},
          "execution_count": 5
        }
      ]
    },
    {
      "cell_type": "markdown",
      "source": [
        "## 5.2 The \"Unnamed: 0\",\"Unnamed: 6\", \"state_code.1\" and \"object_id\" feature columns are not useful. Drop them in-place. (1pt) "
      ],
      "metadata": {
        "id": "AwpzFvt8p00X"
      }
    },
    {
      "cell_type": "code",
      "source": [
        "#TODO\n",
        "df.drop(\"Unnamed: 0\", inplace=True, axis=1)\n",
        "df.drop(\"Unnamed: 6\", inplace=True, axis=1)\n",
        "df.drop(\"state_code.1\", inplace=True, axis=1)\n",
        "df.drop(\"object_id\", inplace=True, axis=1)"
      ],
      "metadata": {
        "id": "U4BQhFTwt4ht"
      },
      "execution_count": 6,
      "outputs": []
    },
    {
      "cell_type": "markdown",
      "source": [
        "## 6.1 Show all the numeric columns and save it to a new dataframe. (2pt)"
      ],
      "metadata": {
        "id": "VriCR3uJcqG3"
      }
    },
    {
      "cell_type": "code",
      "source": [
        "#TODO\n",
        "numdf = df.select_dtypes(include=np.number)\n",
        "print(numdf)"
      ],
      "metadata": {
        "id": "1d0OXYZJNU2i",
        "colab": {
          "base_uri": "https://localhost:8080/",
          "height": 0
        },
        "outputId": "7a8d152f-f09b-4e70-c561-86f3c4762980"
      },
      "execution_count": 7,
      "outputs": [
        {
          "output_type": "stream",
          "name": "stdout",
          "text": [
            "      latitude   longitude  labels  age_first_funding_year  \\\n",
            "0    42.358880  -71.056820       1                  2.2493   \n",
            "1    37.238916 -121.973718       1                  5.1260   \n",
            "2    32.901049 -117.192656       1                  1.0329   \n",
            "3    37.320309 -122.050040       1                  3.1315   \n",
            "4    37.779281 -122.419236       0                  0.0000   \n",
            "..         ...         ...     ...                     ...   \n",
            "918  37.740594 -122.376471       1                  0.5178   \n",
            "919  42.504817  -71.195611       0                  7.2521   \n",
            "920  37.408261 -122.015920       0                  8.4959   \n",
            "921  37.556732 -122.288378       1                  0.7589   \n",
            "922  37.386778 -121.966277       1                  3.1205   \n",
            "\n",
            "     age_last_funding_year  age_first_milestone_year  age_last_milestone_year  \\\n",
            "0                   3.0027                    4.6685                   6.7041   \n",
            "1                   9.9973                    7.0055                   7.0055   \n",
            "2                   1.0329                    1.4575                   2.2055   \n",
            "3                   5.3151                    6.0027                   6.0027   \n",
            "4                   1.6685                    0.0384                   0.0384   \n",
            "..                     ...                       ...                      ...   \n",
            "918                 0.5178                    0.5808                   4.5260   \n",
            "919                 9.2274                    6.0027                   6.0027   \n",
            "920                 8.4959                    9.0055                   9.0055   \n",
            "921                 2.8329                    0.7589                   3.8356   \n",
            "922                 3.1205                    4.0027                   4.0027   \n",
            "\n",
            "     relationships  funding_rounds  funding_total_usd  milestones  \\\n",
            "0                3               3             375000           3   \n",
            "1                9               4           40100000           1   \n",
            "2                5               1            2600000           2   \n",
            "3                5               3           40000000           1   \n",
            "4                2               2            1300000           1   \n",
            "..             ...             ...                ...         ...   \n",
            "918              9               1            1100000           2   \n",
            "919              1               3           52000000           1   \n",
            "920              5               1           44000000           1   \n",
            "921             12               2           15500000           2   \n",
            "922              4               1           20000000           1   \n",
            "\n",
            "     avg_participants  is_top500  \n",
            "0              1.0000          0  \n",
            "1              4.7500          1  \n",
            "2              4.0000          1  \n",
            "3              3.3333          1  \n",
            "4              1.0000          1  \n",
            "..                ...        ...  \n",
            "918            6.0000          1  \n",
            "919            2.6667          1  \n",
            "920            8.0000          1  \n",
            "921            1.0000          1  \n",
            "922            3.0000          1  \n",
            "\n",
            "[923 rows x 13 columns]\n"
          ]
        }
      ]
    },
    {
      "cell_type": "markdown",
      "source": [
        "## 6.2 Plot distributions of the numeric columns using histogram and record the skew of each distribution. (Note: positive value = right skewed, negative value = left skewed) (4pt)"
      ],
      "metadata": {
        "id": "1pVC2km7J9OX"
      }
    },
    {
      "cell_type": "code",
      "source": [
        "#TODO\n",
        "numdf.hist()\n",
        "plt.figure(figsize=(20, 20))\n",
        "numdf.skew(axis=1, skipna=True)\n",
        "plt.show()"
      ],
      "metadata": {
        "id": "x-ETyZXbJed7",
        "colab": {
          "base_uri": "https://localhost:8080/",
          "height": 298
        },
        "outputId": "20281257-d8fe-4194-8125-68102dfc6f0e"
      },
      "execution_count": 62,
      "outputs": [
        {
          "output_type": "display_data",
          "data": {
            "text/plain": [
              "<Figure size 432x288 with 16 Axes>"
            ],
            "image/png": "[encoded data removed]"
          },
          "metadata": {
            "needs_background": "light"
          }
        },
        {
          "output_type": "display_data",
          "data": {
            "text/plain": [
              "<Figure size 1440x1440 with 0 Axes>"
            ]
          },
          "metadata": {}
        }
      ]
    },
    {
      "cell_type": "markdown",
      "source": [
        "## 7. Show all the categorical columns and save it to a new dataframe. (2pt)"
      ],
      "metadata": {
        "id": "ZVg4ruKfdLty"
      }
    },
    {
      "cell_type": "code",
      "source": [
        "#TODO\n",
        "catdf = df.select_dtypes(exclude=\"number\")\n",
        "print(catdf)"
      ],
      "metadata": {
        "id": "iyO9ho5ZNmfs",
        "colab": {
          "base_uri": "https://localhost:8080/",
          "height": 0
        },
        "outputId": "56dc452e-00ab-4f75-d189-20f0a173cc96"
      },
      "execution_count": 9,
      "outputs": [
        {
          "output_type": "stream",
          "name": "stdout",
          "text": [
            "    state_code zip_code       id           city                  name  \\\n",
            "0           CA    92101   c:6669      San Diego           Bandsintown   \n",
            "1           CA    95032  c:16283      Los Gatos             TriCipher   \n",
            "2           CA    92121  c:65620      San Diego                 Plixi   \n",
            "3           CA    95014  c:42668      Cupertino     Solidcore Systems   \n",
            "4           CA    94105  c:65806  San Francisco        Inhale Digital   \n",
            "..         ...      ...      ...            ...                   ...   \n",
            "918         CA    94107  c:21343  San Francisco               CoTweet   \n",
            "919         MA     1803  c:41747     Burlington    Reef Point Systems   \n",
            "920         CA    94089  c:31549      Sunnyvale       Paracor Medical   \n",
            "921         CA    94404  c:33198  San Francisco               Causata   \n",
            "922         CA    95054  c:26702    Santa Clara  Asempra Technologies   \n",
            "\n",
            "    founded_at  closed_at first_funding_at last_funding_at category_code  \\\n",
            "0     1/1/2007        NaN         4/1/2009        1/1/2010         music   \n",
            "1     1/1/2000        NaN        2/14/2005      12/28/2009    enterprise   \n",
            "2    3/18/2009        NaN        3/30/2010       3/30/2010           web   \n",
            "3     1/1/2002        NaN        2/17/2005       4/25/2007      software   \n",
            "4     8/1/2010  10/1/2012         8/1/2010        4/1/2012   games_video   \n",
            "..         ...        ...              ...             ...           ...   \n",
            "918   1/1/2009        NaN         7/9/2009        7/9/2009   advertising   \n",
            "919   1/1/1998  6/25/2008         4/1/2005       3/23/2007      security   \n",
            "920   1/1/1999  6/17/2012        6/29/2007       6/29/2007       biotech   \n",
            "921   1/1/2009        NaN        10/5/2009       11/1/2011      software   \n",
            "922   1/1/2003        NaN        2/13/2006       2/13/2006      security   \n",
            "\n",
            "       status  \n",
            "0    acquired  \n",
            "1    acquired  \n",
            "2    acquired  \n",
            "3    acquired  \n",
            "4      closed  \n",
            "..        ...  \n",
            "918  acquired  \n",
            "919    closed  \n",
            "920    closed  \n",
            "921  acquired  \n",
            "922  acquired  \n",
            "\n",
            "[923 rows x 11 columns]\n"
          ]
        }
      ]
    },
    {
      "cell_type": "markdown",
      "source": [
        "## 8. Examine missing values (2+2+3=7pt)"
      ],
      "metadata": {
        "id": "FB0vFYlYdTZu"
      }
    },
    {
      "cell_type": "markdown",
      "source": [
        "### 8.1 Show a list with column wise count of missing values and display the list in count wise descending order."
      ],
      "metadata": {
        "id": "vD4Ueqy1dcIn"
      }
    },
    {
      "cell_type": "code",
      "source": [
        "#TODO\n",
        "countdf = df.isnull().sum(axis=1).tolist()\n",
        "countdf.sort(reverse=True)\n",
        "print(countdf)"
      ],
      "metadata": {
        "id": "t_qwmUSdlxEi",
        "colab": {
          "base_uri": "https://localhost:8080/",
          "height": 0
        },
        "outputId": "7612fe29-e5d8-44b0-bddb-87ad61321174"
      },
      "execution_count": 10,
      "outputs": [
        {
          "output_type": "stream",
          "name": "stdout",
          "text": [
            "[3, 3, 3, 3, 3, 3, 3, 3, 3, 3, 3, 3, 3, 3, 3, 3, 3, 3, 3, 3, 3, 3, 3, 3, 3, 3, 3, 3, 3, 3, 3, 3, 3, 3, 3, 3, 3, 3, 3, 3, 3, 3, 3, 3, 3, 3, 3, 2, 2, 2, 2, 2, 2, 2, 2, 2, 2, 2, 2, 2, 2, 2, 2, 2, 2, 2, 2, 2, 2, 2, 2, 2, 2, 2, 2, 2, 2, 2, 2, 2, 2, 2, 2, 2, 2, 2, 2, 2, 2, 2, 2, 2, 2, 2, 2, 2, 2, 2, 2, 2, 2, 2, 2, 2, 2, 2, 2, 2, 2, 2, 2, 2, 2, 2, 2, 2, 2, 2, 2, 2, 2, 2, 2, 2, 2, 2, 2, 2, 2, 2, 2, 2, 2, 2, 2, 2, 2, 2, 2, 2, 2, 2, 2, 2, 2, 2, 2, 2, 2, 2, 2, 2, 1, 1, 1, 1, 1, 1, 1, 1, 1, 1, 1, 1, 1, 1, 1, 1, 1, 1, 1, 1, 1, 1, 1, 1, 1, 1, 1, 1, 1, 1, 1, 1, 1, 1, 1, 1, 1, 1, 1, 1, 1, 1, 1, 1, 1, 1, 1, 1, 1, 1, 1, 1, 1, 1, 1, 1, 1, 1, 1, 1, 1, 1, 1, 1, 1, 1, 1, 1, 1, 1, 1, 1, 1, 1, 1, 1, 1, 1, 1, 1, 1, 1, 1, 1, 1, 1, 1, 1, 1, 1, 1, 1, 1, 1, 1, 1, 1, 1, 1, 1, 1, 1, 1, 1, 1, 1, 1, 1, 1, 1, 1, 1, 1, 1, 1, 1, 1, 1, 1, 1, 1, 1, 1, 1, 1, 1, 1, 1, 1, 1, 1, 1, 1, 1, 1, 1, 1, 1, 1, 1, 1, 1, 1, 1, 1, 1, 1, 1, 1, 1, 1, 1, 1, 1, 1, 1, 1, 1, 1, 1, 1, 1, 1, 1, 1, 1, 1, 1, 1, 1, 1, 1, 1, 1, 1, 1, 1, 1, 1, 1, 1, 1, 1, 1, 1, 1, 1, 1, 1, 1, 1, 1, 1, 1, 1, 1, 1, 1, 1, 1, 1, 1, 1, 1, 1, 1, 1, 1, 1, 1, 1, 1, 1, 1, 1, 1, 1, 1, 1, 1, 1, 1, 1, 1, 1, 1, 1, 1, 1, 1, 1, 1, 1, 1, 1, 1, 1, 1, 1, 1, 1, 1, 1, 1, 1, 1, 1, 1, 1, 1, 1, 1, 1, 1, 1, 1, 1, 1, 1, 1, 1, 1, 1, 1, 1, 1, 1, 1, 1, 1, 1, 1, 1, 1, 1, 1, 1, 1, 1, 1, 1, 1, 1, 1, 1, 1, 1, 1, 1, 1, 1, 1, 1, 1, 1, 1, 1, 1, 1, 1, 1, 1, 1, 1, 1, 1, 1, 1, 1, 1, 1, 1, 1, 1, 1, 1, 1, 1, 1, 1, 1, 1, 1, 1, 1, 1, 1, 1, 1, 1, 1, 1, 1, 1, 1, 1, 1, 1, 1, 1, 1, 1, 1, 1, 1, 1, 1, 1, 1, 1, 1, 1, 1, 1, 1, 1, 1, 1, 1, 1, 1, 1, 1, 1, 1, 1, 1, 1, 1, 1, 1, 1, 1, 1, 1, 1, 1, 1, 1, 1, 1, 1, 1, 1, 1, 1, 1, 1, 1, 1, 1, 1, 1, 1, 1, 1, 1, 1, 1, 1, 1, 1, 1, 1, 1, 1, 1, 1, 1, 1, 1, 1, 1, 1, 1, 1, 1, 1, 1, 1, 1, 1, 1, 1, 1, 1, 1, 1, 1, 1, 1, 1, 1, 1, 1, 1, 1, 1, 1, 1, 1, 1, 1, 1, 1, 1, 1, 1, 1, 1, 1, 1, 1, 1, 1, 1, 1, 1, 1, 1, 1, 1, 1, 1, 1, 1, 1, 1, 1, 1, 1, 1, 1, 1, 1, 1, 1, 1, 1, 1, 1, 1, 1, 1, 1, 1, 1, 1, 1, 1, 1, 1, 1, 1, 1, 1, 1, 1, 1, 1, 1, 1, 1, 1, 1, 1, 1, 1, 1, 1, 1, 1, 1, 1, 1, 1, 1, 1, 1, 1, 1, 1, 1, 1, 1, 1, 1, 1, 1, 1, 1, 1, 1, 1, 1, 1, 1, 1, 1, 1, 1, 0, 0, 0, 0, 0, 0, 0, 0, 0, 0, 0, 0, 0, 0, 0, 0, 0, 0, 0, 0, 0, 0, 0, 0, 0, 0, 0, 0, 0, 0, 0, 0, 0, 0, 0, 0, 0, 0, 0, 0, 0, 0, 0, 0, 0, 0, 0, 0, 0, 0, 0, 0, 0, 0, 0, 0, 0, 0, 0, 0, 0, 0, 0, 0, 0, 0, 0, 0, 0, 0, 0, 0, 0, 0, 0, 0, 0, 0, 0, 0, 0, 0, 0, 0, 0, 0, 0, 0, 0, 0, 0, 0, 0, 0, 0, 0, 0, 0, 0, 0, 0, 0, 0, 0, 0, 0, 0, 0, 0, 0, 0, 0, 0, 0, 0, 0, 0, 0, 0, 0, 0, 0, 0, 0, 0, 0, 0, 0, 0, 0, 0, 0, 0, 0, 0, 0, 0, 0, 0, 0, 0, 0, 0, 0, 0, 0, 0, 0, 0, 0, 0, 0, 0, 0, 0, 0, 0, 0, 0, 0, 0, 0, 0, 0, 0, 0, 0, 0, 0, 0, 0, 0, 0, 0, 0, 0, 0, 0, 0, 0, 0, 0, 0, 0, 0, 0, 0, 0, 0, 0, 0, 0, 0, 0, 0, 0, 0, 0, 0, 0, 0, 0, 0, 0, 0, 0, 0, 0, 0, 0, 0, 0, 0, 0, 0, 0, 0, 0, 0, 0, 0, 0, 0, 0, 0, 0, 0, 0, 0, 0]\n"
          ]
        }
      ]
    },
    {
      "cell_type": "markdown",
      "source": [
        "### 8.2 Show columnwise percentage of missing values."
      ],
      "metadata": {
        "id": "awGVHHvHdrSl"
      }
    },
    {
      "cell_type": "code",
      "source": [
        "#TODO\n",
        "percent_df = np.array(countdf) * 100 / len(df)\n",
        "print(percent_df)"
      ],
      "metadata": {
        "id": "It_U3nDumQyN",
        "colab": {
          "base_uri": "https://localhost:8080/",
          "height": 0
        },
        "outputId": "502b98b0-71a3-4f63-bb39-7c58bbf63232"
      },
      "execution_count": 11,
      "outputs": [
        {
          "output_type": "stream",
          "name": "stdout",
          "text": [
            "[0.32502709 0.32502709 0.32502709 0.32502709 0.32502709 0.32502709\n",
            " 0.32502709 0.32502709 0.32502709 0.32502709 0.32502709 0.32502709\n",
            " 0.32502709 0.32502709 0.32502709 0.32502709 0.32502709 0.32502709\n",
            " 0.32502709 0.32502709 0.32502709 0.32502709 0.32502709 0.32502709\n",
            " 0.32502709 0.32502709 0.32502709 0.32502709 0.32502709 0.32502709\n",
            " 0.32502709 0.32502709 0.32502709 0.32502709 0.32502709 0.32502709\n",
            " 0.32502709 0.32502709 0.32502709 0.32502709 0.32502709 0.32502709\n",
            " 0.32502709 0.32502709 0.32502709 0.32502709 0.32502709 0.21668472\n",
            " 0.21668472 0.21668472 0.21668472 0.21668472 0.21668472 0.21668472\n",
            " 0.21668472 0.21668472 0.21668472 0.21668472 0.21668472 0.21668472\n",
            " 0.21668472 0.21668472 0.21668472 0.21668472 0.21668472 0.21668472\n",
            " 0.21668472 0.21668472 0.21668472 0.21668472 0.21668472 0.21668472\n",
            " 0.21668472 0.21668472 0.21668472 0.21668472 0.21668472 0.21668472\n",
            " 0.21668472 0.21668472 0.21668472 0.21668472 0.21668472 0.21668472\n",
            " 0.21668472 0.21668472 0.21668472 0.21668472 0.21668472 0.21668472\n",
            " 0.21668472 0.21668472 0.21668472 0.21668472 0.21668472 0.21668472\n",
            " 0.21668472 0.21668472 0.21668472 0.21668472 0.21668472 0.21668472\n",
            " 0.21668472 0.21668472 0.21668472 0.21668472 0.21668472 0.21668472\n",
            " 0.21668472 0.21668472 0.21668472 0.21668472 0.21668472 0.21668472\n",
            " 0.21668472 0.21668472 0.21668472 0.21668472 0.21668472 0.21668472\n",
            " 0.21668472 0.21668472 0.21668472 0.21668472 0.21668472 0.21668472\n",
            " 0.21668472 0.21668472 0.21668472 0.21668472 0.21668472 0.21668472\n",
            " 0.21668472 0.21668472 0.21668472 0.21668472 0.21668472 0.21668472\n",
            " 0.21668472 0.21668472 0.21668472 0.21668472 0.21668472 0.21668472\n",
            " 0.21668472 0.21668472 0.21668472 0.21668472 0.21668472 0.21668472\n",
            " 0.21668472 0.21668472 0.10834236 0.10834236 0.10834236 0.10834236\n",
            " 0.10834236 0.10834236 0.10834236 0.10834236 0.10834236 0.10834236\n",
            " 0.10834236 0.10834236 0.10834236 0.10834236 0.10834236 0.10834236\n",
            " 0.10834236 0.10834236 0.10834236 0.10834236 0.10834236 0.10834236\n",
            " 0.10834236 0.10834236 0.10834236 0.10834236 0.10834236 0.10834236\n",
            " 0.10834236 0.10834236 0.10834236 0.10834236 0.10834236 0.10834236\n",
            " 0.10834236 0.10834236 0.10834236 0.10834236 0.10834236 0.10834236\n",
            " 0.10834236 0.10834236 0.10834236 0.10834236 0.10834236 0.10834236\n",
            " 0.10834236 0.10834236 0.10834236 0.10834236 0.10834236 0.10834236\n",
            " 0.10834236 0.10834236 0.10834236 0.10834236 0.10834236 0.10834236\n",
            " 0.10834236 0.10834236 0.10834236 0.10834236 0.10834236 0.10834236\n",
            " 0.10834236 0.10834236 0.10834236 0.10834236 0.10834236 0.10834236\n",
            " 0.10834236 0.10834236 0.10834236 0.10834236 0.10834236 0.10834236\n",
            " 0.10834236 0.10834236 0.10834236 0.10834236 0.10834236 0.10834236\n",
            " 0.10834236 0.10834236 0.10834236 0.10834236 0.10834236 0.10834236\n",
            " 0.10834236 0.10834236 0.10834236 0.10834236 0.10834236 0.10834236\n",
            " 0.10834236 0.10834236 0.10834236 0.10834236 0.10834236 0.10834236\n",
            " 0.10834236 0.10834236 0.10834236 0.10834236 0.10834236 0.10834236\n",
            " 0.10834236 0.10834236 0.10834236 0.10834236 0.10834236 0.10834236\n",
            " 0.10834236 0.10834236 0.10834236 0.10834236 0.10834236 0.10834236\n",
            " 0.10834236 0.10834236 0.10834236 0.10834236 0.10834236 0.10834236\n",
            " 0.10834236 0.10834236 0.10834236 0.10834236 0.10834236 0.10834236\n",
            " 0.10834236 0.10834236 0.10834236 0.10834236 0.10834236 0.10834236\n",
            " 0.10834236 0.10834236 0.10834236 0.10834236 0.10834236 0.10834236\n",
            " 0.10834236 0.10834236 0.10834236 0.10834236 0.10834236 0.10834236\n",
            " 0.10834236 0.10834236 0.10834236 0.10834236 0.10834236 0.10834236\n",
            " 0.10834236 0.10834236 0.10834236 0.10834236 0.10834236 0.10834236\n",
            " 0.10834236 0.10834236 0.10834236 0.10834236 0.10834236 0.10834236\n",
            " 0.10834236 0.10834236 0.10834236 0.10834236 0.10834236 0.10834236\n",
            " 0.10834236 0.10834236 0.10834236 0.10834236 0.10834236 0.10834236\n",
            " 0.10834236 0.10834236 0.10834236 0.10834236 0.10834236 0.10834236\n",
            " 0.10834236 0.10834236 0.10834236 0.10834236 0.10834236 0.10834236\n",
            " 0.10834236 0.10834236 0.10834236 0.10834236 0.10834236 0.10834236\n",
            " 0.10834236 0.10834236 0.10834236 0.10834236 0.10834236 0.10834236\n",
            " 0.10834236 0.10834236 0.10834236 0.10834236 0.10834236 0.10834236\n",
            " 0.10834236 0.10834236 0.10834236 0.10834236 0.10834236 0.10834236\n",
            " 0.10834236 0.10834236 0.10834236 0.10834236 0.10834236 0.10834236\n",
            " 0.10834236 0.10834236 0.10834236 0.10834236 0.10834236 0.10834236\n",
            " 0.10834236 0.10834236 0.10834236 0.10834236 0.10834236 0.10834236\n",
            " 0.10834236 0.10834236 0.10834236 0.10834236 0.10834236 0.10834236\n",
            " 0.10834236 0.10834236 0.10834236 0.10834236 0.10834236 0.10834236\n",
            " 0.10834236 0.10834236 0.10834236 0.10834236 0.10834236 0.10834236\n",
            " 0.10834236 0.10834236 0.10834236 0.10834236 0.10834236 0.10834236\n",
            " 0.10834236 0.10834236 0.10834236 0.10834236 0.10834236 0.10834236\n",
            " 0.10834236 0.10834236 0.10834236 0.10834236 0.10834236 0.10834236\n",
            " 0.10834236 0.10834236 0.10834236 0.10834236 0.10834236 0.10834236\n",
            " 0.10834236 0.10834236 0.10834236 0.10834236 0.10834236 0.10834236\n",
            " 0.10834236 0.10834236 0.10834236 0.10834236 0.10834236 0.10834236\n",
            " 0.10834236 0.10834236 0.10834236 0.10834236 0.10834236 0.10834236\n",
            " 0.10834236 0.10834236 0.10834236 0.10834236 0.10834236 0.10834236\n",
            " 0.10834236 0.10834236 0.10834236 0.10834236 0.10834236 0.10834236\n",
            " 0.10834236 0.10834236 0.10834236 0.10834236 0.10834236 0.10834236\n",
            " 0.10834236 0.10834236 0.10834236 0.10834236 0.10834236 0.10834236\n",
            " 0.10834236 0.10834236 0.10834236 0.10834236 0.10834236 0.10834236\n",
            " 0.10834236 0.10834236 0.10834236 0.10834236 0.10834236 0.10834236\n",
            " 0.10834236 0.10834236 0.10834236 0.10834236 0.10834236 0.10834236\n",
            " 0.10834236 0.10834236 0.10834236 0.10834236 0.10834236 0.10834236\n",
            " 0.10834236 0.10834236 0.10834236 0.10834236 0.10834236 0.10834236\n",
            " 0.10834236 0.10834236 0.10834236 0.10834236 0.10834236 0.10834236\n",
            " 0.10834236 0.10834236 0.10834236 0.10834236 0.10834236 0.10834236\n",
            " 0.10834236 0.10834236 0.10834236 0.10834236 0.10834236 0.10834236\n",
            " 0.10834236 0.10834236 0.10834236 0.10834236 0.10834236 0.10834236\n",
            " 0.10834236 0.10834236 0.10834236 0.10834236 0.10834236 0.10834236\n",
            " 0.10834236 0.10834236 0.10834236 0.10834236 0.10834236 0.10834236\n",
            " 0.10834236 0.10834236 0.10834236 0.10834236 0.10834236 0.10834236\n",
            " 0.10834236 0.10834236 0.10834236 0.10834236 0.10834236 0.10834236\n",
            " 0.10834236 0.10834236 0.10834236 0.10834236 0.10834236 0.10834236\n",
            " 0.10834236 0.10834236 0.10834236 0.10834236 0.10834236 0.10834236\n",
            " 0.10834236 0.10834236 0.10834236 0.10834236 0.10834236 0.10834236\n",
            " 0.10834236 0.10834236 0.10834236 0.10834236 0.10834236 0.10834236\n",
            " 0.10834236 0.10834236 0.10834236 0.10834236 0.10834236 0.10834236\n",
            " 0.10834236 0.10834236 0.10834236 0.10834236 0.10834236 0.10834236\n",
            " 0.10834236 0.10834236 0.10834236 0.10834236 0.10834236 0.10834236\n",
            " 0.10834236 0.10834236 0.10834236 0.10834236 0.10834236 0.10834236\n",
            " 0.10834236 0.10834236 0.10834236 0.10834236 0.10834236 0.10834236\n",
            " 0.10834236 0.10834236 0.10834236 0.10834236 0.10834236 0.10834236\n",
            " 0.10834236 0.10834236 0.10834236 0.10834236 0.10834236 0.10834236\n",
            " 0.10834236 0.10834236 0.10834236 0.10834236 0.10834236 0.10834236\n",
            " 0.10834236 0.10834236 0.10834236 0.10834236 0.10834236 0.10834236\n",
            " 0.10834236 0.10834236 0.10834236 0.10834236 0.10834236 0.10834236\n",
            " 0.10834236 0.10834236 0.10834236 0.10834236 0.10834236 0.10834236\n",
            " 0.10834236 0.10834236 0.10834236 0.10834236 0.10834236 0.10834236\n",
            " 0.10834236 0.10834236 0.10834236 0.10834236 0.10834236 0.10834236\n",
            " 0.10834236 0.10834236 0.10834236 0.10834236 0.10834236 0.10834236\n",
            " 0.10834236 0.10834236 0.10834236 0.10834236 0.10834236 0.10834236\n",
            " 0.10834236 0.10834236 0.10834236 0.10834236 0.10834236 0.10834236\n",
            " 0.10834236 0.10834236 0.10834236 0.10834236 0.10834236 0.10834236\n",
            " 0.10834236 0.10834236 0.10834236 0.10834236 0.10834236 0.10834236\n",
            " 0.10834236 0.10834236 0.10834236 0.10834236 0.10834236 0.10834236\n",
            " 0.10834236 0.10834236 0.10834236 0.10834236 0.10834236 0.10834236\n",
            " 0.10834236 0.10834236 0.10834236 0.         0.         0.\n",
            " 0.         0.         0.         0.         0.         0.\n",
            " 0.         0.         0.         0.         0.         0.\n",
            " 0.         0.         0.         0.         0.         0.\n",
            " 0.         0.         0.         0.         0.         0.\n",
            " 0.         0.         0.         0.         0.         0.\n",
            " 0.         0.         0.         0.         0.         0.\n",
            " 0.         0.         0.         0.         0.         0.\n",
            " 0.         0.         0.         0.         0.         0.\n",
            " 0.         0.         0.         0.         0.         0.\n",
            " 0.         0.         0.         0.         0.         0.\n",
            " 0.         0.         0.         0.         0.         0.\n",
            " 0.         0.         0.         0.         0.         0.\n",
            " 0.         0.         0.         0.         0.         0.\n",
            " 0.         0.         0.         0.         0.         0.\n",
            " 0.         0.         0.         0.         0.         0.\n",
            " 0.         0.         0.         0.         0.         0.\n",
            " 0.         0.         0.         0.         0.         0.\n",
            " 0.         0.         0.         0.         0.         0.\n",
            " 0.         0.         0.         0.         0.         0.\n",
            " 0.         0.         0.         0.         0.         0.\n",
            " 0.         0.         0.         0.         0.         0.\n",
            " 0.         0.         0.         0.         0.         0.\n",
            " 0.         0.         0.         0.         0.         0.\n",
            " 0.         0.         0.         0.         0.         0.\n",
            " 0.         0.         0.         0.         0.         0.\n",
            " 0.         0.         0.         0.         0.         0.\n",
            " 0.         0.         0.         0.         0.         0.\n",
            " 0.         0.         0.         0.         0.         0.\n",
            " 0.         0.         0.         0.         0.         0.\n",
            " 0.         0.         0.         0.         0.         0.\n",
            " 0.         0.         0.         0.         0.         0.\n",
            " 0.         0.         0.         0.         0.         0.\n",
            " 0.         0.         0.         0.         0.         0.\n",
            " 0.         0.         0.         0.         0.         0.\n",
            " 0.         0.         0.         0.         0.         0.\n",
            " 0.         0.         0.         0.         0.         0.\n",
            " 0.         0.         0.         0.         0.         0.\n",
            " 0.         0.         0.         0.         0.        ]\n"
          ]
        }
      ]
    },
    {
      "cell_type": "markdown",
      "source": [
        "### 8.3 Display a bar plot to visualize only the columns with missing values and their percentage count."
      ],
      "metadata": {
        "id": "UZYP8MSzeEuJ"
      }
    },
    {
      "cell_type": "code",
      "source": [
        "#TODO\n",
        "fig, ax = plt.subplots()\n",
        "ax.bar(countdf, percent_df)\n",
        "plt.title(\"Bar graph\")\n",
        "plt.show()"
      ],
      "metadata": {
        "id": "6VOHMluvmh-w",
        "colab": {
          "base_uri": "https://localhost:8080/",
          "height": 281
        },
        "outputId": "0c510e66-5512-4017-cd29-3c3d901c3c89"
      },
      "execution_count": 63,
      "outputs": [
        {
          "output_type": "display_data",
          "data": {
            "text/plain": [
              "<Figure size 432x288 with 1 Axes>"
            ],
            "image/png": "[encoded data removed]"
          },
          "metadata": {
            "needs_background": "light"
          }
        }
      ]
    },
    {
      "cell_type": "markdown",
      "source": [
        "## 9. Label Encoding : Copy the dataframe to a new one. Then using scikitlearn's Label Encoder, transform the \"status\" column to 0-1. (5pt)"
      ],
      "metadata": {
        "id": "6s8VXFZlg1aa"
      }
    },
    {
      "cell_type": "code",
      "source": [
        "#TODO\n",
        "from sklearn import preprocessing\n",
        "copydf = df\n",
        "le = preprocessing.LabelEncoder()\n",
        "le.fit_transform(copydf['status'])"
      ],
      "metadata": {
        "id": "nIoufsNJwArq",
        "colab": {
          "base_uri": "https://localhost:8080/",
          "height": 0
        },
        "outputId": "a1786724-4ca9-4cc5-a0a1-851e2b4f7f26"
      },
      "execution_count": 66,
      "outputs": [
        {
          "output_type": "execute_result",
          "data": {
            "text/plain": [
              "array([0, 0, 0, 0, 1, 1, 0, 0, 0, 0, 0, 1, 1, 0, 0, 1, 1, 0, 0, 1, 0, 1,\n",
              "       1, 1, 1, 0, 0, 0, 0, 0, 1, 0, 1, 0, 1, 1, 1, 1, 0, 0, 0, 0, 1, 0,\n",
              "       0, 0, 0, 0, 0, 0, 0, 0, 0, 0, 0, 1, 0, 0, 0, 0, 1, 1, 0, 1, 0, 0,\n",
              "       1, 0, 0, 0, 0, 0, 0, 0, 1, 1, 1, 0, 0, 1, 0, 1, 1, 0, 0, 1, 0, 1,\n",
              "       1, 0, 0, 1, 0, 0, 0, 1, 0, 1, 0, 1, 1, 0, 0, 0, 0, 1, 0, 1, 0, 1,\n",
              "       0, 0, 1, 0, 1, 0, 1, 0, 0, 0, 1, 0, 1, 0, 0, 0, 0, 1, 1, 0, 0, 1,\n",
              "       0, 0, 1, 0, 1, 0, 0, 1, 0, 0, 1, 0, 0, 0, 0, 0, 0, 0, 1, 1, 1, 0,\n",
              "       1, 0, 0, 0, 1, 1, 0, 1, 1, 0, 1, 0, 0, 1, 0, 0, 0, 1, 0, 0, 0, 1,\n",
              "       1, 1, 0, 1, 1, 0, 0, 0, 1, 1, 0, 0, 0, 0, 0, 0, 1, 0, 0, 0, 0, 1,\n",
              "       1, 0, 0, 1, 1, 0, 1, 0, 1, 1, 0, 1, 0, 0, 0, 1, 1, 0, 1, 0, 0, 0,\n",
              "       0, 0, 1, 1, 1, 1, 0, 0, 0, 0, 1, 0, 0, 0, 0, 1, 0, 1, 0, 0, 1, 1,\n",
              "       1, 0, 0, 1, 0, 0, 0, 0, 1, 0, 0, 1, 0, 1, 0, 0, 1, 0, 0, 0, 1, 1,\n",
              "       1, 0, 0, 0, 0, 0, 1, 0, 0, 0, 0, 1, 0, 0, 1, 0, 1, 0, 0, 1, 1, 1,\n",
              "       0, 0, 1, 0, 1, 0, 1, 1, 1, 1, 0, 0, 1, 1, 1, 1, 0, 0, 1, 0, 1, 0,\n",
              "       0, 0, 0, 0, 0, 0, 1, 0, 1, 0, 0, 0, 0, 0, 0, 0, 0, 1, 1, 1, 0, 1,\n",
              "       0, 1, 0, 1, 0, 0, 1, 0, 0, 0, 0, 0, 0, 0, 1, 1, 1, 1, 0, 0, 1, 0,\n",
              "       0, 1, 0, 0, 0, 0, 0, 0, 0, 1, 0, 0, 0, 0, 0, 0, 0, 1, 0, 0, 0, 0,\n",
              "       0, 1, 0, 0, 0, 0, 0, 0, 0, 0, 0, 0, 0, 1, 1, 0, 1, 0, 0, 0, 0, 0,\n",
              "       0, 0, 0, 0, 0, 1, 1, 0, 0, 0, 1, 0, 0, 0, 1, 1, 0, 0, 0, 0, 0, 1,\n",
              "       0, 0, 1, 0, 1, 1, 0, 1, 1, 0, 0, 0, 0, 1, 1, 0, 1, 1, 0, 0, 1, 1,\n",
              "       0, 0, 0, 0, 0, 0, 0, 0, 0, 0, 1, 0, 0, 1, 0, 0, 1, 0, 0, 0, 1, 0,\n",
              "       1, 0, 1, 0, 0, 1, 1, 0, 0, 1, 1, 0, 0, 0, 0, 0, 1, 1, 1, 0, 0, 0,\n",
              "       0, 1, 0, 1, 0, 1, 0, 1, 1, 1, 1, 0, 1, 0, 0, 0, 0, 1, 0, 0, 1, 1,\n",
              "       0, 0, 0, 0, 1, 1, 0, 0, 0, 1, 0, 0, 0, 0, 0, 0, 1, 0, 0, 0, 0, 1,\n",
              "       0, 0, 0, 1, 0, 0, 1, 1, 1, 0, 0, 0, 0, 0, 1, 0, 1, 0, 0, 0, 0, 0,\n",
              "       1, 0, 0, 0, 1, 0, 0, 0, 1, 0, 0, 1, 0, 1, 1, 0, 0, 0, 1, 1, 0, 1,\n",
              "       0, 0, 0, 0, 1, 0, 1, 0, 0, 0, 0, 0, 1, 1, 0, 1, 0, 1, 0, 0, 0, 1,\n",
              "       0, 0, 0, 1, 0, 0, 0, 1, 0, 1, 0, 0, 1, 0, 0, 1, 0, 1, 0, 1, 0, 0,\n",
              "       0, 1, 1, 0, 1, 0, 0, 0, 0, 1, 1, 0, 0, 1, 1, 1, 1, 1, 1, 1, 0, 1,\n",
              "       0, 1, 0, 1, 0, 1, 0, 0, 0, 0, 0, 0, 1, 1, 0, 0, 0, 0, 0, 0, 1, 1,\n",
              "       1, 1, 0, 1, 0, 0, 1, 0, 0, 0, 0, 0, 0, 1, 0, 1, 1, 0, 0, 1, 0, 0,\n",
              "       1, 0, 0, 0, 1, 0, 0, 0, 1, 1, 0, 0, 1, 0, 0, 1, 0, 0, 0, 1, 1, 1,\n",
              "       1, 1, 1, 1, 0, 0, 1, 1, 1, 1, 0, 1, 0, 0, 1, 1, 0, 1, 0, 0, 1, 0,\n",
              "       0, 0, 0, 0, 0, 1, 0, 0, 0, 1, 1, 0, 1, 0, 0, 1, 0, 1, 0, 1, 0, 0,\n",
              "       1, 1, 0, 0, 0, 0, 1, 0, 0, 1, 1, 0, 0, 1, 0, 0, 0, 0, 0, 0, 0, 0,\n",
              "       0, 1, 1, 0, 0, 0, 0, 0, 1, 0, 1, 0, 1, 1, 0, 1, 0, 1, 0, 0, 0, 1,\n",
              "       1, 0, 0, 0, 0, 0, 0, 0, 0, 1, 0, 1, 0, 1, 0, 0, 1, 0, 0, 0, 0, 0,\n",
              "       1, 0, 0, 0, 0, 0, 0, 0, 0, 1, 1, 0, 1, 1, 0, 1, 0, 1, 0, 0, 0, 1,\n",
              "       0, 1, 0, 1, 0, 0, 1, 1, 0, 0, 0, 1, 0, 0, 0, 1, 0, 0, 0, 0, 0, 1,\n",
              "       1, 0, 0, 0, 0, 1, 0, 0, 0, 0, 1, 0, 0, 0, 0, 0, 1, 0, 1, 0, 0, 0,\n",
              "       0, 0, 1, 0, 0, 1, 0, 1, 0, 0, 0, 1, 1, 0, 0, 0, 0, 0, 0, 1, 0, 1,\n",
              "       0, 0, 1, 1, 0, 0, 0, 0, 0, 1, 0, 1, 0, 1, 0, 0, 0, 1, 1, 0, 0])"
            ]
          },
          "metadata": {},
          "execution_count": 66
        }
      ]
    },
    {
      "cell_type": "markdown",
      "source": [
        "## 10. Correlation: Use seaborn's heatmap to visualize the correlation between numeric features. (3pt)"
      ],
      "metadata": {
        "id": "LlUD3o8Z7CwT"
      }
    },
    {
      "cell_type": "code",
      "source": [
        "#TODO\n",
        "plt.figure(figsize=(16, 10))\n",
        "sns.heatmap(df.corr(), annot=True)\n",
        "plt.title(\"heatmap\")\n",
        "plt.show()"
      ],
      "metadata": {
        "id": "jMnTs1TXo43h",
        "colab": {
          "base_uri": "https://localhost:8080/",
          "height": 722
        },
        "outputId": "8523b53f-0f51-4544-f6ff-7fa0e461bf70"
      },
      "execution_count": 61,
      "outputs": [
        {
          "output_type": "display_data",
          "data": {
            "text/plain": [
              "<Figure size 1152x720 with 2 Axes>"
            ],
            "image/png": "[encoded data removed]"
          },
          "metadata": {
            "needs_background": "light"
          }
        }
      ]
    },
    {
      "cell_type": "markdown",
      "source": [
        "## 11.1 Use seaborn's countplot to visualize relationship between \"*state_code*\" and \"*labels*\". Comment on which state produced majority of successful startups (3pt)"
      ],
      "metadata": {
        "id": "33BHNCaxpfls"
      }
    },
    {
      "cell_type": "code",
      "source": [
        "#TODO\n",
        "plt.figure(figsize=(16, 4))\n",
        "sns.countplot(data = df, x=\"state_code\", hue=\"labels\")\n",
        "plt.show()\n",
        "#California produced the most successful startups"
      ],
      "metadata": {
        "id": "CSUeKO5Dr2x8",
        "colab": {
          "base_uri": "https://localhost:8080/",
          "height": 280
        },
        "outputId": "d08c675e-9568-4c82-b940-1bea4023467c"
      },
      "execution_count": 34,
      "outputs": [
        {
          "output_type": "display_data",
          "data": {
            "text/plain": [
              "<Figure size 1152x288 with 1 Axes>"
            ],
            "image/png": "[encoded data removed]"
          },
          "metadata": {
            "needs_background": "light"
          }
        }
      ]
    },
    {
      "cell_type": "markdown",
      "source": [
        "## 11.2 Use seaborn's countplot to visualize relationship between \"*milestones*\" and \"*labels*\". Comment on which milestone made the statistically highest number of successful startups (3pt)"
      ],
      "metadata": {
        "id": "VY9zrGalG13T"
      }
    },
    {
      "cell_type": "markdown",
      "source": [],
      "metadata": {
        "id": "6Ej08-a-G9Ht"
      }
    },
    {
      "cell_type": "code",
      "source": [
        "#TODO\n",
        "sns.countplot(data = df, x=\"milestones\", hue=\"labels\")\n",
        "plt.show()\n",
        "#2 milestones made the most successful startups"
      ],
      "metadata": {
        "id": "gXN1v9WEG1FC",
        "colab": {
          "base_uri": "https://localhost:8080/",
          "height": 279
        },
        "outputId": "4dd47f4a-6e0c-498e-9561-fb817ec5e9d4"
      },
      "execution_count": 67,
      "outputs": [
        {
          "output_type": "display_data",
          "data": {
            "text/plain": [
              "<Figure size 432x288 with 1 Axes>"
            ],
            "image/png": "[encoded data removed]"
          },
          "metadata": {
            "needs_background": "light"
          }
        }
      ]
    },
    {
      "cell_type": "markdown",
      "source": [
        "## 12. Drop features with duplicate values in-place, then show dataframe's new shape. (1pt)"
      ],
      "metadata": {
        "id": "sjmMrrWBrMMT"
      }
    },
    {
      "cell_type": "code",
      "source": [
        "#TODO\n",
        "df.drop_duplicates(inplace=True)\n",
        "shape = df.shape\n",
        "print(shape)"
      ],
      "metadata": {
        "id": "OFY3oWLo748W",
        "colab": {
          "base_uri": "https://localhost:8080/",
          "height": 0
        },
        "outputId": "df548b1d-a186-44fd-a7e5-b113c17fe6ec"
      },
      "execution_count": 39,
      "outputs": [
        {
          "output_type": "stream",
          "name": "stdout",
          "text": [
            "(923, 24)\n"
          ]
        }
      ]
    },
    {
      "cell_type": "markdown",
      "source": [
        "## 13. From correlation heatmap above, comment on which feature has the highest correlation with \"*funding_rounds*\". Visualize a scatterplot with that and \"*funding_rounds*\". (3+3 = 6pt)"
      ],
      "metadata": {
        "id": "qzoqmczG8ZtJ"
      }
    },
    {
      "cell_type": "code",
      "source": [
        "#TODO\n",
        "#\"age_last_funding_year\" has the highest correlation with \"funding_rounds\"\n",
        "plt.scatter(df[\"funding_rounds\"], df[\"age_last_funding_year\"])\n",
        "plt.title(\"scatterplot\")\n",
        "plt.show()"
      ],
      "metadata": {
        "id": "tSAKW_YG8Brp",
        "colab": {
          "base_uri": "https://localhost:8080/",
          "height": 281
        },
        "outputId": "f088ea6b-16fe-46a8-b073-b9a684dec73a"
      },
      "execution_count": 68,
      "outputs": [
        {
          "output_type": "display_data",
          "data": {
            "text/plain": [
              "<Figure size 432x288 with 1 Axes>"
            ],
            "image/png": "[encoded data removed]"
          },
          "metadata": {
            "needs_background": "light"
          }
        }
      ]
    },
    {
      "cell_type": "markdown",
      "source": [
        "## 14. Show boxplots for the numeric features to detect outliers. (4pt)"
      ],
      "metadata": {
        "id": "0zbrG6toCPnD"
      }
    },
    {
      "cell_type": "code",
      "source": [
        "#TODO\n",
        "normalized_df = (df - df.mean())/df.std()\n",
        "plt.figure(figsize=(16, 4))\n",
        "plt.xticks(rotation=90)\n",
        "sns.boxplot(data=normalized_df)\n",
        "plt.show()"
      ],
      "metadata": {
        "id": "C6-beusV4cFa",
        "colab": {
          "base_uri": "https://localhost:8080/",
          "height": 435
        },
        "outputId": "4a0761db-ff4c-4392-d4d1-ed0398f7b6b7"
      },
      "execution_count": 60,
      "outputs": [
        {
          "output_type": "stream",
          "name": "stderr",
          "text": [
            "<ipython-input-60-5687446ae1ae>:2: FutureWarning: Dropping of nuisance columns in DataFrame reductions (with 'numeric_only=None') is deprecated; in a future version this will raise TypeError.  Select only valid columns before calling the reduction.\n",
            "  normalized_df = (df - df.mean())/df.std()\n"
          ]
        },
        {
          "output_type": "display_data",
          "data": {
            "text/plain": [
              "<Figure size 1152x288 with 1 Axes>"
            ],
            "image/png": "[encoded data removed]"
          },
          "metadata": {
            "needs_background": "light"
          }
        }
      ]
    },
    {
      "cell_type": "markdown",
      "source": [
        "## 15. Summary and Discussion: Mention what additional steps are required to use this dataset in a binary classifier. Eg: any column to remove, any record to remove, any distribution to rebalance, any features to be joined together to generate new feature etc. (2pt)"
      ],
      "metadata": {
        "id": "7SljwTh_IhBa"
      }
    },
    {
      "cell_type": "markdown",
      "source": [
        "#####TODO\n",
        "Additional steps that could be taken would be to remove outliers, like in the column \"funding_total_usd\""
      ],
      "metadata": {
        "id": "Egc0xXmhuVUd"
      }
    }
  ]
}