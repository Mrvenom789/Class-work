{
  "cells": [
    {
      "cell_type": "markdown",
      "metadata": {
        "id": "w_81u4D3WhUu"
      },
      "source": [
        "# This jupyter notebook is prepared by Zachary Hull."
      ]
    },
    {
      "cell_type": "markdown",
      "metadata": {
        "id": "ldYxL0f2k4An"
      },
      "source": [
        "# 1. Load Data and perform basic EDA (4pts total)"
      ]
    },
    {
      "cell_type": "markdown",
      "source": [],
      "metadata": {
        "id": "yOoVsJl9Bs9f"
      }
    },
    {
      "cell_type": "markdown",
      "metadata": {
        "id": "X1i4jxzBl2XK"
      },
      "source": [
        "### 1.1 import libraries: numpy, pandas, matplotlib.pyplot, seaborn, sklearn (1pt)"
      ]
    },
    {
      "cell_type": "code",
      "execution_count": 2,
      "metadata": {
        "id": "75PmFmzpR8yQ"
      },
      "outputs": [],
      "source": [
        "# TODO\n",
        "import matplotlib.pyplot as plt\n",
        "import numpy as np\n",
        "import pandas as pd\n",
        "import seaborn as sns\n",
        "import sklearn as sk"
      ]
    },
    {
      "cell_type": "markdown",
      "metadata": {
        "id": "NXc8-6YDmJsL"
      },
      "source": [
        "### 1.2 Upload the dataset to your Google Drive, then using the following code, import the data to a pandas dataframe and show the count of rows and columns (0.5pt)"
      ]
    },
    {
      "cell_type": "code",
      "execution_count": 3,
      "metadata": {
        "id": "FdK1HFt5XOGR",
        "colab": {
          "base_uri": "https://localhost:8080/"
        },
        "outputId": "3f867b6e-69f8-4a33-a28d-24ad757b75e1"
      },
      "outputs": [
        {
          "output_type": "stream",
          "name": "stdout",
          "text": [
            "Mounted at /content/drive\n"
          ]
        }
      ],
      "source": [
        "from google.colab import drive\n",
        "drive.mount('/content/drive')\n"
      ]
    },
    {
      "cell_type": "code",
      "execution_count": 4,
      "metadata": {
        "colab": {
          "base_uri": "https://localhost:8080/"
        },
        "outputId": "3f016973-415c-42e4-8086-6bd5e972f199",
        "id": "xOFPzjLWFAJA"
      },
      "outputs": [
        {
          "output_type": "stream",
          "name": "stdout",
          "text": [
            "(8955, 15)\n"
          ]
        }
      ],
      "source": [
        "from google.colab import drive\n",
        "\n",
        "csv_name = '/content/drive/MyDrive/hr_data_.csv'\n",
        "with open(csv_name, 'r') as file:\n",
        "  df = pd.read_csv(csv_name)\n",
        "\n",
        "print(df.shape)"
      ]
    },
    {
      "cell_type": "markdown",
      "metadata": {
        "id": "m3KH9B2Gms7W"
      },
      "source": [
        "### 1.3 Show the top 7 and bottom 7 rows (0.5pt)"
      ]
    },
    {
      "cell_type": "code",
      "execution_count": 5,
      "metadata": {
        "id": "SaEa4cRUmWip",
        "colab": {
          "base_uri": "https://localhost:8080/"
        },
        "outputId": "629e6845-d46c-429d-b709-79413f362989"
      },
      "outputs": [
        {
          "output_type": "stream",
          "name": "stdout",
          "text": [
            "   Unnamed: 0  enrollee_id      city  city_development_index gender  \\\n",
            "0           1        29725   city_40                   0.776   Male   \n",
            "1           4          666  city_162                   0.767   Male   \n",
            "2           7          402   city_46                   0.762   Male   \n",
            "3           8        27107  city_103                   0.920   Male   \n",
            "4          11        23853  city_103                   0.920   Male   \n",
            "5          12        25619   city_61                   0.913   Male   \n",
            "6          15         6588  city_114                   0.926   Male   \n",
            "\n",
            "       relevent_experience enrolled_university education_level  \\\n",
            "0   No relevent experience       no_enrollment        Graduate   \n",
            "1  Has relevent experience       no_enrollment         Masters   \n",
            "2  Has relevent experience       no_enrollment        Graduate   \n",
            "3  Has relevent experience       no_enrollment        Graduate   \n",
            "4  Has relevent experience       no_enrollment        Graduate   \n",
            "5  Has relevent experience       no_enrollment        Graduate   \n",
            "6  Has relevent experience       no_enrollment        Graduate   \n",
            "\n",
            "  major_discipline  experience company_size    company_type last_new_job  \\\n",
            "0             STEM        15.0        50-99         Pvt Ltd           >4   \n",
            "1             STEM        21.0        50-99  Funded Startup            4   \n",
            "2             STEM        13.0          <10         Pvt Ltd           >4   \n",
            "3             STEM         7.0        50-99         Pvt Ltd            1   \n",
            "4             STEM         5.0    5000-9999         Pvt Ltd            1   \n",
            "5             STEM        21.0    1000-4999         Pvt Ltd            3   \n",
            "6             STEM        16.0        10/49         Pvt Ltd           >4   \n",
            "\n",
            "   training_hours  target  \n",
            "0              47     0.0  \n",
            "1               8     0.0  \n",
            "2              18     1.0  \n",
            "3              46     1.0  \n",
            "4             108     0.0  \n",
            "5              23     0.0  \n",
            "6              18     0.0  \n",
            "      Unnamed: 0  enrollee_id      city  city_development_index  gender  \\\n",
            "8948       19143        33047  city_103                   0.920    Male   \n",
            "8949       19146        13167  city_103                   0.920    Male   \n",
            "8950       19147        21319   city_21                   0.624    Male   \n",
            "8951       19149          251  city_103                   0.920    Male   \n",
            "8952       19150        32313  city_160                   0.920  Female   \n",
            "8953       19152        29754  city_103                   0.920  Female   \n",
            "8954       19155        24576  city_103                   0.920    Male   \n",
            "\n",
            "          relevent_experience enrolled_university education_level  \\\n",
            "8948  Has relevent experience       no_enrollment        Graduate   \n",
            "8949  Has relevent experience       no_enrollment        Graduate   \n",
            "8950   No relevent experience    Full time course        Graduate   \n",
            "8951  Has relevent experience       no_enrollment         Masters   \n",
            "8952  Has relevent experience       no_enrollment        Graduate   \n",
            "8953  Has relevent experience       no_enrollment        Graduate   \n",
            "8954  Has relevent experience       no_enrollment        Graduate   \n",
            "\n",
            "     major_discipline  experience company_size    company_type last_new_job  \\\n",
            "8948             STEM        21.0       10000+         Pvt Ltd           >4   \n",
            "8949             STEM         5.0      500-999         Pvt Ltd            1   \n",
            "8950             STEM         1.0      100-500         Pvt Ltd            1   \n",
            "8951             STEM         9.0        50-99         Pvt Ltd            1   \n",
            "8952             STEM        10.0      100-500   Public Sector            3   \n",
            "8953       Humanities         7.0        10/49  Funded Startup            1   \n",
            "8954             STEM        21.0        50-99         Pvt Ltd            4   \n",
            "\n",
            "      training_hours  target  \n",
            "8948              18     0.0  \n",
            "8949              51     0.0  \n",
            "8950              52     1.0  \n",
            "8951              36     1.0  \n",
            "8952              23     0.0  \n",
            "8953              25     0.0  \n",
            "8954              44     0.0  \n"
          ]
        }
      ],
      "source": [
        "# TODO\n",
        "top_data = df.head(7)\n",
        "bottom_data = df.tail(7)\n",
        "print(top_data)\n",
        "print(bottom_data)"
      ]
    },
    {
      "cell_type": "markdown",
      "metadata": {
        "id": "gVdizy4enKsy"
      },
      "source": [
        "### 1.4 Show if any column has null values (0.5pt)"
      ]
    },
    {
      "cell_type": "code",
      "execution_count": 6,
      "metadata": {
        "id": "youEZNzMnLbe",
        "colab": {
          "base_uri": "https://localhost:8080/"
        },
        "outputId": "43acfcef-9ef3-4ff1-b930-aa6cac8a8950"
      },
      "outputs": [
        {
          "output_type": "execute_result",
          "data": {
            "text/plain": [
              "False"
            ]
          },
          "metadata": {},
          "execution_count": 6
        }
      ],
      "source": [
        "# TODO\n",
        "df.isnull().values.any()"
      ]
    },
    {
      "cell_type": "markdown",
      "metadata": {
        "id": "2z3XH127sPTk"
      },
      "source": [
        "### 1.5 Show/Plot the count of unique target labels and discuss its imbalances and possible issues in using it for classification. (1.5pt)"
      ]
    },
    {
      "cell_type": "code",
      "execution_count": 7,
      "metadata": {
        "id": "abZRsNaHrbij",
        "colab": {
          "base_uri": "https://localhost:8080/",
          "height": 271
        },
        "outputId": "594279f3-9359-432c-ef63-a919a328649f"
      },
      "outputs": [
        {
          "output_type": "display_data",
          "data": {
            "text/plain": [
              "<Figure size 432x288 with 1 Axes>"
            ],
            "image/png": "[encoded data removed]"
          },
          "metadata": {
            "needs_background": "light"
          }
        }
      ],
      "source": [
        "# TODO\n",
        "pd.value_counts(df[\"target\"]).plot.bar()\n",
        "plt.show()\n",
        "#There are far more 0's in the target column, so there are not asa many people looking for a job change"
      ]
    },
    {
      "cell_type": "markdown",
      "metadata": {
        "id": "BNbeIOjtynuO"
      },
      "source": [
        "# 2. Feature Selection and Pre-processing (25 pts total)"
      ]
    },
    {
      "cell_type": "markdown",
      "metadata": {
        "id": "owN9XnpJ1VWZ"
      },
      "source": [
        "## 2.1 Preprocessing City (1+1+1+1 = 4pts total)"
      ]
    },
    {
      "cell_type": "markdown",
      "metadata": {
        "id": "2qDnMLJy1PPF"
      },
      "source": [
        "### 2.1.1 Plot no. of records per city so that the highest city counts are shown in descending order (1pt)"
      ]
    },
    {
      "cell_type": "code",
      "execution_count": 8,
      "metadata": {
        "id": "PqC1hgu_sO--",
        "colab": {
          "base_uri": "https://localhost:8080/",
          "height": 312
        },
        "outputId": "41e79392-ebf0-4d00-eafa-f0b37c639623"
      },
      "outputs": [
        {
          "output_type": "display_data",
          "data": {
            "text/plain": [
              "<Figure size 1728x288 with 1 Axes>"
            ],
            "image/png": "[encoded data removed]"
          },
          "metadata": {
            "needs_background": "light"
          }
        }
      ],
      "source": [
        "# TODO\n",
        "plt.figure(figsize=(24, 4))\n",
        "plt.xticks(rotation=90)\n",
        "sns.countplot(data = df, x=\"city\", order=df['city'].value_counts().index)\n",
        "plt.show()"
      ]
    },
    {
      "cell_type": "markdown",
      "source": [],
      "metadata": {
        "id": "lnYSCGEBCGtj"
      }
    },
    {
      "cell_type": "markdown",
      "metadata": {
        "id": "s7WiOn891a7F"
      },
      "source": [
        "### 2.1.2 How many rows belong to the count-wise top 4 cities in total and how many for the remaining? (1pt)"
      ]
    },
    {
      "cell_type": "code",
      "execution_count": 9,
      "metadata": {
        "id": "RL9nN1Im1DrD",
        "colab": {
          "base_uri": "https://localhost:8080/"
        },
        "outputId": "41fc4d02-bfa7-48c9-9ec9-7954b5ff1492"
      },
      "outputs": [
        {
          "output_type": "stream",
          "name": "stdout",
          "text": [
            "Rows belonging to top 4 cities: 5021\n",
            "Rows belonging to the rest of the cities: 3933\n"
          ]
        }
      ],
      "source": [
        "# TODO\n",
        "city_count = df['city'].value_counts()\n",
        "top4 = city_count['city_103'] + city_count['city_21'] + city_count['city_16'] + city_count['city_114']\n",
        "print(\"Rows belonging to top 4 cities:\", top4)\n",
        "rest = 8954 - top4\n",
        "print(\"Rows belonging to the rest of the cities:\", rest)\n",
        "top4_list = [city_count['city_103'], city_count['city_21'], city_count['city_16'], city_count['city_114']]"
      ]
    },
    {
      "cell_type": "markdown",
      "metadata": {
        "id": "reZOuxsBSXGF"
      },
      "source": [
        "### 2.1.3 Replace the city name with city_others if the city name is not among the top 4 (1pt)"
      ]
    },
    {
      "cell_type": "code",
      "execution_count": 10,
      "metadata": {
        "id": "IxrFi5k1Oirf",
        "colab": {
          "base_uri": "https://localhost:8080/"
        },
        "outputId": "9dfcf2cb-0d20-4106-fda4-3eb8aa562c44"
      },
      "outputs": [
        {
          "output_type": "stream",
          "name": "stdout",
          "text": [
            "0       city_other\n",
            "1       city_other\n",
            "2       city_other\n",
            "3         city_103\n",
            "4         city_103\n",
            "           ...    \n",
            "8950       city_21\n",
            "8951      city_103\n",
            "8952    city_other\n",
            "8953      city_103\n",
            "8954      city_103\n",
            "Name: city, Length: 8955, dtype: object\n"
          ]
        }
      ],
      "source": [
        "# TODO\n",
        "name_df = df['city'].apply(lambda x: x if x in ['city_103', 'city_21', 'city_16', 'city_114'] else 'city_other')\n",
        "print(name_df)"
      ]
    },
    {
      "cell_type": "markdown",
      "metadata": {
        "id": "J09Oz726Sv90"
      },
      "source": [
        "### 2.1.4 Show some sample data that the records have changed correctly. (1pt)"
      ]
    },
    {
      "cell_type": "code",
      "execution_count": 11,
      "metadata": {
        "id": "esi0-ntwSvjX",
        "colab": {
          "base_uri": "https://localhost:8080/"
        },
        "outputId": "badc75db-4744-4cb6-c0ad-16f586be8be4"
      },
      "outputs": [
        {
          "output_type": "stream",
          "name": "stdout",
          "text": [
            "city_other    3934\n",
            "city_103      2426\n",
            "city_21       1111\n",
            "city_16        836\n",
            "city_114       648\n",
            "Name: city, dtype: int64\n"
          ]
        }
      ],
      "source": [
        "# TODO\n",
        "city_count2 = name_df.value_counts()\n",
        "print(city_count2)"
      ]
    },
    {
      "cell_type": "markdown",
      "metadata": {
        "id": "t8Y0Fz4RTAHc"
      },
      "source": [
        "## 2.2. Preprocessing Education Level (1+2+2+1 = 6pts total)"
      ]
    },
    {
      "cell_type": "markdown",
      "metadata": {
        "id": "EhNJLVAsTFT5"
      },
      "source": [
        "### 2.2.1. Show the unique values of education level. (1pt)"
      ]
    },
    {
      "cell_type": "code",
      "execution_count": 12,
      "metadata": {
        "id": "gIzfPOywTDEz",
        "colab": {
          "base_uri": "https://localhost:8080/"
        },
        "outputId": "42798217-3edd-48f3-c241-95dfbc3146ae"
      },
      "outputs": [
        {
          "output_type": "stream",
          "name": "stdout",
          "text": [
            "['Graduate' 'Masters' 'Phd']\n"
          ]
        }
      ],
      "source": [
        "# TODO\n",
        "unique_df = df['education_level'].unique()\n",
        "print(unique_df)"
      ]
    },
    {
      "cell_type": "markdown",
      "metadata": {
        "id": "mbLeUaKvfttp"
      },
      "source": [
        "### 2.2.2. Write a function named replace_labels() that can replace labels using given {old_label:new_label} dictionary (2pts)\n",
        "\n",
        "Parameters: (1) dataframe, (2) a column name, (3) a dictionary with {old_label:new_label} mapping. \n",
        "\n",
        "Returns: a dataframe with specified column values replaced with the  \n"
      ]
    },
    {
      "cell_type": "code",
      "execution_count": 13,
      "metadata": {
        "id": "sptGBzaVfthA"
      },
      "outputs": [],
      "source": [
        "# TODO\n",
        "def replace_labels(df, column, dictionary):\n",
        "  df[column] = df[column].replace(dictionary)\n",
        "  return df"
      ]
    },
    {
      "cell_type": "markdown",
      "metadata": {
        "id": "B3RuKvE8iYBu"
      },
      "source": [
        "### 2.2.3. Using the replace_labels() function you just created, replace education_level column with ordinal values. The mapping can be like \"Graduate\":0, \"Masters\":1, \"Phd\":2 . (2pt)"
      ]
    },
    {
      "cell_type": "code",
      "execution_count": 14,
      "metadata": {
        "id": "ZW1ZzKCihO0L",
        "colab": {
          "base_uri": "https://localhost:8080/",
          "height": 643
        },
        "outputId": "e2494757-805e-409d-d417-23a904d7d557"
      },
      "outputs": [
        {
          "output_type": "execute_result",
          "data": {
            "text/plain": [
              "      Unnamed: 0  enrollee_id      city  city_development_index  gender  \\\n",
              "0              1        29725   city_40                   0.776    Male   \n",
              "1              4          666  city_162                   0.767    Male   \n",
              "2              7          402   city_46                   0.762    Male   \n",
              "3              8        27107  city_103                   0.920    Male   \n",
              "4             11        23853  city_103                   0.920    Male   \n",
              "...          ...          ...       ...                     ...     ...   \n",
              "8950       19147        21319   city_21                   0.624    Male   \n",
              "8951       19149          251  city_103                   0.920    Male   \n",
              "8952       19150        32313  city_160                   0.920  Female   \n",
              "8953       19152        29754  city_103                   0.920  Female   \n",
              "8954       19155        24576  city_103                   0.920    Male   \n",
              "\n",
              "          relevent_experience enrolled_university  education_level  \\\n",
              "0      No relevent experience       no_enrollment                0   \n",
              "1     Has relevent experience       no_enrollment                1   \n",
              "2     Has relevent experience       no_enrollment                0   \n",
              "3     Has relevent experience       no_enrollment                0   \n",
              "4     Has relevent experience       no_enrollment                0   \n",
              "...                       ...                 ...              ...   \n",
              "8950   No relevent experience    Full time course                0   \n",
              "8951  Has relevent experience       no_enrollment                1   \n",
              "8952  Has relevent experience       no_enrollment                0   \n",
              "8953  Has relevent experience       no_enrollment                0   \n",
              "8954  Has relevent experience       no_enrollment                0   \n",
              "\n",
              "     major_discipline  experience company_size    company_type last_new_job  \\\n",
              "0                STEM        15.0        50-99         Pvt Ltd           >4   \n",
              "1                STEM        21.0        50-99  Funded Startup            4   \n",
              "2                STEM        13.0          <10         Pvt Ltd           >4   \n",
              "3                STEM         7.0        50-99         Pvt Ltd            1   \n",
              "4                STEM         5.0    5000-9999         Pvt Ltd            1   \n",
              "...               ...         ...          ...             ...          ...   \n",
              "8950             STEM         1.0      100-500         Pvt Ltd            1   \n",
              "8951             STEM         9.0        50-99         Pvt Ltd            1   \n",
              "8952             STEM        10.0      100-500   Public Sector            3   \n",
              "8953       Humanities         7.0        10/49  Funded Startup            1   \n",
              "8954             STEM        21.0        50-99         Pvt Ltd            4   \n",
              "\n",
              "      training_hours  target  \n",
              "0                 47     0.0  \n",
              "1                  8     0.0  \n",
              "2                 18     1.0  \n",
              "3                 46     1.0  \n",
              "4                108     0.0  \n",
              "...              ...     ...  \n",
              "8950              52     1.0  \n",
              "8951              36     1.0  \n",
              "8952              23     0.0  \n",
              "8953              25     0.0  \n",
              "8954              44     0.0  \n",
              "\n",
              "[8955 rows x 15 columns]"
            ],
            "text/html": [
              "\n",
              "  <div id=\"df-36a9a007-8072-430c-b658-36a08d517499\">\n",
              "    <div class=\"colab-df-container\">\n",
              "      <div>\n",
              "<style scoped>\n",
              "    .dataframe tbody tr th:only-of-type {\n",
              "        vertical-align: middle;\n",
              "    }\n",
              "\n",
              "    .dataframe tbody tr th {\n",
              "        vertical-align: top;\n",
              "    }\n",
              "\n",
              "    .dataframe thead th {\n",
              "        text-align: right;\n",
              "    }\n",
              "</style>\n",
              "<table border=\"1\" class=\"dataframe\">\n",
              "  <thead>\n",
              "    <tr style=\"text-align: right;\">\n",
              "      <th></th>\n",
              "      <th>Unnamed: 0</th>\n",
              "      <th>enrollee_id</th>\n",
              "      <th>city</th>\n",
              "      <th>city_development_index</th>\n",
              "      <th>gender</th>\n",
              "      <th>relevent_experience</th>\n",
              "      <th>enrolled_university</th>\n",
              "      <th>education_level</th>\n",
              "      <th>major_discipline</th>\n",
              "      <th>experience</th>\n",
              "      <th>company_size</th>\n",
              "      <th>company_type</th>\n",
              "      <th>last_new_job</th>\n",
              "      <th>training_hours</th>\n",
              "      <th>target</th>\n",
              "    </tr>\n",
              "  </thead>\n",
              "  <tbody>\n",
              "    <tr>\n",
              "      <th>0</th>\n",
              "      <td>1</td>\n",
              "      <td>29725</td>\n",
              "      <td>city_40</td>\n",
              "      <td>0.776</td>\n",
              "      <td>Male</td>\n",
              "      <td>No relevent experience</td>\n",
              "      <td>no_enrollment</td>\n",
              "      <td>0</td>\n",
              "      <td>STEM</td>\n",
              "      <td>15.0</td>\n",
              "      <td>50-99</td>\n",
              "      <td>Pvt Ltd</td>\n",
              "      <td>&gt;4</td>\n",
              "      <td>47</td>\n",
              "      <td>0.0</td>\n",
              "    </tr>\n",
              "    <tr>\n",
              "      <th>1</th>\n",
              "      <td>4</td>\n",
              "      <td>666</td>\n",
              "      <td>city_162</td>\n",
              "      <td>0.767</td>\n",
              "      <td>Male</td>\n",
              "      <td>Has relevent experience</td>\n",
              "      <td>no_enrollment</td>\n",
              "      <td>1</td>\n",
              "      <td>STEM</td>\n",
              "      <td>21.0</td>\n",
              "      <td>50-99</td>\n",
              "      <td>Funded Startup</td>\n",
              "      <td>4</td>\n",
              "      <td>8</td>\n",
              "      <td>0.0</td>\n",
              "    </tr>\n",
              "    <tr>\n",
              "      <th>2</th>\n",
              "      <td>7</td>\n",
              "      <td>402</td>\n",
              "      <td>city_46</td>\n",
              "      <td>0.762</td>\n",
              "      <td>Male</td>\n",
              "      <td>Has relevent experience</td>\n",
              "      <td>no_enrollment</td>\n",
              "      <td>0</td>\n",
              "      <td>STEM</td>\n",
              "      <td>13.0</td>\n",
              "      <td>&lt;10</td>\n",
              "      <td>Pvt Ltd</td>\n",
              "      <td>&gt;4</td>\n",
              "      <td>18</td>\n",
              "      <td>1.0</td>\n",
              "    </tr>\n",
              "    <tr>\n",
              "      <th>3</th>\n",
              "      <td>8</td>\n",
              "      <td>27107</td>\n",
              "      <td>city_103</td>\n",
              "      <td>0.920</td>\n",
              "      <td>Male</td>\n",
              "      <td>Has relevent experience</td>\n",
              "      <td>no_enrollment</td>\n",
              "      <td>0</td>\n",
              "      <td>STEM</td>\n",
              "      <td>7.0</td>\n",
              "      <td>50-99</td>\n",
              "      <td>Pvt Ltd</td>\n",
              "      <td>1</td>\n",
              "      <td>46</td>\n",
              "      <td>1.0</td>\n",
              "    </tr>\n",
              "    <tr>\n",
              "      <th>4</th>\n",
              "      <td>11</td>\n",
              "      <td>23853</td>\n",
              "      <td>city_103</td>\n",
              "      <td>0.920</td>\n",
              "      <td>Male</td>\n",
              "      <td>Has relevent experience</td>\n",
              "      <td>no_enrollment</td>\n",
              "      <td>0</td>\n",
              "      <td>STEM</td>\n",
              "      <td>5.0</td>\n",
              "      <td>5000-9999</td>\n",
              "      <td>Pvt Ltd</td>\n",
              "      <td>1</td>\n",
              "      <td>108</td>\n",
              "      <td>0.0</td>\n",
              "    </tr>\n",
              "    <tr>\n",
              "      <th>...</th>\n",
              "      <td>...</td>\n",
              "      <td>...</td>\n",
              "      <td>...</td>\n",
              "      <td>...</td>\n",
              "      <td>...</td>\n",
              "      <td>...</td>\n",
              "      <td>...</td>\n",
              "      <td>...</td>\n",
              "      <td>...</td>\n",
              "      <td>...</td>\n",
              "      <td>...</td>\n",
              "      <td>...</td>\n",
              "      <td>...</td>\n",
              "      <td>...</td>\n",
              "      <td>...</td>\n",
              "    </tr>\n",
              "    <tr>\n",
              "      <th>8950</th>\n",
              "      <td>19147</td>\n",
              "      <td>21319</td>\n",
              "      <td>city_21</td>\n",
              "      <td>0.624</td>\n",
              "      <td>Male</td>\n",
              "      <td>No relevent experience</td>\n",
              "      <td>Full time course</td>\n",
              "      <td>0</td>\n",
              "      <td>STEM</td>\n",
              "      <td>1.0</td>\n",
              "      <td>100-500</td>\n",
              "      <td>Pvt Ltd</td>\n",
              "      <td>1</td>\n",
              "      <td>52</td>\n",
              "      <td>1.0</td>\n",
              "    </tr>\n",
              "    <tr>\n",
              "      <th>8951</th>\n",
              "      <td>19149</td>\n",
              "      <td>251</td>\n",
              "      <td>city_103</td>\n",
              "      <td>0.920</td>\n",
              "      <td>Male</td>\n",
              "      <td>Has relevent experience</td>\n",
              "      <td>no_enrollment</td>\n",
              "      <td>1</td>\n",
              "      <td>STEM</td>\n",
              "      <td>9.0</td>\n",
              "      <td>50-99</td>\n",
              "      <td>Pvt Ltd</td>\n",
              "      <td>1</td>\n",
              "      <td>36</td>\n",
              "      <td>1.0</td>\n",
              "    </tr>\n",
              "    <tr>\n",
              "      <th>8952</th>\n",
              "      <td>19150</td>\n",
              "      <td>32313</td>\n",
              "      <td>city_160</td>\n",
              "      <td>0.920</td>\n",
              "      <td>Female</td>\n",
              "      <td>Has relevent experience</td>\n",
              "      <td>no_enrollment</td>\n",
              "      <td>0</td>\n",
              "      <td>STEM</td>\n",
              "      <td>10.0</td>\n",
              "      <td>100-500</td>\n",
              "      <td>Public Sector</td>\n",
              "      <td>3</td>\n",
              "      <td>23</td>\n",
              "      <td>0.0</td>\n",
              "    </tr>\n",
              "    <tr>\n",
              "      <th>8953</th>\n",
              "      <td>19152</td>\n",
              "      <td>29754</td>\n",
              "      <td>city_103</td>\n",
              "      <td>0.920</td>\n",
              "      <td>Female</td>\n",
              "      <td>Has relevent experience</td>\n",
              "      <td>no_enrollment</td>\n",
              "      <td>0</td>\n",
              "      <td>Humanities</td>\n",
              "      <td>7.0</td>\n",
              "      <td>10/49</td>\n",
              "      <td>Funded Startup</td>\n",
              "      <td>1</td>\n",
              "      <td>25</td>\n",
              "      <td>0.0</td>\n",
              "    </tr>\n",
              "    <tr>\n",
              "      <th>8954</th>\n",
              "      <td>19155</td>\n",
              "      <td>24576</td>\n",
              "      <td>city_103</td>\n",
              "      <td>0.920</td>\n",
              "      <td>Male</td>\n",
              "      <td>Has relevent experience</td>\n",
              "      <td>no_enrollment</td>\n",
              "      <td>0</td>\n",
              "      <td>STEM</td>\n",
              "      <td>21.0</td>\n",
              "      <td>50-99</td>\n",
              "      <td>Pvt Ltd</td>\n",
              "      <td>4</td>\n",
              "      <td>44</td>\n",
              "      <td>0.0</td>\n",
              "    </tr>\n",
              "  </tbody>\n",
              "</table>\n",
              "<p>8955 rows × 15 columns</p>\n",
              "</div>\n",
              "      <button class=\"colab-df-convert\" onclick=\"convertToInteractive('df-36a9a007-8072-430c-b658-36a08d517499')\"\n",
              "              title=\"Convert this dataframe to an interactive table.\"\n",
              "              style=\"display:none;\">\n",
              "        \n",
              "  <svg xmlns=\"http://www.w3.org/2000/svg\" height=\"24px\"viewBox=\"0 0 24 24\"\n",
              "       width=\"24px\">\n",
              "    <path d=\"M0 0h24v24H0V0z\" fill=\"none\"/>\n",
              "    <path d=\"M18.56 5.44l.94 2.06.94-2.06 2.06-.94-2.06-.94-.94-2.06-.94 2.06-2.06.94zm-11 1L8.5 8.5l.94-2.06 2.06-.94-2.06-.94L8.5 2.5l-.94 2.06-2.06.94zm10 10l.94 2.06.94-2.06 2.06-.94-2.06-.94-.94-2.06-.94 2.06-2.06.94z\"/><path d=\"M17.41 7.96l-1.37-1.37c-.4-.4-.92-.59-1.43-.59-.52 0-1.04.2-1.43.59L10.3 9.45l-7.72 7.72c-.78.78-.78 2.05 0 2.83L4 21.41c.39.39.9.59 1.41.59.51 0 1.02-.2 1.41-.59l7.78-7.78 2.81-2.81c.8-.78.8-2.07 0-2.86zM5.41 20L4 18.59l7.72-7.72 1.47 1.35L5.41 20z\"/>\n",
              "  </svg>\n",
              "      </button>\n",
              "      \n",
              "  <style>\n",
              "    .colab-df-container {\n",
              "      display:flex;\n",
              "      flex-wrap:wrap;\n",
              "      gap: 12px;\n",
              "    }\n",
              "\n",
              "    .colab-df-convert {\n",
              "      background-color: #E8F0FE;\n",
              "      border: none;\n",
              "      border-radius: 50%;\n",
              "      cursor: pointer;\n",
              "      display: none;\n",
              "      fill: #1967D2;\n",
              "      height: 32px;\n",
              "      padding: 0 0 0 0;\n",
              "      width: 32px;\n",
              "    }\n",
              "\n",
              "    .colab-df-convert:hover {\n",
              "      background-color: #E2EBFA;\n",
              "      box-shadow: 0px 1px 2px rgba(60, 64, 67, 0.3), 0px 1px 3px 1px rgba(60, 64, 67, 0.15);\n",
              "      fill: #174EA6;\n",
              "    }\n",
              "\n",
              "    [theme=dark] .colab-df-convert {\n",
              "      background-color: #3B4455;\n",
              "      fill: #D2E3FC;\n",
              "    }\n",
              "\n",
              "    [theme=dark] .colab-df-convert:hover {\n",
              "      background-color: #434B5C;\n",
              "      box-shadow: 0px 1px 3px 1px rgba(0, 0, 0, 0.15);\n",
              "      filter: drop-shadow(0px 1px 2px rgba(0, 0, 0, 0.3));\n",
              "      fill: #FFFFFF;\n",
              "    }\n",
              "  </style>\n",
              "\n",
              "      <script>\n",
              "        const buttonEl =\n",
              "          document.querySelector('#df-36a9a007-8072-430c-b658-36a08d517499 button.colab-df-convert');\n",
              "        buttonEl.style.display =\n",
              "          google.colab.kernel.accessAllowed ? 'block' : 'none';\n",
              "\n",
              "        async function convertToInteractive(key) {\n",
              "          const element = document.querySelector('#df-36a9a007-8072-430c-b658-36a08d517499');\n",
              "          const dataTable =\n",
              "            await google.colab.kernel.invokeFunction('convertToInteractive',\n",
              "                                                     [key], {});\n",
              "          if (!dataTable) return;\n",
              "\n",
              "          const docLinkHtml = 'Like what you see? Visit the ' +\n",
              "            '<a target=\"_blank\" href=https://colab.research.google.com/notebooks/data_table.ipynb>data table notebook</a>'\n",
              "            + ' to learn more about interactive tables.';\n",
              "          element.innerHTML = '';\n",
              "          dataTable['output_type'] = 'display_data';\n",
              "          await google.colab.output.renderOutput(dataTable, element);\n",
              "          const docLink = document.createElement('div');\n",
              "          docLink.innerHTML = docLinkHtml;\n",
              "          element.appendChild(docLink);\n",
              "        }\n",
              "      </script>\n",
              "    </div>\n",
              "  </div>\n",
              "  "
            ]
          },
          "metadata": {},
          "execution_count": 14
        }
      ],
      "source": [
        "# TODO\n",
        "replace_labels(df, 'education_level', {'Graduate':0, 'Masters':1, 'Phd':2})"
      ]
    },
    {
      "cell_type": "markdown",
      "metadata": {
        "id": "VibwcvMDnfHZ"
      },
      "source": [
        "### 2.2.4 Show some sample data that the records have changed appropriately (1pt)"
      ]
    },
    {
      "cell_type": "code",
      "execution_count": 15,
      "metadata": {
        "id": "JkObFS_bnecp",
        "colab": {
          "base_uri": "https://localhost:8080/"
        },
        "outputId": "c057360a-abcf-49bf-a580-f881401f2acb"
      },
      "outputs": [
        {
          "output_type": "stream",
          "name": "stdout",
          "text": [
            "0       0\n",
            "1       1\n",
            "2       0\n",
            "3       0\n",
            "4       0\n",
            "       ..\n",
            "8950    0\n",
            "8951    1\n",
            "8952    0\n",
            "8953    0\n",
            "8954    0\n",
            "Name: education_level, Length: 8955, dtype: int64\n",
            "0    6252\n",
            "1    2449\n",
            "2     254\n",
            "Name: education_level, dtype: int64\n"
          ]
        }
      ],
      "source": [
        "# TODO\n",
        "print(df['education_level'])\n",
        "count_edu = df['education_level'].value_counts()\n",
        "print(count_edu)"
      ]
    },
    {
      "cell_type": "markdown",
      "metadata": {
        "id": "pBI-qbDiXI2M"
      },
      "source": [
        "## 2.3. Preprocessing company_size (2+2+1 = 5pts total)"
      ]
    },
    {
      "cell_type": "markdown",
      "metadata": {
        "id": "fP7UisA6ZS9X"
      },
      "source": [
        "### 2.3.1 Show the unique values of the company_size column and their counts (2pt)"
      ]
    },
    {
      "cell_type": "code",
      "execution_count": 16,
      "metadata": {
        "id": "VYQ8sAQljncN",
        "colab": {
          "base_uri": "https://localhost:8080/"
        },
        "outputId": "3f2bbe8b-4df9-4f35-ee20-354c147b4abd"
      },
      "outputs": [
        {
          "output_type": "stream",
          "name": "stdout",
          "text": [
            "['50-99' '<10' '5000-9999' '1000-4999' '10/49' '100-500' '10000+'\n",
            " '500-999']\n",
            "50-99        1986\n",
            "100-500      1814\n",
            "10000+       1449\n",
            "10/49         951\n",
            "1000-4999     930\n",
            "<10           840\n",
            "500-999       592\n",
            "5000-9999     393\n",
            "Name: company_size, dtype: int64\n"
          ]
        }
      ],
      "source": [
        "# TODO\n",
        "unique_comp = df['company_size'].unique()\n",
        "print(unique_comp)\n",
        "size_count = df['company_size'].value_counts()\n",
        "print(size_count)"
      ]
    },
    {
      "cell_type": "markdown",
      "metadata": {
        "id": "o1iq9fTcjWMU"
      },
      "source": [
        "### 2.3.2 Change the values of the company_size column from 0 to 7 where e0 is <10 and 7 is 10000+. The order of the numbers should be based on the values of the column-like an ordinary variable. (2pt)\n",
        "(Hint: you can use the replace_labels() function you created before.)"
      ]
    },
    {
      "cell_type": "code",
      "execution_count": 17,
      "metadata": {
        "id": "qi2Y6fJfeyDi",
        "colab": {
          "base_uri": "https://localhost:8080/",
          "height": 643
        },
        "outputId": "485792de-975f-4a30-98d3-3ad71ccfc645"
      },
      "outputs": [
        {
          "output_type": "execute_result",
          "data": {
            "text/plain": [
              "      Unnamed: 0  enrollee_id      city  city_development_index  gender  \\\n",
              "0              1        29725   city_40                   0.776    Male   \n",
              "1              4          666  city_162                   0.767    Male   \n",
              "2              7          402   city_46                   0.762    Male   \n",
              "3              8        27107  city_103                   0.920    Male   \n",
              "4             11        23853  city_103                   0.920    Male   \n",
              "...          ...          ...       ...                     ...     ...   \n",
              "8950       19147        21319   city_21                   0.624    Male   \n",
              "8951       19149          251  city_103                   0.920    Male   \n",
              "8952       19150        32313  city_160                   0.920  Female   \n",
              "8953       19152        29754  city_103                   0.920  Female   \n",
              "8954       19155        24576  city_103                   0.920    Male   \n",
              "\n",
              "          relevent_experience enrolled_university  education_level  \\\n",
              "0      No relevent experience       no_enrollment                0   \n",
              "1     Has relevent experience       no_enrollment                1   \n",
              "2     Has relevent experience       no_enrollment                0   \n",
              "3     Has relevent experience       no_enrollment                0   \n",
              "4     Has relevent experience       no_enrollment                0   \n",
              "...                       ...                 ...              ...   \n",
              "8950   No relevent experience    Full time course                0   \n",
              "8951  Has relevent experience       no_enrollment                1   \n",
              "8952  Has relevent experience       no_enrollment                0   \n",
              "8953  Has relevent experience       no_enrollment                0   \n",
              "8954  Has relevent experience       no_enrollment                0   \n",
              "\n",
              "     major_discipline  experience  company_size    company_type last_new_job  \\\n",
              "0                STEM        15.0             2         Pvt Ltd           >4   \n",
              "1                STEM        21.0             2  Funded Startup            4   \n",
              "2                STEM        13.0             0         Pvt Ltd           >4   \n",
              "3                STEM         7.0             2         Pvt Ltd            1   \n",
              "4                STEM         5.0             6         Pvt Ltd            1   \n",
              "...               ...         ...           ...             ...          ...   \n",
              "8950             STEM         1.0             3         Pvt Ltd            1   \n",
              "8951             STEM         9.0             2         Pvt Ltd            1   \n",
              "8952             STEM        10.0             3   Public Sector            3   \n",
              "8953       Humanities         7.0             1  Funded Startup            1   \n",
              "8954             STEM        21.0             2         Pvt Ltd            4   \n",
              "\n",
              "      training_hours  target  \n",
              "0                 47     0.0  \n",
              "1                  8     0.0  \n",
              "2                 18     1.0  \n",
              "3                 46     1.0  \n",
              "4                108     0.0  \n",
              "...              ...     ...  \n",
              "8950              52     1.0  \n",
              "8951              36     1.0  \n",
              "8952              23     0.0  \n",
              "8953              25     0.0  \n",
              "8954              44     0.0  \n",
              "\n",
              "[8955 rows x 15 columns]"
            ],
            "text/html": [
              "\n",
              "  <div id=\"df-565026fb-f1e7-47bb-8f55-c59f87790782\">\n",
              "    <div class=\"colab-df-container\">\n",
              "      <div>\n",
              "<style scoped>\n",
              "    .dataframe tbody tr th:only-of-type {\n",
              "        vertical-align: middle;\n",
              "    }\n",
              "\n",
              "    .dataframe tbody tr th {\n",
              "        vertical-align: top;\n",
              "    }\n",
              "\n",
              "    .dataframe thead th {\n",
              "        text-align: right;\n",
              "    }\n",
              "</style>\n",
              "<table border=\"1\" class=\"dataframe\">\n",
              "  <thead>\n",
              "    <tr style=\"text-align: right;\">\n",
              "      <th></th>\n",
              "      <th>Unnamed: 0</th>\n",
              "      <th>enrollee_id</th>\n",
              "      <th>city</th>\n",
              "      <th>city_development_index</th>\n",
              "      <th>gender</th>\n",
              "      <th>relevent_experience</th>\n",
              "      <th>enrolled_university</th>\n",
              "      <th>education_level</th>\n",
              "      <th>major_discipline</th>\n",
              "      <th>experience</th>\n",
              "      <th>company_size</th>\n",
              "      <th>company_type</th>\n",
              "      <th>last_new_job</th>\n",
              "      <th>training_hours</th>\n",
              "      <th>target</th>\n",
              "    </tr>\n",
              "  </thead>\n",
              "  <tbody>\n",
              "    <tr>\n",
              "      <th>0</th>\n",
              "      <td>1</td>\n",
              "      <td>29725</td>\n",
              "      <td>city_40</td>\n",
              "      <td>0.776</td>\n",
              "      <td>Male</td>\n",
              "      <td>No relevent experience</td>\n",
              "      <td>no_enrollment</td>\n",
              "      <td>0</td>\n",
              "      <td>STEM</td>\n",
              "      <td>15.0</td>\n",
              "      <td>2</td>\n",
              "      <td>Pvt Ltd</td>\n",
              "      <td>&gt;4</td>\n",
              "      <td>47</td>\n",
              "      <td>0.0</td>\n",
              "    </tr>\n",
              "    <tr>\n",
              "      <th>1</th>\n",
              "      <td>4</td>\n",
              "      <td>666</td>\n",
              "      <td>city_162</td>\n",
              "      <td>0.767</td>\n",
              "      <td>Male</td>\n",
              "      <td>Has relevent experience</td>\n",
              "      <td>no_enrollment</td>\n",
              "      <td>1</td>\n",
              "      <td>STEM</td>\n",
              "      <td>21.0</td>\n",
              "      <td>2</td>\n",
              "      <td>Funded Startup</td>\n",
              "      <td>4</td>\n",
              "      <td>8</td>\n",
              "      <td>0.0</td>\n",
              "    </tr>\n",
              "    <tr>\n",
              "      <th>2</th>\n",
              "      <td>7</td>\n",
              "      <td>402</td>\n",
              "      <td>city_46</td>\n",
              "      <td>0.762</td>\n",
              "      <td>Male</td>\n",
              "      <td>Has relevent experience</td>\n",
              "      <td>no_enrollment</td>\n",
              "      <td>0</td>\n",
              "      <td>STEM</td>\n",
              "      <td>13.0</td>\n",
              "      <td>0</td>\n",
              "      <td>Pvt Ltd</td>\n",
              "      <td>&gt;4</td>\n",
              "      <td>18</td>\n",
              "      <td>1.0</td>\n",
              "    </tr>\n",
              "    <tr>\n",
              "      <th>3</th>\n",
              "      <td>8</td>\n",
              "      <td>27107</td>\n",
              "      <td>city_103</td>\n",
              "      <td>0.920</td>\n",
              "      <td>Male</td>\n",
              "      <td>Has relevent experience</td>\n",
              "      <td>no_enrollment</td>\n",
              "      <td>0</td>\n",
              "      <td>STEM</td>\n",
              "      <td>7.0</td>\n",
              "      <td>2</td>\n",
              "      <td>Pvt Ltd</td>\n",
              "      <td>1</td>\n",
              "      <td>46</td>\n",
              "      <td>1.0</td>\n",
              "    </tr>\n",
              "    <tr>\n",
              "      <th>4</th>\n",
              "      <td>11</td>\n",
              "      <td>23853</td>\n",
              "      <td>city_103</td>\n",
              "      <td>0.920</td>\n",
              "      <td>Male</td>\n",
              "      <td>Has relevent experience</td>\n",
              "      <td>no_enrollment</td>\n",
              "      <td>0</td>\n",
              "      <td>STEM</td>\n",
              "      <td>5.0</td>\n",
              "      <td>6</td>\n",
              "      <td>Pvt Ltd</td>\n",
              "      <td>1</td>\n",
              "      <td>108</td>\n",
              "      <td>0.0</td>\n",
              "    </tr>\n",
              "    <tr>\n",
              "      <th>...</th>\n",
              "      <td>...</td>\n",
              "      <td>...</td>\n",
              "      <td>...</td>\n",
              "      <td>...</td>\n",
              "      <td>...</td>\n",
              "      <td>...</td>\n",
              "      <td>...</td>\n",
              "      <td>...</td>\n",
              "      <td>...</td>\n",
              "      <td>...</td>\n",
              "      <td>...</td>\n",
              "      <td>...</td>\n",
              "      <td>...</td>\n",
              "      <td>...</td>\n",
              "      <td>...</td>\n",
              "    </tr>\n",
              "    <tr>\n",
              "      <th>8950</th>\n",
              "      <td>19147</td>\n",
              "      <td>21319</td>\n",
              "      <td>city_21</td>\n",
              "      <td>0.624</td>\n",
              "      <td>Male</td>\n",
              "      <td>No relevent experience</td>\n",
              "      <td>Full time course</td>\n",
              "      <td>0</td>\n",
              "      <td>STEM</td>\n",
              "      <td>1.0</td>\n",
              "      <td>3</td>\n",
              "      <td>Pvt Ltd</td>\n",
              "      <td>1</td>\n",
              "      <td>52</td>\n",
              "      <td>1.0</td>\n",
              "    </tr>\n",
              "    <tr>\n",
              "      <th>8951</th>\n",
              "      <td>19149</td>\n",
              "      <td>251</td>\n",
              "      <td>city_103</td>\n",
              "      <td>0.920</td>\n",
              "      <td>Male</td>\n",
              "      <td>Has relevent experience</td>\n",
              "      <td>no_enrollment</td>\n",
              "      <td>1</td>\n",
              "      <td>STEM</td>\n",
              "      <td>9.0</td>\n",
              "      <td>2</td>\n",
              "      <td>Pvt Ltd</td>\n",
              "      <td>1</td>\n",
              "      <td>36</td>\n",
              "      <td>1.0</td>\n",
              "    </tr>\n",
              "    <tr>\n",
              "      <th>8952</th>\n",
              "      <td>19150</td>\n",
              "      <td>32313</td>\n",
              "      <td>city_160</td>\n",
              "      <td>0.920</td>\n",
              "      <td>Female</td>\n",
              "      <td>Has relevent experience</td>\n",
              "      <td>no_enrollment</td>\n",
              "      <td>0</td>\n",
              "      <td>STEM</td>\n",
              "      <td>10.0</td>\n",
              "      <td>3</td>\n",
              "      <td>Public Sector</td>\n",
              "      <td>3</td>\n",
              "      <td>23</td>\n",
              "      <td>0.0</td>\n",
              "    </tr>\n",
              "    <tr>\n",
              "      <th>8953</th>\n",
              "      <td>19152</td>\n",
              "      <td>29754</td>\n",
              "      <td>city_103</td>\n",
              "      <td>0.920</td>\n",
              "      <td>Female</td>\n",
              "      <td>Has relevent experience</td>\n",
              "      <td>no_enrollment</td>\n",
              "      <td>0</td>\n",
              "      <td>Humanities</td>\n",
              "      <td>7.0</td>\n",
              "      <td>1</td>\n",
              "      <td>Funded Startup</td>\n",
              "      <td>1</td>\n",
              "      <td>25</td>\n",
              "      <td>0.0</td>\n",
              "    </tr>\n",
              "    <tr>\n",
              "      <th>8954</th>\n",
              "      <td>19155</td>\n",
              "      <td>24576</td>\n",
              "      <td>city_103</td>\n",
              "      <td>0.920</td>\n",
              "      <td>Male</td>\n",
              "      <td>Has relevent experience</td>\n",
              "      <td>no_enrollment</td>\n",
              "      <td>0</td>\n",
              "      <td>STEM</td>\n",
              "      <td>21.0</td>\n",
              "      <td>2</td>\n",
              "      <td>Pvt Ltd</td>\n",
              "      <td>4</td>\n",
              "      <td>44</td>\n",
              "      <td>0.0</td>\n",
              "    </tr>\n",
              "  </tbody>\n",
              "</table>\n",
              "<p>8955 rows × 15 columns</p>\n",
              "</div>\n",
              "      <button class=\"colab-df-convert\" onclick=\"convertToInteractive('df-565026fb-f1e7-47bb-8f55-c59f87790782')\"\n",
              "              title=\"Convert this dataframe to an interactive table.\"\n",
              "              style=\"display:none;\">\n",
              "        \n",
              "  <svg xmlns=\"http://www.w3.org/2000/svg\" height=\"24px\"viewBox=\"0 0 24 24\"\n",
              "       width=\"24px\">\n",
              "    <path d=\"M0 0h24v24H0V0z\" fill=\"none\"/>\n",
              "    <path d=\"M18.56 5.44l.94 2.06.94-2.06 2.06-.94-2.06-.94-.94-2.06-.94 2.06-2.06.94zm-11 1L8.5 8.5l.94-2.06 2.06-.94-2.06-.94L8.5 2.5l-.94 2.06-2.06.94zm10 10l.94 2.06.94-2.06 2.06-.94-2.06-.94-.94-2.06-.94 2.06-2.06.94z\"/><path d=\"M17.41 7.96l-1.37-1.37c-.4-.4-.92-.59-1.43-.59-.52 0-1.04.2-1.43.59L10.3 9.45l-7.72 7.72c-.78.78-.78 2.05 0 2.83L4 21.41c.39.39.9.59 1.41.59.51 0 1.02-.2 1.41-.59l7.78-7.78 2.81-2.81c.8-.78.8-2.07 0-2.86zM5.41 20L4 18.59l7.72-7.72 1.47 1.35L5.41 20z\"/>\n",
              "  </svg>\n",
              "      </button>\n",
              "      \n",
              "  <style>\n",
              "    .colab-df-container {\n",
              "      display:flex;\n",
              "      flex-wrap:wrap;\n",
              "      gap: 12px;\n",
              "    }\n",
              "\n",
              "    .colab-df-convert {\n",
              "      background-color: #E8F0FE;\n",
              "      border: none;\n",
              "      border-radius: 50%;\n",
              "      cursor: pointer;\n",
              "      display: none;\n",
              "      fill: #1967D2;\n",
              "      height: 32px;\n",
              "      padding: 0 0 0 0;\n",
              "      width: 32px;\n",
              "    }\n",
              "\n",
              "    .colab-df-convert:hover {\n",
              "      background-color: #E2EBFA;\n",
              "      box-shadow: 0px 1px 2px rgba(60, 64, 67, 0.3), 0px 1px 3px 1px rgba(60, 64, 67, 0.15);\n",
              "      fill: #174EA6;\n",
              "    }\n",
              "\n",
              "    [theme=dark] .colab-df-convert {\n",
              "      background-color: #3B4455;\n",
              "      fill: #D2E3FC;\n",
              "    }\n",
              "\n",
              "    [theme=dark] .colab-df-convert:hover {\n",
              "      background-color: #434B5C;\n",
              "      box-shadow: 0px 1px 3px 1px rgba(0, 0, 0, 0.15);\n",
              "      filter: drop-shadow(0px 1px 2px rgba(0, 0, 0, 0.3));\n",
              "      fill: #FFFFFF;\n",
              "    }\n",
              "  </style>\n",
              "\n",
              "      <script>\n",
              "        const buttonEl =\n",
              "          document.querySelector('#df-565026fb-f1e7-47bb-8f55-c59f87790782 button.colab-df-convert');\n",
              "        buttonEl.style.display =\n",
              "          google.colab.kernel.accessAllowed ? 'block' : 'none';\n",
              "\n",
              "        async function convertToInteractive(key) {\n",
              "          const element = document.querySelector('#df-565026fb-f1e7-47bb-8f55-c59f87790782');\n",
              "          const dataTable =\n",
              "            await google.colab.kernel.invokeFunction('convertToInteractive',\n",
              "                                                     [key], {});\n",
              "          if (!dataTable) return;\n",
              "\n",
              "          const docLinkHtml = 'Like what you see? Visit the ' +\n",
              "            '<a target=\"_blank\" href=https://colab.research.google.com/notebooks/data_table.ipynb>data table notebook</a>'\n",
              "            + ' to learn more about interactive tables.';\n",
              "          element.innerHTML = '';\n",
              "          dataTable['output_type'] = 'display_data';\n",
              "          await google.colab.output.renderOutput(dataTable, element);\n",
              "          const docLink = document.createElement('div');\n",
              "          docLink.innerHTML = docLinkHtml;\n",
              "          element.appendChild(docLink);\n",
              "        }\n",
              "      </script>\n",
              "    </div>\n",
              "  </div>\n",
              "  "
            ]
          },
          "metadata": {},
          "execution_count": 17
        }
      ],
      "source": [
        "# TODO\n",
        "replace_labels(df, 'company_size', {'<10':0, '10/49':1, '50-99':2, '100-500':3, '500-999':4, '1000-4999':5, '5000-9999':6, '10000+':7})"
      ]
    },
    {
      "cell_type": "markdown",
      "metadata": {
        "id": "-1c8cj2wj0Bo"
      },
      "source": [
        "### 2.3.3 Show the updated unique values to validate they changed appropriately (1pt)"
      ]
    },
    {
      "cell_type": "code",
      "execution_count": 18,
      "metadata": {
        "id": "JNWa09UxelPH",
        "colab": {
          "base_uri": "https://localhost:8080/"
        },
        "outputId": "d39b7323-e926-4d6a-9e8b-30b35a275906"
      },
      "outputs": [
        {
          "output_type": "stream",
          "name": "stdout",
          "text": [
            "0       2\n",
            "1       2\n",
            "2       0\n",
            "3       2\n",
            "4       6\n",
            "       ..\n",
            "8950    3\n",
            "8951    2\n",
            "8952    3\n",
            "8953    1\n",
            "8954    2\n",
            "Name: company_size, Length: 8955, dtype: int64\n",
            "2    1986\n",
            "3    1814\n",
            "7    1449\n",
            "1     951\n",
            "5     930\n",
            "0     840\n",
            "4     592\n",
            "6     393\n",
            "Name: company_size, dtype: int64\n"
          ]
        }
      ],
      "source": [
        "# TODO\n",
        "print(df['company_size'])\n",
        "count_comp = df['company_size'].value_counts()\n",
        "print(count_comp)"
      ]
    },
    {
      "cell_type": "markdown",
      "metadata": {
        "id": "ray9mgZGkMyg"
      },
      "source": [
        "## 2.4. Preprocessing last_new_job (1+2+1 = 4pts total)"
      ]
    },
    {
      "cell_type": "markdown",
      "metadata": {
        "id": "Ry0YEyP7kP51"
      },
      "source": [
        "### 2.4.1 Show unique values of the last_new_job column (1pt)"
      ]
    },
    {
      "cell_type": "code",
      "execution_count": 19,
      "metadata": {
        "id": "9aGPR049kSuN",
        "colab": {
          "base_uri": "https://localhost:8080/"
        },
        "outputId": "f487e06c-25d6-410f-da2b-717757e48339"
      },
      "outputs": [
        {
          "output_type": "stream",
          "name": "stdout",
          "text": [
            "['>4' '4' '1' '3' '2' 'never']\n"
          ]
        }
      ],
      "source": [
        "# TODO\n",
        "unique_job = df['last_new_job'].unique()\n",
        "print(unique_job)"
      ]
    },
    {
      "cell_type": "markdown",
      "metadata": {
        "id": "KowRVFGOkXv4"
      },
      "source": [
        "### 2.4.2 Convert the values of this column to never->0, 1->1,....>4 -->5 (2pt)\n",
        "Hint: replace_labels()"
      ]
    },
    {
      "cell_type": "code",
      "execution_count": 20,
      "metadata": {
        "id": "4AfLULymkZu3",
        "colab": {
          "base_uri": "https://localhost:8080/",
          "height": 643
        },
        "outputId": "471c2650-e066-4b57-f0a4-7db77c00b864"
      },
      "outputs": [
        {
          "output_type": "execute_result",
          "data": {
            "text/plain": [
              "      Unnamed: 0  enrollee_id      city  city_development_index  gender  \\\n",
              "0              1        29725   city_40                   0.776    Male   \n",
              "1              4          666  city_162                   0.767    Male   \n",
              "2              7          402   city_46                   0.762    Male   \n",
              "3              8        27107  city_103                   0.920    Male   \n",
              "4             11        23853  city_103                   0.920    Male   \n",
              "...          ...          ...       ...                     ...     ...   \n",
              "8950       19147        21319   city_21                   0.624    Male   \n",
              "8951       19149          251  city_103                   0.920    Male   \n",
              "8952       19150        32313  city_160                   0.920  Female   \n",
              "8953       19152        29754  city_103                   0.920  Female   \n",
              "8954       19155        24576  city_103                   0.920    Male   \n",
              "\n",
              "          relevent_experience enrolled_university  education_level  \\\n",
              "0      No relevent experience       no_enrollment                0   \n",
              "1     Has relevent experience       no_enrollment                1   \n",
              "2     Has relevent experience       no_enrollment                0   \n",
              "3     Has relevent experience       no_enrollment                0   \n",
              "4     Has relevent experience       no_enrollment                0   \n",
              "...                       ...                 ...              ...   \n",
              "8950   No relevent experience    Full time course                0   \n",
              "8951  Has relevent experience       no_enrollment                1   \n",
              "8952  Has relevent experience       no_enrollment                0   \n",
              "8953  Has relevent experience       no_enrollment                0   \n",
              "8954  Has relevent experience       no_enrollment                0   \n",
              "\n",
              "     major_discipline  experience  company_size    company_type  last_new_job  \\\n",
              "0                STEM        15.0             2         Pvt Ltd             5   \n",
              "1                STEM        21.0             2  Funded Startup             4   \n",
              "2                STEM        13.0             0         Pvt Ltd             5   \n",
              "3                STEM         7.0             2         Pvt Ltd             1   \n",
              "4                STEM         5.0             6         Pvt Ltd             1   \n",
              "...               ...         ...           ...             ...           ...   \n",
              "8950             STEM         1.0             3         Pvt Ltd             1   \n",
              "8951             STEM         9.0             2         Pvt Ltd             1   \n",
              "8952             STEM        10.0             3   Public Sector             3   \n",
              "8953       Humanities         7.0             1  Funded Startup             1   \n",
              "8954             STEM        21.0             2         Pvt Ltd             4   \n",
              "\n",
              "      training_hours  target  \n",
              "0                 47     0.0  \n",
              "1                  8     0.0  \n",
              "2                 18     1.0  \n",
              "3                 46     1.0  \n",
              "4                108     0.0  \n",
              "...              ...     ...  \n",
              "8950              52     1.0  \n",
              "8951              36     1.0  \n",
              "8952              23     0.0  \n",
              "8953              25     0.0  \n",
              "8954              44     0.0  \n",
              "\n",
              "[8955 rows x 15 columns]"
            ],
            "text/html": [
              "\n",
              "  <div id=\"df-869aef00-71c4-436b-a7e8-544543036804\">\n",
              "    <div class=\"colab-df-container\">\n",
              "      <div>\n",
              "<style scoped>\n",
              "    .dataframe tbody tr th:only-of-type {\n",
              "        vertical-align: middle;\n",
              "    }\n",
              "\n",
              "    .dataframe tbody tr th {\n",
              "        vertical-align: top;\n",
              "    }\n",
              "\n",
              "    .dataframe thead th {\n",
              "        text-align: right;\n",
              "    }\n",
              "</style>\n",
              "<table border=\"1\" class=\"dataframe\">\n",
              "  <thead>\n",
              "    <tr style=\"text-align: right;\">\n",
              "      <th></th>\n",
              "      <th>Unnamed: 0</th>\n",
              "      <th>enrollee_id</th>\n",
              "      <th>city</th>\n",
              "      <th>city_development_index</th>\n",
              "      <th>gender</th>\n",
              "      <th>relevent_experience</th>\n",
              "      <th>enrolled_university</th>\n",
              "      <th>education_level</th>\n",
              "      <th>major_discipline</th>\n",
              "      <th>experience</th>\n",
              "      <th>company_size</th>\n",
              "      <th>company_type</th>\n",
              "      <th>last_new_job</th>\n",
              "      <th>training_hours</th>\n",
              "      <th>target</th>\n",
              "    </tr>\n",
              "  </thead>\n",
              "  <tbody>\n",
              "    <tr>\n",
              "      <th>0</th>\n",
              "      <td>1</td>\n",
              "      <td>29725</td>\n",
              "      <td>city_40</td>\n",
              "      <td>0.776</td>\n",
              "      <td>Male</td>\n",
              "      <td>No relevent experience</td>\n",
              "      <td>no_enrollment</td>\n",
              "      <td>0</td>\n",
              "      <td>STEM</td>\n",
              "      <td>15.0</td>\n",
              "      <td>2</td>\n",
              "      <td>Pvt Ltd</td>\n",
              "      <td>5</td>\n",
              "      <td>47</td>\n",
              "      <td>0.0</td>\n",
              "    </tr>\n",
              "    <tr>\n",
              "      <th>1</th>\n",
              "      <td>4</td>\n",
              "      <td>666</td>\n",
              "      <td>city_162</td>\n",
              "      <td>0.767</td>\n",
              "      <td>Male</td>\n",
              "      <td>Has relevent experience</td>\n",
              "      <td>no_enrollment</td>\n",
              "      <td>1</td>\n",
              "      <td>STEM</td>\n",
              "      <td>21.0</td>\n",
              "      <td>2</td>\n",
              "      <td>Funded Startup</td>\n",
              "      <td>4</td>\n",
              "      <td>8</td>\n",
              "      <td>0.0</td>\n",
              "    </tr>\n",
              "    <tr>\n",
              "      <th>2</th>\n",
              "      <td>7</td>\n",
              "      <td>402</td>\n",
              "      <td>city_46</td>\n",
              "      <td>0.762</td>\n",
              "      <td>Male</td>\n",
              "      <td>Has relevent experience</td>\n",
              "      <td>no_enrollment</td>\n",
              "      <td>0</td>\n",
              "      <td>STEM</td>\n",
              "      <td>13.0</td>\n",
              "      <td>0</td>\n",
              "      <td>Pvt Ltd</td>\n",
              "      <td>5</td>\n",
              "      <td>18</td>\n",
              "      <td>1.0</td>\n",
              "    </tr>\n",
              "    <tr>\n",
              "      <th>3</th>\n",
              "      <td>8</td>\n",
              "      <td>27107</td>\n",
              "      <td>city_103</td>\n",
              "      <td>0.920</td>\n",
              "      <td>Male</td>\n",
              "      <td>Has relevent experience</td>\n",
              "      <td>no_enrollment</td>\n",
              "      <td>0</td>\n",
              "      <td>STEM</td>\n",
              "      <td>7.0</td>\n",
              "      <td>2</td>\n",
              "      <td>Pvt Ltd</td>\n",
              "      <td>1</td>\n",
              "      <td>46</td>\n",
              "      <td>1.0</td>\n",
              "    </tr>\n",
              "    <tr>\n",
              "      <th>4</th>\n",
              "      <td>11</td>\n",
              "      <td>23853</td>\n",
              "      <td>city_103</td>\n",
              "      <td>0.920</td>\n",
              "      <td>Male</td>\n",
              "      <td>Has relevent experience</td>\n",
              "      <td>no_enrollment</td>\n",
              "      <td>0</td>\n",
              "      <td>STEM</td>\n",
              "      <td>5.0</td>\n",
              "      <td>6</td>\n",
              "      <td>Pvt Ltd</td>\n",
              "      <td>1</td>\n",
              "      <td>108</td>\n",
              "      <td>0.0</td>\n",
              "    </tr>\n",
              "    <tr>\n",
              "      <th>...</th>\n",
              "      <td>...</td>\n",
              "      <td>...</td>\n",
              "      <td>...</td>\n",
              "      <td>...</td>\n",
              "      <td>...</td>\n",
              "      <td>...</td>\n",
              "      <td>...</td>\n",
              "      <td>...</td>\n",
              "      <td>...</td>\n",
              "      <td>...</td>\n",
              "      <td>...</td>\n",
              "      <td>...</td>\n",
              "      <td>...</td>\n",
              "      <td>...</td>\n",
              "      <td>...</td>\n",
              "    </tr>\n",
              "    <tr>\n",
              "      <th>8950</th>\n",
              "      <td>19147</td>\n",
              "      <td>21319</td>\n",
              "      <td>city_21</td>\n",
              "      <td>0.624</td>\n",
              "      <td>Male</td>\n",
              "      <td>No relevent experience</td>\n",
              "      <td>Full time course</td>\n",
              "      <td>0</td>\n",
              "      <td>STEM</td>\n",
              "      <td>1.0</td>\n",
              "      <td>3</td>\n",
              "      <td>Pvt Ltd</td>\n",
              "      <td>1</td>\n",
              "      <td>52</td>\n",
              "      <td>1.0</td>\n",
              "    </tr>\n",
              "    <tr>\n",
              "      <th>8951</th>\n",
              "      <td>19149</td>\n",
              "      <td>251</td>\n",
              "      <td>city_103</td>\n",
              "      <td>0.920</td>\n",
              "      <td>Male</td>\n",
              "      <td>Has relevent experience</td>\n",
              "      <td>no_enrollment</td>\n",
              "      <td>1</td>\n",
              "      <td>STEM</td>\n",
              "      <td>9.0</td>\n",
              "      <td>2</td>\n",
              "      <td>Pvt Ltd</td>\n",
              "      <td>1</td>\n",
              "      <td>36</td>\n",
              "      <td>1.0</td>\n",
              "    </tr>\n",
              "    <tr>\n",
              "      <th>8952</th>\n",
              "      <td>19150</td>\n",
              "      <td>32313</td>\n",
              "      <td>city_160</td>\n",
              "      <td>0.920</td>\n",
              "      <td>Female</td>\n",
              "      <td>Has relevent experience</td>\n",
              "      <td>no_enrollment</td>\n",
              "      <td>0</td>\n",
              "      <td>STEM</td>\n",
              "      <td>10.0</td>\n",
              "      <td>3</td>\n",
              "      <td>Public Sector</td>\n",
              "      <td>3</td>\n",
              "      <td>23</td>\n",
              "      <td>0.0</td>\n",
              "    </tr>\n",
              "    <tr>\n",
              "      <th>8953</th>\n",
              "      <td>19152</td>\n",
              "      <td>29754</td>\n",
              "      <td>city_103</td>\n",
              "      <td>0.920</td>\n",
              "      <td>Female</td>\n",
              "      <td>Has relevent experience</td>\n",
              "      <td>no_enrollment</td>\n",
              "      <td>0</td>\n",
              "      <td>Humanities</td>\n",
              "      <td>7.0</td>\n",
              "      <td>1</td>\n",
              "      <td>Funded Startup</td>\n",
              "      <td>1</td>\n",
              "      <td>25</td>\n",
              "      <td>0.0</td>\n",
              "    </tr>\n",
              "    <tr>\n",
              "      <th>8954</th>\n",
              "      <td>19155</td>\n",
              "      <td>24576</td>\n",
              "      <td>city_103</td>\n",
              "      <td>0.920</td>\n",
              "      <td>Male</td>\n",
              "      <td>Has relevent experience</td>\n",
              "      <td>no_enrollment</td>\n",
              "      <td>0</td>\n",
              "      <td>STEM</td>\n",
              "      <td>21.0</td>\n",
              "      <td>2</td>\n",
              "      <td>Pvt Ltd</td>\n",
              "      <td>4</td>\n",
              "      <td>44</td>\n",
              "      <td>0.0</td>\n",
              "    </tr>\n",
              "  </tbody>\n",
              "</table>\n",
              "<p>8955 rows × 15 columns</p>\n",
              "</div>\n",
              "      <button class=\"colab-df-convert\" onclick=\"convertToInteractive('df-869aef00-71c4-436b-a7e8-544543036804')\"\n",
              "              title=\"Convert this dataframe to an interactive table.\"\n",
              "              style=\"display:none;\">\n",
              "        \n",
              "  <svg xmlns=\"http://www.w3.org/2000/svg\" height=\"24px\"viewBox=\"0 0 24 24\"\n",
              "       width=\"24px\">\n",
              "    <path d=\"M0 0h24v24H0V0z\" fill=\"none\"/>\n",
              "    <path d=\"M18.56 5.44l.94 2.06.94-2.06 2.06-.94-2.06-.94-.94-2.06-.94 2.06-2.06.94zm-11 1L8.5 8.5l.94-2.06 2.06-.94-2.06-.94L8.5 2.5l-.94 2.06-2.06.94zm10 10l.94 2.06.94-2.06 2.06-.94-2.06-.94-.94-2.06-.94 2.06-2.06.94z\"/><path d=\"M17.41 7.96l-1.37-1.37c-.4-.4-.92-.59-1.43-.59-.52 0-1.04.2-1.43.59L10.3 9.45l-7.72 7.72c-.78.78-.78 2.05 0 2.83L4 21.41c.39.39.9.59 1.41.59.51 0 1.02-.2 1.41-.59l7.78-7.78 2.81-2.81c.8-.78.8-2.07 0-2.86zM5.41 20L4 18.59l7.72-7.72 1.47 1.35L5.41 20z\"/>\n",
              "  </svg>\n",
              "      </button>\n",
              "      \n",
              "  <style>\n",
              "    .colab-df-container {\n",
              "      display:flex;\n",
              "      flex-wrap:wrap;\n",
              "      gap: 12px;\n",
              "    }\n",
              "\n",
              "    .colab-df-convert {\n",
              "      background-color: #E8F0FE;\n",
              "      border: none;\n",
              "      border-radius: 50%;\n",
              "      cursor: pointer;\n",
              "      display: none;\n",
              "      fill: #1967D2;\n",
              "      height: 32px;\n",
              "      padding: 0 0 0 0;\n",
              "      width: 32px;\n",
              "    }\n",
              "\n",
              "    .colab-df-convert:hover {\n",
              "      background-color: #E2EBFA;\n",
              "      box-shadow: 0px 1px 2px rgba(60, 64, 67, 0.3), 0px 1px 3px 1px rgba(60, 64, 67, 0.15);\n",
              "      fill: #174EA6;\n",
              "    }\n",
              "\n",
              "    [theme=dark] .colab-df-convert {\n",
              "      background-color: #3B4455;\n",
              "      fill: #D2E3FC;\n",
              "    }\n",
              "\n",
              "    [theme=dark] .colab-df-convert:hover {\n",
              "      background-color: #434B5C;\n",
              "      box-shadow: 0px 1px 3px 1px rgba(0, 0, 0, 0.15);\n",
              "      filter: drop-shadow(0px 1px 2px rgba(0, 0, 0, 0.3));\n",
              "      fill: #FFFFFF;\n",
              "    }\n",
              "  </style>\n",
              "\n",
              "      <script>\n",
              "        const buttonEl =\n",
              "          document.querySelector('#df-869aef00-71c4-436b-a7e8-544543036804 button.colab-df-convert');\n",
              "        buttonEl.style.display =\n",
              "          google.colab.kernel.accessAllowed ? 'block' : 'none';\n",
              "\n",
              "        async function convertToInteractive(key) {\n",
              "          const element = document.querySelector('#df-869aef00-71c4-436b-a7e8-544543036804');\n",
              "          const dataTable =\n",
              "            await google.colab.kernel.invokeFunction('convertToInteractive',\n",
              "                                                     [key], {});\n",
              "          if (!dataTable) return;\n",
              "\n",
              "          const docLinkHtml = 'Like what you see? Visit the ' +\n",
              "            '<a target=\"_blank\" href=https://colab.research.google.com/notebooks/data_table.ipynb>data table notebook</a>'\n",
              "            + ' to learn more about interactive tables.';\n",
              "          element.innerHTML = '';\n",
              "          dataTable['output_type'] = 'display_data';\n",
              "          await google.colab.output.renderOutput(dataTable, element);\n",
              "          const docLink = document.createElement('div');\n",
              "          docLink.innerHTML = docLinkHtml;\n",
              "          element.appendChild(docLink);\n",
              "        }\n",
              "      </script>\n",
              "    </div>\n",
              "  </div>\n",
              "  "
            ]
          },
          "metadata": {},
          "execution_count": 20
        }
      ],
      "source": [
        "# TODO\n",
        "replace_labels(df, 'last_new_job', {'never':0, '1':1, '2':2, '3':3, '4':4, '>4':5})"
      ]
    },
    {
      "cell_type": "markdown",
      "metadata": {
        "id": "3T-Wjg6dk3Uj"
      },
      "source": [
        "### 2.4.3 Show the updated values (1pt)"
      ]
    },
    {
      "cell_type": "code",
      "execution_count": 21,
      "metadata": {
        "id": "dpI9oBlbk5bb",
        "colab": {
          "base_uri": "https://localhost:8080/"
        },
        "outputId": "f71e5fbd-ee24-4cf2-a460-293024fa0cb8"
      },
      "outputs": [
        {
          "output_type": "stream",
          "name": "stdout",
          "text": [
            "0       5\n",
            "1       4\n",
            "2       5\n",
            "3       1\n",
            "4       1\n",
            "       ..\n",
            "8950    1\n",
            "8951    1\n",
            "8952    3\n",
            "8953    1\n",
            "8954    4\n",
            "Name: last_new_job, Length: 8955, dtype: int64\n",
            "1    3838\n",
            "5    1965\n",
            "2    1570\n",
            "3     610\n",
            "4     599\n",
            "0     373\n",
            "Name: last_new_job, dtype: int64\n"
          ]
        }
      ],
      "source": [
        "# TODO\n",
        "print(df['last_new_job'])\n",
        "count_job = df['last_new_job'].value_counts()\n",
        "print(count_job)"
      ]
    },
    {
      "cell_type": "markdown",
      "metadata": {
        "id": "3R2tk1uJlGa5"
      },
      "source": [
        "## 2.5 Preprocessing other columns (2pt total)"
      ]
    },
    {
      "cell_type": "markdown",
      "metadata": {
        "id": "RuJyodTglKCH"
      },
      "source": [
        "### 2.5.1 Drop the enrollee_id, any unnamed columns, and any duplicate columns (if you created multiple columns one with original and one with updated, then remove the original one) (2pt)"
      ]
    },
    {
      "cell_type": "code",
      "execution_count": 22,
      "metadata": {
        "id": "f8eJgpamlOfr",
        "colab": {
          "base_uri": "https://localhost:8080/"
        },
        "outputId": "a2ab10c2-6709-497c-8fa1-a005e076b4a0"
      },
      "outputs": [
        {
          "output_type": "stream",
          "name": "stdout",
          "text": [
            "          city  city_development_index  gender      relevent_experience  \\\n",
            "0      city_40                   0.776    Male   No relevent experience   \n",
            "1     city_162                   0.767    Male  Has relevent experience   \n",
            "2      city_46                   0.762    Male  Has relevent experience   \n",
            "3     city_103                   0.920    Male  Has relevent experience   \n",
            "4     city_103                   0.920    Male  Has relevent experience   \n",
            "...        ...                     ...     ...                      ...   \n",
            "8950   city_21                   0.624    Male   No relevent experience   \n",
            "8951  city_103                   0.920    Male  Has relevent experience   \n",
            "8952  city_160                   0.920  Female  Has relevent experience   \n",
            "8953  city_103                   0.920  Female  Has relevent experience   \n",
            "8954  city_103                   0.920    Male  Has relevent experience   \n",
            "\n",
            "     enrolled_university  education_level major_discipline  experience  \\\n",
            "0          no_enrollment                0             STEM        15.0   \n",
            "1          no_enrollment                1             STEM        21.0   \n",
            "2          no_enrollment                0             STEM        13.0   \n",
            "3          no_enrollment                0             STEM         7.0   \n",
            "4          no_enrollment                0             STEM         5.0   \n",
            "...                  ...              ...              ...         ...   \n",
            "8950    Full time course                0             STEM         1.0   \n",
            "8951       no_enrollment                1             STEM         9.0   \n",
            "8952       no_enrollment                0             STEM        10.0   \n",
            "8953       no_enrollment                0       Humanities         7.0   \n",
            "8954       no_enrollment                0             STEM        21.0   \n",
            "\n",
            "      company_size    company_type  last_new_job  training_hours  target  \n",
            "0                2         Pvt Ltd             5              47     0.0  \n",
            "1                2  Funded Startup             4               8     0.0  \n",
            "2                0         Pvt Ltd             5              18     1.0  \n",
            "3                2         Pvt Ltd             1              46     1.0  \n",
            "4                6         Pvt Ltd             1             108     0.0  \n",
            "...            ...             ...           ...             ...     ...  \n",
            "8950             3         Pvt Ltd             1              52     1.0  \n",
            "8951             2         Pvt Ltd             1              36     1.0  \n",
            "8952             3   Public Sector             3              23     0.0  \n",
            "8953             1  Funded Startup             1              25     0.0  \n",
            "8954             2         Pvt Ltd             4              44     0.0  \n",
            "\n",
            "[8955 rows x 13 columns]\n"
          ]
        }
      ],
      "source": [
        "# TODO\n",
        "df = df.drop(['Unnamed: 0', 'enrollee_id'], axis=1)\n",
        "print(df)"
      ]
    },
    {
      "cell_type": "code",
      "execution_count": null,
      "metadata": {
        "id": "RDe7Tl50r4bW"
      },
      "outputs": [],
      "source": [
        "# TODO"
      ]
    },
    {
      "cell_type": "markdown",
      "metadata": {
        "id": "5M9JeVgJowZm"
      },
      "source": [
        "## 2.6 Feature Scaling (3+1 = 4ps total)"
      ]
    },
    {
      "cell_type": "markdown",
      "metadata": {
        "id": "oYeJBSu9o0-V"
      },
      "source": [
        "### 2.6.1 Use sklearn.preprocessing's MinMaxScaler to perform min max scaling to all the numeric columns (3pt)"
      ]
    },
    {
      "cell_type": "code",
      "execution_count": 23,
      "metadata": {
        "id": "0TZHEB3srp2x"
      },
      "outputs": [],
      "source": [
        "# TODO\n",
        "from sklearn.preprocessing import MinMaxScaler\n",
        "numdf = df.select_dtypes(include=np.number)\n",
        "scaler = MinMaxScaler()\n",
        "scaled_df = scaler.fit_transform(df[['city_development_index', 'education_level', 'experience', 'company_size', 'last_new_job', 'training_hours', 'target']])"
      ]
    },
    {
      "cell_type": "code",
      "execution_count": null,
      "metadata": {
        "id": "7vBopV2qo3zT"
      },
      "outputs": [],
      "source": [
        "# TODO"
      ]
    },
    {
      "cell_type": "markdown",
      "metadata": {
        "id": "fCradyXLQWct"
      },
      "source": [
        "### 2.6.2 Show some of the scaled records. (1pt)"
      ]
    },
    {
      "cell_type": "code",
      "execution_count": 24,
      "metadata": {
        "id": "AUBUON0a1DqI",
        "colab": {
          "base_uri": "https://localhost:8080/"
        },
        "outputId": "64b2e192-dabf-4500-cc39-74e3f6588dfc"
      },
      "outputs": [
        {
          "output_type": "stream",
          "name": "stdout",
          "text": [
            "[[0.65469062 0.         0.71428571 ... 1.         0.13731343 0.        ]\n",
            " [0.63672655 0.5        1.         ... 0.8        0.02089552 0.        ]\n",
            " [0.62674651 0.         0.61904762 ... 1.         0.05074627 1.        ]\n",
            " ...\n",
            " [0.94211577 0.         0.47619048 ... 0.6        0.06567164 0.        ]\n",
            " [0.94211577 0.         0.33333333 ... 0.2        0.07164179 0.        ]\n",
            " [0.94211577 0.         1.         ... 0.8        0.12835821 0.        ]]\n"
          ]
        }
      ],
      "source": [
        "# TODO\n",
        "print(scaled_df)"
      ]
    },
    {
      "cell_type": "markdown",
      "source": [],
      "metadata": {
        "id": "dGZEleoDylop"
      }
    },
    {
      "cell_type": "markdown",
      "metadata": {
        "id": "bAqPdBXbum0v"
      },
      "source": [
        "# 3. X/Y and Training/Test Split with stratified sampling (15pts in total)"
      ]
    },
    {
      "cell_type": "markdown",
      "metadata": {
        "id": "n0vy1uyKF5DV"
      },
      "source": [
        "### 3.1 Using a lot of features with categorical values is not memory-efficient. Use a LabelEncoder() to convert all the categorical columns to numeric labels. (This task is similar to previous assignment A1) (2pt)"
      ]
    },
    {
      "cell_type": "code",
      "execution_count": 25,
      "metadata": {
        "id": "QTDOZN6adW3m",
        "colab": {
          "base_uri": "https://localhost:8080/"
        },
        "outputId": "70977466-f810-40a1-a247-98a15f6abb25"
      },
      "outputs": [
        {
          "output_type": "stream",
          "name": "stdout",
          "text": [
            "      city  city_development_index  gender  relevent_experience  \\\n",
            "0       72                   0.776       1                    1   \n",
            "1       48                   0.767       1                    0   \n",
            "2       78                   0.762       1                    0   \n",
            "3        5                   0.920       1                    0   \n",
            "4        5                   0.920       1                    0   \n",
            "...    ...                     ...     ...                  ...   \n",
            "8950    60                   0.624       1                    1   \n",
            "8951     5                   0.920       1                    0   \n",
            "8952    47                   0.920       0                    0   \n",
            "8953     5                   0.920       0                    0   \n",
            "8954     5                   0.920       1                    0   \n",
            "\n",
            "      enrolled_university  education_level  major_discipline  experience  \\\n",
            "0                       2                0                 5        15.0   \n",
            "1                       2                1                 5        21.0   \n",
            "2                       2                0                 5        13.0   \n",
            "3                       2                0                 5         7.0   \n",
            "4                       2                0                 5         5.0   \n",
            "...                   ...              ...               ...         ...   \n",
            "8950                    0                0                 5         1.0   \n",
            "8951                    2                1                 5         9.0   \n",
            "8952                    2                0                 5        10.0   \n",
            "8953                    2                0                 2         7.0   \n",
            "8954                    2                0                 5        21.0   \n",
            "\n",
            "      company_size  company_type  last_new_job  training_hours  target  \n",
            "0                2             5             5              47     0.0  \n",
            "1                2             1             4               8     0.0  \n",
            "2                0             5             5              18     1.0  \n",
            "3                2             5             1              46     1.0  \n",
            "4                6             5             1             108     0.0  \n",
            "...            ...           ...           ...             ...     ...  \n",
            "8950             3             5             1              52     1.0  \n",
            "8951             2             5             1              36     1.0  \n",
            "8952             3             4             3              23     0.0  \n",
            "8953             1             1             1              25     0.0  \n",
            "8954             2             5             4              44     0.0  \n",
            "\n",
            "[8955 rows x 13 columns]\n"
          ]
        }
      ],
      "source": [
        "# TODO\n",
        "from sklearn import preprocessing\n",
        "df_list = ['city', 'gender', 'relevent_experience', 'enrolled_university', 'major_discipline', 'company_type']\n",
        "for x in df_list:\n",
        "  le = preprocessing.LabelEncoder()\n",
        "  df[x] = le.fit_transform(df[x])\n",
        "print(df)"
      ]
    },
    {
      "cell_type": "markdown",
      "metadata": {
        "id": "qgh6gbo__lAd"
      },
      "source": [
        "### 3.2 Copy all the features into X and the target to Y (2pt)"
      ]
    },
    {
      "cell_type": "code",
      "execution_count": 26,
      "metadata": {
        "id": "hJ5l0aLz_swD"
      },
      "outputs": [],
      "source": [
        "# TODO\n",
        "X = df\n",
        "X = X.drop(['target'], axis=1)\n",
        "Y = df['target']"
      ]
    },
    {
      "cell_type": "markdown",
      "metadata": {
        "id": "7mxgOZ8bWCTG"
      },
      "source": [
        "### 3.3 Show the ratio of 1 and 0 in Y. (1pt)"
      ]
    },
    {
      "cell_type": "code",
      "execution_count": 27,
      "metadata": {
        "id": "xCTReI87WwIn",
        "colab": {
          "base_uri": "https://localhost:8080/"
        },
        "outputId": "fd391c2a-87ab-4ede-ab22-6a03538158ed"
      },
      "outputs": [
        {
          "output_type": "stream",
          "name": "stdout",
          "text": [
            "0.834394193188163\n",
            "0.16560580681183695\n"
          ]
        }
      ],
      "source": [
        "# TODO\n",
        "count0 = Y.value_counts()[0]\n",
        "count1 = Y.value_counts()[1]\n",
        "ratio0 = count0 / 8955\n",
        "ratio1 = count1 / 8955\n",
        "print(ratio0)\n",
        "print(ratio1)"
      ]
    },
    {
      "cell_type": "markdown",
      "metadata": {
        "id": "sYiNLcbZWw-p"
      },
      "source": [
        "### 3.4 Use sklearn's train_test_split() to split the data set into 70% training and 30% test sets. Set random_state to 42. We want to have the same ratio of 0 and 1 in the test set, use the stratify parameter to Y to ensure this. Then show the ratio of 1 and 0 in both train and test target. (4pt)"
      ]
    },
    {
      "cell_type": "code",
      "execution_count": 28,
      "metadata": {
        "id": "g-h2q8R4XQxX"
      },
      "outputs": [],
      "source": [
        "# TODO\n",
        "from sklearn.model_selection import train_test_split\n",
        "X_train, X_test, Y_train, Y_test = train_test_split(X, Y, test_size=0.3, random_state=42, stratify=Y)"
      ]
    },
    {
      "cell_type": "markdown",
      "metadata": {
        "id": "9go74asN_4A3"
      },
      "source": [
        "### 3.5 Rebalancing (4+2 = 6pts)"
      ]
    },
    {
      "cell_type": "markdown",
      "metadata": {
        "id": "DcaOwlmnDFrN"
      },
      "source": [
        "3.5.1 Use imblearn's SMOTENC to balance the x_train\n"
      ]
    },
    {
      "cell_type": "markdown",
      "metadata": {
        "id": "TMo87lbJSiIB"
      },
      "source": [
        "When our training set have class imbalance, we often perform over-sampling to generate synthetic data that can help in training. SMOTE is a library by imblearn for this purpose. The usage is fairly straightforward. See documentation [here](https://imbalanced-learn.org/stable/references/generated/imblearn.over_sampling.SMOTENC.html#imblearn.over_sampling.SMOTENC) and a brief explanation with example [here](https://medium.com/analytics-vidhya/smote-nc-in-ml-categorization-models-fo-imbalanced-datasets-8adbdcf08c25)"
      ]
    },
    {
      "cell_type": "code",
      "execution_count": 29,
      "metadata": {
        "id": "Gg5q3iNCaCX5"
      },
      "outputs": [],
      "source": [
        "# TODO\n",
        "from imblearn.over_sampling import SMOTE\n",
        "sm = SMOTE(random_state=42)\n",
        "X_res, Y_res = sm.fit_resample(X_train, Y_train)"
      ]
    },
    {
      "cell_type": "markdown",
      "metadata": {
        "id": "OOLWrq4EC6pN"
      },
      "source": [
        "3.5.2 Did that change the ratio in label? Confirm by printing the ratio in resampled labels."
      ]
    },
    {
      "cell_type": "code",
      "execution_count": 30,
      "metadata": {
        "id": "gX5UzM45CgKg",
        "colab": {
          "base_uri": "https://localhost:8080/"
        },
        "outputId": "8859c9ad-1600-4c49-fbbe-aeb1e6e7d305"
      },
      "outputs": [
        {
          "output_type": "stream",
          "name": "stdout",
          "text": [
            "0.5\n",
            "0.5\n"
          ]
        }
      ],
      "source": [
        "# TODO\n",
        "count0_res = Y_res.value_counts()[0]\n",
        "count1_res = Y_res.value_counts()[1]\n",
        "ratio0_res = count0_res / 10460\n",
        "ratio1_res = count1_res / 10460\n",
        "print(ratio0_res)\n",
        "print(ratio1_res)"
      ]
    },
    {
      "cell_type": "markdown",
      "metadata": {
        "id": "IEKsXRt-aDbT"
      },
      "source": [
        "# 4. Decision Tree (20pts total)"
      ]
    },
    {
      "cell_type": "markdown",
      "metadata": {
        "id": "IW262Gdlakso"
      },
      "source": [
        "### 4.1 Initialize a decision tree model using sklearns DecisionTreeClassifier. Use the unbalanced training set. Set a consistent value for random_state parameter so that your result is reproducible. (1pt)"
      ]
    },
    {
      "cell_type": "code",
      "execution_count": 31,
      "metadata": {
        "id": "tZ8TFB2kauD8"
      },
      "outputs": [],
      "source": [
        "# TODO\n",
        "from sklearn.tree import DecisionTreeClassifier\n",
        "dt = DecisionTreeClassifier(random_state=42)"
      ]
    },
    {
      "cell_type": "markdown",
      "metadata": {
        "id": "Zl1qOJnvVXxh"
      },
      "source": [
        "### 4.2 Use grid search to find out the best combination of values for the parameters: criterion, max_depth, min_samples_split, max_features. Then print the best performing parameters. (4pt)"
      ]
    },
    {
      "cell_type": "code",
      "execution_count": 32,
      "metadata": {
        "id": "qQpIAji7M_od",
        "colab": {
          "base_uri": "https://localhost:8080/"
        },
        "outputId": "230a0fa2-b7d5-42a3-a08d-5627c24fcbf1"
      },
      "outputs": [
        {
          "output_type": "stream",
          "name": "stdout",
          "text": [
            "DecisionTreeClassifier(criterion='entropy', max_depth=3, max_features='sqrt',\n",
            "                       min_samples_split=1, random_state=42)\n"
          ]
        }
      ],
      "source": [
        "# TODO\n",
        "from sklearn.model_selection import GridSearchCV\n",
        "param = {'criterion': ['gini', 'entropy', 'log_loss'],\n",
        "         'max_depth': [1,2,3,4,5,6,7,8],\n",
        "         'min_samples_split': [1,2,3,4,5,6],\n",
        "         'max_features': ['sqrt', 'log2']}\n",
        "search = GridSearchCV(dt, param)\n",
        "search.fit(X_train, Y_train)\n",
        "print(search.best_estimator_)"
      ]
    },
    {
      "cell_type": "markdown",
      "metadata": {
        "id": "UJRSRsVeWC8y"
      },
      "source": [
        "### 4.3 Add the best performing parameter set to the already-initialized Decision Tree model. Then fit it on the train dataset. (2pt)"
      ]
    },
    {
      "cell_type": "code",
      "execution_count": 33,
      "metadata": {
        "id": "hEaJbzrlQaBY",
        "colab": {
          "base_uri": "https://localhost:8080/",
          "height": 91
        },
        "outputId": "157a3a02-0de3-49d4-bc4e-462c94f9720d"
      },
      "outputs": [
        {
          "output_type": "execute_result",
          "data": {
            "text/plain": [
              "DecisionTreeClassifier(criterion='entropy', max_depth=3, max_features='sqrt',\n",
              "                       min_samples_split=1, random_state=42)"
            ],
            "text/html": [
              "<style>#sk-container-id-1 {color: black;background-color: white;}#sk-container-id-1 pre{padding: 0;}#sk-container-id-1 div.sk-toggleable {background-color: white;}#sk-container-id-1 label.sk-toggleable__label {cursor: pointer;display: block;width: 100%;margin-bottom: 0;padding: 0.3em;box-sizing: border-box;text-align: center;}#sk-container-id-1 label.sk-toggleable__label-arrow:before {content: \"▸\";float: left;margin-right: 0.25em;color: #696969;}#sk-container-id-1 label.sk-toggleable__label-arrow:hover:before {color: black;}#sk-container-id-1 div.sk-estimator:hover label.sk-toggleable__label-arrow:before {color: black;}#sk-container-id-1 div.sk-toggleable__content {max-height: 0;max-width: 0;overflow: hidden;text-align: left;background-color: #f0f8ff;}#sk-container-id-1 div.sk-toggleable__content pre {margin: 0.2em;color: black;border-radius: 0.25em;background-color: #f0f8ff;}#sk-container-id-1 input.sk-toggleable__control:checked~div.sk-toggleable__content {max-height: 200px;max-width: 100%;overflow: auto;}#sk-container-id-1 input.sk-toggleable__control:checked~label.sk-toggleable__label-arrow:before {content: \"▾\";}#sk-container-id-1 div.sk-estimator input.sk-toggleable__control:checked~label.sk-toggleable__label {background-color: #d4ebff;}#sk-container-id-1 div.sk-label input.sk-toggleable__control:checked~label.sk-toggleable__label {background-color: #d4ebff;}#sk-container-id-1 input.sk-hidden--visually {border: 0;clip: rect(1px 1px 1px 1px);clip: rect(1px, 1px, 1px, 1px);height: 1px;margin: -1px;overflow: hidden;padding: 0;position: absolute;width: 1px;}#sk-container-id-1 div.sk-estimator {font-family: monospace;background-color: #f0f8ff;border: 1px dotted black;border-radius: 0.25em;box-sizing: border-box;margin-bottom: 0.5em;}#sk-container-id-1 div.sk-estimator:hover {background-color: #d4ebff;}#sk-container-id-1 div.sk-parallel-item::after {content: \"\";width: 100%;border-bottom: 1px solid gray;flex-grow: 1;}#sk-container-id-1 div.sk-label:hover label.sk-toggleable__label {background-color: #d4ebff;}#sk-container-id-1 div.sk-serial::before {content: \"\";position: absolute;border-left: 1px solid gray;box-sizing: border-box;top: 0;bottom: 0;left: 50%;z-index: 0;}#sk-container-id-1 div.sk-serial {display: flex;flex-direction: column;align-items: center;background-color: white;padding-right: 0.2em;padding-left: 0.2em;position: relative;}#sk-container-id-1 div.sk-item {position: relative;z-index: 1;}#sk-container-id-1 div.sk-parallel {display: flex;align-items: stretch;justify-content: center;background-color: white;position: relative;}#sk-container-id-1 div.sk-item::before, #sk-container-id-1 div.sk-parallel-item::before {content: \"\";position: absolute;border-left: 1px solid gray;box-sizing: border-box;top: 0;bottom: 0;left: 50%;z-index: -1;}#sk-container-id-1 div.sk-parallel-item {display: flex;flex-direction: column;z-index: 1;position: relative;background-color: white;}#sk-container-id-1 div.sk-parallel-item:first-child::after {align-self: flex-end;width: 50%;}#sk-container-id-1 div.sk-parallel-item:last-child::after {align-self: flex-start;width: 50%;}#sk-container-id-1 div.sk-parallel-item:only-child::after {width: 0;}#sk-container-id-1 div.sk-dashed-wrapped {border: 1px dashed gray;margin: 0 0.4em 0.5em 0.4em;box-sizing: border-box;padding-bottom: 0.4em;background-color: white;}#sk-container-id-1 div.sk-label label {font-family: monospace;font-weight: bold;display: inline-block;line-height: 1.2em;}#sk-container-id-1 div.sk-label-container {text-align: center;}#sk-container-id-1 div.sk-container {/* jupyter's `normalize.less` sets `[hidden] { display: none; }` but bootstrap.min.css set `[hidden] { display: none !important; }` so we also need the `!important` here to be able to override the default hidden behavior on the sphinx rendered scikit-learn.org. See: https://github.com/scikit-learn/scikit-learn/issues/21755 */display: inline-block !important;position: relative;}#sk-container-id-1 div.sk-text-repr-fallback {display: none;}</style><div id=\"sk-container-id-1\" class=\"sk-top-container\"><div class=\"sk-text-repr-fallback\"><pre>DecisionTreeClassifier(criterion=&#x27;entropy&#x27;, max_depth=3, max_features=&#x27;sqrt&#x27;,\n",
              "                       min_samples_split=1, random_state=42)</pre><b>In a Jupyter environment, please rerun this cell to show the HTML representation or trust the notebook. <br />On GitHub, the HTML representation is unable to render, please try loading this page with nbviewer.org.</b></div><div class=\"sk-container\" hidden><div class=\"sk-item\"><div class=\"sk-estimator sk-toggleable\"><input class=\"sk-toggleable__control sk-hidden--visually\" id=\"sk-estimator-id-1\" type=\"checkbox\" checked><label for=\"sk-estimator-id-1\" class=\"sk-toggleable__label sk-toggleable__label-arrow\">DecisionTreeClassifier</label><div class=\"sk-toggleable__content\"><pre>DecisionTreeClassifier(criterion=&#x27;entropy&#x27;, max_depth=3, max_features=&#x27;sqrt&#x27;,\n",
              "                       min_samples_split=1, random_state=42)</pre></div></div></div></div></div>"
            ]
          },
          "metadata": {},
          "execution_count": 33
        }
      ],
      "source": [
        "# TODO\n",
        "dt = DecisionTreeClassifier(criterion='entropy', max_depth=3, max_features='sqrt', min_samples_split=1, random_state=42)\n",
        "dt.fit(X_train, Y_train)"
      ]
    },
    {
      "cell_type": "markdown",
      "metadata": {
        "id": "WPYRzwmIWeSZ"
      },
      "source": [
        "### 4.4 Import the accuracy_score, precision_score, recall_score, confusion_matrix, f1_score, roc_auc_score from scikitlearn's metrics package. Evaluate your Decision Tree on the Test dataset and print all the metrics. (3pt)"
      ]
    },
    {
      "cell_type": "code",
      "execution_count": 76,
      "metadata": {
        "id": "Opr3pQspcwQN",
        "colab": {
          "base_uri": "https://localhost:8080/"
        },
        "outputId": "7fdf2150-fcc0-4d6d-d8ad-8b64c8517c3a"
      },
      "outputs": [
        {
          "output_type": "stream",
          "name": "stdout",
          "text": [
            "accuracy score 0.86\n",
            "precisison score 0.58\n",
            "recall score 0.52\n",
            "confusion matrix 231\n",
            "f1 score 0.55\n",
            "roc auc score 0.72\n"
          ]
        }
      ],
      "source": [
        "# TODO\n",
        "from sklearn.metrics import accuracy_score, precision_score, recall_score, confusion_matrix, f1_score, roc_auc_score\n",
        "Y_pred = dt.predict(X_test)\n",
        "acc = accuracy_score(Y_test, Y_pred)\n",
        "prec = precision_score(Y_test, Y_pred)\n",
        "rec = recall_score(Y_test, Y_pred)\n",
        "conf = confusion_matrix(Y_test, Y_pred)\n",
        "f1s = f1_score(Y_test, Y_pred)\n",
        "roc = roc_auc_score(Y_test, Y_pred)\n",
        "print(\"accuracy score {:.2}\".format(acc))\n",
        "print(\"precisison score {:.2}\".format(prec))\n",
        "print(\"recall score {:.2}\".format(rec))\n",
        "print(\"confusion matrix {}\".format(conf[1,1]))\n",
        "print(\"f1 score {:.2}\".format(f1s))\n",
        "print(\"roc auc score {:.2}\".format(roc))"
      ]
    },
    {
      "cell_type": "markdown",
      "metadata": {
        "id": "2UP7aQs0GQwX"
      },
      "source": [
        "### 4.5 Plot the tree using scikitlearn's tree package. You may need to define a large figure size using matplotlib to have an intelligible figure. (2pt)"
      ]
    },
    {
      "cell_type": "code",
      "execution_count": 38,
      "metadata": {
        "id": "pnwDm0uiE-KP",
        "colab": {
          "base_uri": "https://localhost:8080/",
          "height": 508
        },
        "outputId": "b72ec6db-42a6-4fcf-b08f-54e8bb45bf58"
      },
      "outputs": [
        {
          "output_type": "execute_result",
          "data": {
            "text/plain": [
              "[Text(0.5, 0.875, 'x[7] <= 9.5\\nentropy = 0.648\\nsamples = 6268\\nvalue = [5230, 1038]'),\n",
              " Text(0.25, 0.625, 'x[1] <= 0.632\\nentropy = 0.791\\nsamples = 2760\\nvalue = [2105, 655]'),\n",
              " Text(0.125, 0.375, 'x[11] <= 19.5\\nentropy = 0.969\\nsamples = 739\\nvalue = [293, 446]'),\n",
              " Text(0.0625, 0.125, 'entropy = 0.897\\nsamples = 134\\nvalue = [42, 92]'),\n",
              " Text(0.1875, 0.125, 'entropy = 0.979\\nsamples = 605\\nvalue = [251, 354]'),\n",
              " Text(0.375, 0.375, 'x[1] <= 0.889\\nentropy = 0.48\\nsamples = 2021\\nvalue = [1812, 209]'),\n",
              " Text(0.3125, 0.125, 'entropy = 0.567\\nsamples = 569\\nvalue = [493, 76]'),\n",
              " Text(0.4375, 0.125, 'entropy = 0.442\\nsamples = 1452\\nvalue = [1319, 133]'),\n",
              " Text(0.75, 0.625, 'x[1] <= 0.642\\nentropy = 0.497\\nsamples = 3508\\nvalue = [3125, 383]'),\n",
              " Text(0.625, 0.375, 'x[7] <= 14.5\\nentropy = 0.992\\nsamples = 195\\nvalue = [87, 108]'),\n",
              " Text(0.5625, 0.125, 'entropy = 0.939\\nsamples = 118\\nvalue = [42, 76]'),\n",
              " Text(0.6875, 0.125, 'entropy = 0.979\\nsamples = 77\\nvalue = [45, 32]'),\n",
              " Text(0.875, 0.375, 'x[1] <= 0.829\\nentropy = 0.413\\nsamples = 3313\\nvalue = [3038, 275]'),\n",
              " Text(0.8125, 0.125, 'entropy = 0.543\\nsamples = 433\\nvalue = [379, 54]'),\n",
              " Text(0.9375, 0.125, 'entropy = 0.391\\nsamples = 2880\\nvalue = [2659, 221]')]"
            ]
          },
          "metadata": {},
          "execution_count": 38
        },
        {
          "output_type": "display_data",
          "data": {
            "text/plain": [
              "<Figure size 1728x288 with 1 Axes>"
            ],
            "image/png": "[encoded data removed]"
          },
          "metadata": {
            "needs_background": "light"
          }
        }
      ],
      "source": [
        "# TODO\n",
        "from sklearn import tree\n",
        "plt.figure(figsize=(24, 4))\n",
        "tree.plot_tree(dt)"
      ]
    },
    {
      "cell_type": "markdown",
      "metadata": {
        "id": "RmrdrwU-Dvf6"
      },
      "source": [
        "### 4.6 Initialize a new Decision Tree model, then use the best set of parameters from Step 4.3 to train it on the balanced train set that you prepared in Step 3.5.1. (3pt)"
      ]
    },
    {
      "cell_type": "code",
      "execution_count": 40,
      "metadata": {
        "id": "7SD0orb7Dhdf"
      },
      "outputs": [],
      "source": [
        "# TODO\n",
        "dt2 = DecisionTreeClassifier(criterion='entropy', max_depth=3, max_features='sqrt', min_samples_split=1, random_state=42)\n",
        "dt2 = dt2.fit(X_res, Y_res)"
      ]
    },
    {
      "cell_type": "markdown",
      "metadata": {
        "id": "ICoCAMplYVKh"
      },
      "source": [
        "### 4.7 Print the evaluation scores (accuracy_score, precision_score, recall_score, confusion_matrix, f1_score, roc_auc_score) from the training on balanced dataset. (3pt)"
      ]
    },
    {
      "cell_type": "code",
      "execution_count": 74,
      "metadata": {
        "id": "-VQUO4EvY0Xr",
        "colab": {
          "base_uri": "https://localhost:8080/"
        },
        "outputId": "d6f771d2-b04c-4e6e-99a8-59a6c95d5846"
      },
      "outputs": [
        {
          "output_type": "stream",
          "name": "stdout",
          "text": [
            "accuracy score 0.76\n",
            "precisison score 0.37\n",
            "recall score 0.64\n",
            "confusion matrix 284\n",
            "f1 score 0.47\n",
            "roc auc score 0.71\n"
          ]
        }
      ],
      "source": [
        "# TODO\n",
        "Y_pred2 = dt2.predict(X_test)\n",
        "acc2 = accuracy_score(Y_test, Y_pred2)\n",
        "prec2 = precision_score(Y_test, Y_pred2)\n",
        "rec2 = recall_score(Y_test, Y_pred2)\n",
        "conf2 = confusion_matrix(Y_test, Y_pred2)\n",
        "f1s2 = f1_score(Y_test, Y_pred2)\n",
        "roc2 = roc_auc_score(Y_test, Y_pred2)\n",
        "print(\"accuracy score {:.2}\".format(acc2))\n",
        "print(\"precisison score {:.2}\".format(prec2))\n",
        "print(\"recall score {:.2}\".format(rec2))\n",
        "print(\"confusion matrix {}\".format(conf2[1, 1]))\n",
        "print(\"f1 score {:.2}\".format(f1s2))\n",
        "print(\"roc auc score {:.2}\".format(roc2))"
      ]
    },
    {
      "cell_type": "markdown",
      "metadata": {
        "id": "wMv-Nmaew3td"
      },
      "source": [
        "### 4.8 Discuss any difference between evaluation results from the unbalanced train set and balanced train set. (2pt)"
      ]
    },
    {
      "cell_type": "markdown",
      "metadata": {
        "id": "2c_ZSzbW1Opy"
      },
      "source": [
        "'#TODO'\n",
        "A difference between the two would be that, with the exception of the confusion matrix, all output values of the balanced train set were lower than the unbalanced training set"
      ]
    },
    {
      "cell_type": "markdown",
      "metadata": {
        "id": "x_h1QYuVSqQf"
      },
      "source": [
        "# 5. Random Forest Classifier (12pts total)"
      ]
    },
    {
      "cell_type": "markdown",
      "metadata": {
        "id": "36D52lOdVs2o"
      },
      "source": [
        "### 5.1 Use grid search to find best combinations of the following Random Forest parameters: n_estimators, max_depth, min_samples_split and min_samples_leaf. Use your own choice of scoring, criterion, number of folds for cross-validation for the model initialization. Remember the grid search can take a while to finish. (4pt)"
      ]
    },
    {
      "cell_type": "code",
      "execution_count": 53,
      "metadata": {
        "id": "ogCCZd3XStni",
        "colab": {
          "base_uri": "https://localhost:8080/"
        },
        "outputId": "6c13b43c-7ef9-4918-95fa-8801c616e30b"
      },
      "outputs": [
        {
          "output_type": "stream",
          "name": "stdout",
          "text": [
            "RandomForestClassifier(criterion='entropy', max_depth=6, min_samples_split=4,\n",
            "                       random_state=42)\n"
          ]
        }
      ],
      "source": [
        "# TODO\n",
        "from sklearn.ensemble import RandomForestClassifier\n",
        "rfc = RandomForestClassifier(random_state=42)\n",
        "param = {'criterion': ['gini', 'entropy', 'log_loss'],\n",
        "         'max_depth': [1,2,3,4,5,6,7,8],\n",
        "         'min_samples_split': [1,2,3,4,5,6,7,8],\n",
        "         'max_features': ['sqrt', 'log2']}\n",
        "search3 = GridSearchCV(rfc, param)\n",
        "search3.fit(X_train, Y_train)\n",
        "print(search3.best_estimator_)"
      ]
    },
    {
      "cell_type": "markdown",
      "metadata": {
        "id": "gV2NO3hjaCEh"
      },
      "source": [
        "### 5.2 Print the best combination of parameters and use it to train a Random Forest classifier model. (3pt)"
      ]
    },
    {
      "cell_type": "code",
      "execution_count": 54,
      "metadata": {
        "id": "AgzZUi_kWxyh",
        "colab": {
          "base_uri": "https://localhost:8080/",
          "height": 91
        },
        "outputId": "728c0524-939e-4503-8aaa-af4df743bfd9"
      },
      "outputs": [
        {
          "output_type": "execute_result",
          "data": {
            "text/plain": [
              "RandomForestClassifier(criterion='entropy', max_depth=6, min_samples_split=4,\n",
              "                       random_state=42)"
            ],
            "text/html": [
              "<style>#sk-container-id-2 {color: black;background-color: white;}#sk-container-id-2 pre{padding: 0;}#sk-container-id-2 div.sk-toggleable {background-color: white;}#sk-container-id-2 label.sk-toggleable__label {cursor: pointer;display: block;width: 100%;margin-bottom: 0;padding: 0.3em;box-sizing: border-box;text-align: center;}#sk-container-id-2 label.sk-toggleable__label-arrow:before {content: \"▸\";float: left;margin-right: 0.25em;color: #696969;}#sk-container-id-2 label.sk-toggleable__label-arrow:hover:before {color: black;}#sk-container-id-2 div.sk-estimator:hover label.sk-toggleable__label-arrow:before {color: black;}#sk-container-id-2 div.sk-toggleable__content {max-height: 0;max-width: 0;overflow: hidden;text-align: left;background-color: #f0f8ff;}#sk-container-id-2 div.sk-toggleable__content pre {margin: 0.2em;color: black;border-radius: 0.25em;background-color: #f0f8ff;}#sk-container-id-2 input.sk-toggleable__control:checked~div.sk-toggleable__content {max-height: 200px;max-width: 100%;overflow: auto;}#sk-container-id-2 input.sk-toggleable__control:checked~label.sk-toggleable__label-arrow:before {content: \"▾\";}#sk-container-id-2 div.sk-estimator input.sk-toggleable__control:checked~label.sk-toggleable__label {background-color: #d4ebff;}#sk-container-id-2 div.sk-label input.sk-toggleable__control:checked~label.sk-toggleable__label {background-color: #d4ebff;}#sk-container-id-2 input.sk-hidden--visually {border: 0;clip: rect(1px 1px 1px 1px);clip: rect(1px, 1px, 1px, 1px);height: 1px;margin: -1px;overflow: hidden;padding: 0;position: absolute;width: 1px;}#sk-container-id-2 div.sk-estimator {font-family: monospace;background-color: #f0f8ff;border: 1px dotted black;border-radius: 0.25em;box-sizing: border-box;margin-bottom: 0.5em;}#sk-container-id-2 div.sk-estimator:hover {background-color: #d4ebff;}#sk-container-id-2 div.sk-parallel-item::after {content: \"\";width: 100%;border-bottom: 1px solid gray;flex-grow: 1;}#sk-container-id-2 div.sk-label:hover label.sk-toggleable__label {background-color: #d4ebff;}#sk-container-id-2 div.sk-serial::before {content: \"\";position: absolute;border-left: 1px solid gray;box-sizing: border-box;top: 0;bottom: 0;left: 50%;z-index: 0;}#sk-container-id-2 div.sk-serial {display: flex;flex-direction: column;align-items: center;background-color: white;padding-right: 0.2em;padding-left: 0.2em;position: relative;}#sk-container-id-2 div.sk-item {position: relative;z-index: 1;}#sk-container-id-2 div.sk-parallel {display: flex;align-items: stretch;justify-content: center;background-color: white;position: relative;}#sk-container-id-2 div.sk-item::before, #sk-container-id-2 div.sk-parallel-item::before {content: \"\";position: absolute;border-left: 1px solid gray;box-sizing: border-box;top: 0;bottom: 0;left: 50%;z-index: -1;}#sk-container-id-2 div.sk-parallel-item {display: flex;flex-direction: column;z-index: 1;position: relative;background-color: white;}#sk-container-id-2 div.sk-parallel-item:first-child::after {align-self: flex-end;width: 50%;}#sk-container-id-2 div.sk-parallel-item:last-child::after {align-self: flex-start;width: 50%;}#sk-container-id-2 div.sk-parallel-item:only-child::after {width: 0;}#sk-container-id-2 div.sk-dashed-wrapped {border: 1px dashed gray;margin: 0 0.4em 0.5em 0.4em;box-sizing: border-box;padding-bottom: 0.4em;background-color: white;}#sk-container-id-2 div.sk-label label {font-family: monospace;font-weight: bold;display: inline-block;line-height: 1.2em;}#sk-container-id-2 div.sk-label-container {text-align: center;}#sk-container-id-2 div.sk-container {/* jupyter's `normalize.less` sets `[hidden] { display: none; }` but bootstrap.min.css set `[hidden] { display: none !important; }` so we also need the `!important` here to be able to override the default hidden behavior on the sphinx rendered scikit-learn.org. See: https://github.com/scikit-learn/scikit-learn/issues/21755 */display: inline-block !important;position: relative;}#sk-container-id-2 div.sk-text-repr-fallback {display: none;}</style><div id=\"sk-container-id-2\" class=\"sk-top-container\"><div class=\"sk-text-repr-fallback\"><pre>RandomForestClassifier(criterion=&#x27;entropy&#x27;, max_depth=6, min_samples_split=4,\n",
              "                       random_state=42)</pre><b>In a Jupyter environment, please rerun this cell to show the HTML representation or trust the notebook. <br />On GitHub, the HTML representation is unable to render, please try loading this page with nbviewer.org.</b></div><div class=\"sk-container\" hidden><div class=\"sk-item\"><div class=\"sk-estimator sk-toggleable\"><input class=\"sk-toggleable__control sk-hidden--visually\" id=\"sk-estimator-id-2\" type=\"checkbox\" checked><label for=\"sk-estimator-id-2\" class=\"sk-toggleable__label sk-toggleable__label-arrow\">RandomForestClassifier</label><div class=\"sk-toggleable__content\"><pre>RandomForestClassifier(criterion=&#x27;entropy&#x27;, max_depth=6, min_samples_split=4,\n",
              "                       random_state=42)</pre></div></div></div></div></div>"
            ]
          },
          "metadata": {},
          "execution_count": 54
        }
      ],
      "source": [
        "# TODO\n",
        "rfc = RandomForestClassifier(criterion='entropy', max_depth=6, min_samples_split=4, random_state=42)\n",
        "rfc.fit(X_test, Y_test)"
      ]
    },
    {
      "cell_type": "markdown",
      "metadata": {
        "id": "8p9ibWd8aSbk"
      },
      "source": [
        "### 5.3  Evaluate using the same metrics as before (accuracy_score, precision_score, recall_score, confusion_matrix, f1_score, roc_auc_score) (5pt)"
      ]
    },
    {
      "cell_type": "code",
      "execution_count": 75,
      "metadata": {
        "id": "6d5bRGXyYa8Z",
        "colab": {
          "base_uri": "https://localhost:8080/"
        },
        "outputId": "585fd4d5-6bed-4d5e-bd0e-ab72d8dc9a3a"
      },
      "outputs": [
        {
          "output_type": "stream",
          "name": "stdout",
          "text": [
            "accuracy score 0.88\n",
            "precisison score 0.68\n",
            "recall score 0.53\n",
            "confusion matrix 234\n",
            "f1 score 0.59\n",
            "roc auc score 0.74\n"
          ]
        }
      ],
      "source": [
        "# TODO\n",
        "Y_pred3 = rfc.predict(X_test)\n",
        "acc3 = accuracy_score(Y_test, Y_pred3)\n",
        "prec3 = precision_score(Y_test, Y_pred3)\n",
        "rec3 = recall_score(Y_test, Y_pred3)\n",
        "conf3 = confusion_matrix(Y_test, Y_pred3)\n",
        "f1s3 = f1_score(Y_test, Y_pred3)\n",
        "roc3 = roc_auc_score(Y_test, Y_pred3)\n",
        "print(\"accuracy score {:.2}\".format(acc3))\n",
        "print(\"precisison score {:.2}\".format(prec3))\n",
        "print(\"recall score {:.2}\".format(rec3))\n",
        "print(\"confusion matrix {}\".format(conf3[1, 1]))\n",
        "print(\"f1 score {:.2}\".format(f1s3))\n",
        "print(\"roc auc score {:.2}\".format(roc3))"
      ]
    },
    {
      "cell_type": "markdown",
      "metadata": {
        "id": "-XuX9sEUcu42"
      },
      "source": [
        "# 6. Boosting Classifier (20 pts total)"
      ]
    },
    {
      "cell_type": "markdown",
      "metadata": {
        "id": "k9g6-WtWoQli"
      },
      "source": [
        "## 6.1 AdaBoost Classifier (10 pts total)"
      ]
    },
    {
      "cell_type": "markdown",
      "metadata": {
        "id": "94faLGF4dHDX"
      },
      "source": [
        "### 6.1.1 Perform a grid search for best values for parameters={n_estimators, learning_rate} of an AdaBoostClassifier and the given training set. (4pt) "
      ]
    },
    {
      "cell_type": "code",
      "execution_count": 56,
      "metadata": {
        "id": "jFwyYsHQc0jb",
        "colab": {
          "base_uri": "https://localhost:8080/"
        },
        "outputId": "987276ca-08af-4288-ecbb-cf71eea1d668"
      },
      "outputs": [
        {
          "output_type": "stream",
          "name": "stdout",
          "text": [
            "AdaBoostClassifier(learning_rate=1, n_estimators=2, random_state=42)\n"
          ]
        }
      ],
      "source": [
        "# TODO\n",
        "from sklearn.ensemble import AdaBoostClassifier\n",
        "ada = AdaBoostClassifier(random_state=42)\n",
        "param = {'n_estimators': [1,2,3,4],\n",
        "         'learning_rate': [1,2,3,4]}\n",
        "\n",
        "search_ada = GridSearchCV(ada, param)\n",
        "search_ada.fit(X_train, Y_train)\n",
        "print(search_ada.best_estimator_)"
      ]
    },
    {
      "cell_type": "markdown",
      "metadata": {
        "id": "Hmofa6lXcG5l"
      },
      "source": [
        "### 6.1.2 Train an AdaboostClassifier using the best parameter set you found in step 6.1.1 (3pt) "
      ]
    },
    {
      "cell_type": "code",
      "execution_count": 57,
      "metadata": {
        "id": "JiQmOcz8gjNi",
        "colab": {
          "base_uri": "https://localhost:8080/",
          "height": 74
        },
        "outputId": "f22a44ed-3865-45ba-d5ce-6cfc0e844c3e"
      },
      "outputs": [
        {
          "output_type": "execute_result",
          "data": {
            "text/plain": [
              "AdaBoostClassifier(learning_rate=1, n_estimators=2, random_state=42)"
            ],
            "text/html": [
              "<style>#sk-container-id-3 {color: black;background-color: white;}#sk-container-id-3 pre{padding: 0;}#sk-container-id-3 div.sk-toggleable {background-color: white;}#sk-container-id-3 label.sk-toggleable__label {cursor: pointer;display: block;width: 100%;margin-bottom: 0;padding: 0.3em;box-sizing: border-box;text-align: center;}#sk-container-id-3 label.sk-toggleable__label-arrow:before {content: \"▸\";float: left;margin-right: 0.25em;color: #696969;}#sk-container-id-3 label.sk-toggleable__label-arrow:hover:before {color: black;}#sk-container-id-3 div.sk-estimator:hover label.sk-toggleable__label-arrow:before {color: black;}#sk-container-id-3 div.sk-toggleable__content {max-height: 0;max-width: 0;overflow: hidden;text-align: left;background-color: #f0f8ff;}#sk-container-id-3 div.sk-toggleable__content pre {margin: 0.2em;color: black;border-radius: 0.25em;background-color: #f0f8ff;}#sk-container-id-3 input.sk-toggleable__control:checked~div.sk-toggleable__content {max-height: 200px;max-width: 100%;overflow: auto;}#sk-container-id-3 input.sk-toggleable__control:checked~label.sk-toggleable__label-arrow:before {content: \"▾\";}#sk-container-id-3 div.sk-estimator input.sk-toggleable__control:checked~label.sk-toggleable__label {background-color: #d4ebff;}#sk-container-id-3 div.sk-label input.sk-toggleable__control:checked~label.sk-toggleable__label {background-color: #d4ebff;}#sk-container-id-3 input.sk-hidden--visually {border: 0;clip: rect(1px 1px 1px 1px);clip: rect(1px, 1px, 1px, 1px);height: 1px;margin: -1px;overflow: hidden;padding: 0;position: absolute;width: 1px;}#sk-container-id-3 div.sk-estimator {font-family: monospace;background-color: #f0f8ff;border: 1px dotted black;border-radius: 0.25em;box-sizing: border-box;margin-bottom: 0.5em;}#sk-container-id-3 div.sk-estimator:hover {background-color: #d4ebff;}#sk-container-id-3 div.sk-parallel-item::after {content: \"\";width: 100%;border-bottom: 1px solid gray;flex-grow: 1;}#sk-container-id-3 div.sk-label:hover label.sk-toggleable__label {background-color: #d4ebff;}#sk-container-id-3 div.sk-serial::before {content: \"\";position: absolute;border-left: 1px solid gray;box-sizing: border-box;top: 0;bottom: 0;left: 50%;z-index: 0;}#sk-container-id-3 div.sk-serial {display: flex;flex-direction: column;align-items: center;background-color: white;padding-right: 0.2em;padding-left: 0.2em;position: relative;}#sk-container-id-3 div.sk-item {position: relative;z-index: 1;}#sk-container-id-3 div.sk-parallel {display: flex;align-items: stretch;justify-content: center;background-color: white;position: relative;}#sk-container-id-3 div.sk-item::before, #sk-container-id-3 div.sk-parallel-item::before {content: \"\";position: absolute;border-left: 1px solid gray;box-sizing: border-box;top: 0;bottom: 0;left: 50%;z-index: -1;}#sk-container-id-3 div.sk-parallel-item {display: flex;flex-direction: column;z-index: 1;position: relative;background-color: white;}#sk-container-id-3 div.sk-parallel-item:first-child::after {align-self: flex-end;width: 50%;}#sk-container-id-3 div.sk-parallel-item:last-child::after {align-self: flex-start;width: 50%;}#sk-container-id-3 div.sk-parallel-item:only-child::after {width: 0;}#sk-container-id-3 div.sk-dashed-wrapped {border: 1px dashed gray;margin: 0 0.4em 0.5em 0.4em;box-sizing: border-box;padding-bottom: 0.4em;background-color: white;}#sk-container-id-3 div.sk-label label {font-family: monospace;font-weight: bold;display: inline-block;line-height: 1.2em;}#sk-container-id-3 div.sk-label-container {text-align: center;}#sk-container-id-3 div.sk-container {/* jupyter's `normalize.less` sets `[hidden] { display: none; }` but bootstrap.min.css set `[hidden] { display: none !important; }` so we also need the `!important` here to be able to override the default hidden behavior on the sphinx rendered scikit-learn.org. See: https://github.com/scikit-learn/scikit-learn/issues/21755 */display: inline-block !important;position: relative;}#sk-container-id-3 div.sk-text-repr-fallback {display: none;}</style><div id=\"sk-container-id-3\" class=\"sk-top-container\"><div class=\"sk-text-repr-fallback\"><pre>AdaBoostClassifier(learning_rate=1, n_estimators=2, random_state=42)</pre><b>In a Jupyter environment, please rerun this cell to show the HTML representation or trust the notebook. <br />On GitHub, the HTML representation is unable to render, please try loading this page with nbviewer.org.</b></div><div class=\"sk-container\" hidden><div class=\"sk-item\"><div class=\"sk-estimator sk-toggleable\"><input class=\"sk-toggleable__control sk-hidden--visually\" id=\"sk-estimator-id-3\" type=\"checkbox\" checked><label for=\"sk-estimator-id-3\" class=\"sk-toggleable__label sk-toggleable__label-arrow\">AdaBoostClassifier</label><div class=\"sk-toggleable__content\"><pre>AdaBoostClassifier(learning_rate=1, n_estimators=2, random_state=42)</pre></div></div></div></div></div>"
            ]
          },
          "metadata": {},
          "execution_count": 57
        }
      ],
      "source": [
        "# TODO\n",
        "ada = AdaBoostClassifier(learning_rate=1, n_estimators=2, random_state=42)\n",
        "ada.fit(X_test, Y_test)"
      ]
    },
    {
      "cell_type": "markdown",
      "metadata": {
        "id": "SOpbWfoTcYMS"
      },
      "source": [
        "### 6.1.3 Evaluate using the same metrics as before (accuracy_score, precision_score, recall_score, confusion_matrix, f1_score, roc_auc_score) (3pt)"
      ]
    },
    {
      "cell_type": "code",
      "execution_count": 73,
      "metadata": {
        "id": "mGS9o87aiQrP",
        "colab": {
          "base_uri": "https://localhost:8080/"
        },
        "outputId": "48bb053a-c46a-4d29-a704-4350d3679bd8"
      },
      "outputs": [
        {
          "output_type": "stream",
          "name": "stdout",
          "text": [
            "accuracy score 0.86\n",
            "precisison score 0.58\n",
            "recall score 0.55\n",
            "confusion matrix 245\n",
            "f1 score 0.56\n",
            "roc auc score 0.74\n"
          ]
        }
      ],
      "source": [
        "# TODO\n",
        "Y_pred_ada = ada.predict(X_test)\n",
        "acc_ada = accuracy_score(Y_test, Y_pred_ada)\n",
        "prec_ada = precision_score(Y_test, Y_pred_ada)\n",
        "rec_ada = recall_score(Y_test, Y_pred_ada)\n",
        "conf_ada = confusion_matrix(Y_test, Y_pred_ada)\n",
        "f1s_ada = f1_score(Y_test, Y_pred_ada)\n",
        "roc_ada = roc_auc_score(Y_test, Y_pred_ada)\n",
        "print(\"accuracy score {:.2}\".format(acc_ada))\n",
        "print(\"precisison score {:.2}\".format(prec_ada))\n",
        "print(\"recall score {:.2}\".format(rec_ada))\n",
        "print(\"confusion matrix {}\".format(conf_ada[1, 1]))\n",
        "print(\"f1 score {:.2}\".format(f1s_ada))\n",
        "print(\"roc auc score {:.2}\".format(roc_ada))"
      ]
    },
    {
      "cell_type": "markdown",
      "metadata": {
        "id": "5T2QO0aloZwg"
      },
      "source": [
        "## 6.2 Gradient Boosting Classifier (10 pts total)"
      ]
    },
    {
      "cell_type": "markdown",
      "metadata": {
        "id": "Xf-QJ-tVcnSU"
      },
      "source": [
        "### 6.2.1 Perform a grid search for best values for parameters={n_estimators, max_depth, learning_rate} of a GradientBoostingClassifier and the given training set. (4pt)"
      ]
    },
    {
      "cell_type": "code",
      "execution_count": 62,
      "metadata": {
        "id": "8erF7UBQhXd3",
        "colab": {
          "base_uri": "https://localhost:8080/"
        },
        "outputId": "2d5b0658-18f4-4a2e-ff7b-28586c9e4bb2"
      },
      "outputs": [
        {
          "output_type": "stream",
          "name": "stdout",
          "text": [
            "GradientBoostingClassifier(learning_rate=1, max_depth=1, n_estimators=1,\n",
            "                           random_state=42)\n"
          ]
        }
      ],
      "source": [
        "# TODO\n",
        "from sklearn.ensemble import GradientBoostingClassifier\n",
        "gbc = GradientBoostingClassifier(random_state=42)\n",
        "param = {'n_estimators': [1,2,3,4,5],\n",
        "         'learning_rate': [1,2,3,4,5],\n",
        "         'max_depth': [1,2,3,4,5]}\n",
        "\n",
        "search_gbc = GridSearchCV(gbc, param)\n",
        "search_gbc.fit(X_train, Y_train)\n",
        "print(search_gbc.best_estimator_)"
      ]
    },
    {
      "cell_type": "markdown",
      "metadata": {
        "id": "RRZKR-bHott5"
      },
      "source": [
        "### 6.2.2 Train a GradientBoostingClassifier using the best parameter set you found in step 6.2.1 (3pt) "
      ]
    },
    {
      "cell_type": "code",
      "execution_count": 63,
      "metadata": {
        "id": "bAQZH-KqkrNq",
        "colab": {
          "base_uri": "https://localhost:8080/",
          "height": 91
        },
        "outputId": "98cb75f1-0827-41c9-dea3-a10b36186c9c"
      },
      "outputs": [
        {
          "output_type": "execute_result",
          "data": {
            "text/plain": [
              "GradientBoostingClassifier(learning_rate=1, max_depth=1, n_estimators=1,\n",
              "                           random_state=42)"
            ],
            "text/html": [
              "<style>#sk-container-id-4 {color: black;background-color: white;}#sk-container-id-4 pre{padding: 0;}#sk-container-id-4 div.sk-toggleable {background-color: white;}#sk-container-id-4 label.sk-toggleable__label {cursor: pointer;display: block;width: 100%;margin-bottom: 0;padding: 0.3em;box-sizing: border-box;text-align: center;}#sk-container-id-4 label.sk-toggleable__label-arrow:before {content: \"▸\";float: left;margin-right: 0.25em;color: #696969;}#sk-container-id-4 label.sk-toggleable__label-arrow:hover:before {color: black;}#sk-container-id-4 div.sk-estimator:hover label.sk-toggleable__label-arrow:before {color: black;}#sk-container-id-4 div.sk-toggleable__content {max-height: 0;max-width: 0;overflow: hidden;text-align: left;background-color: #f0f8ff;}#sk-container-id-4 div.sk-toggleable__content pre {margin: 0.2em;color: black;border-radius: 0.25em;background-color: #f0f8ff;}#sk-container-id-4 input.sk-toggleable__control:checked~div.sk-toggleable__content {max-height: 200px;max-width: 100%;overflow: auto;}#sk-container-id-4 input.sk-toggleable__control:checked~label.sk-toggleable__label-arrow:before {content: \"▾\";}#sk-container-id-4 div.sk-estimator input.sk-toggleable__control:checked~label.sk-toggleable__label {background-color: #d4ebff;}#sk-container-id-4 div.sk-label input.sk-toggleable__control:checked~label.sk-toggleable__label {background-color: #d4ebff;}#sk-container-id-4 input.sk-hidden--visually {border: 0;clip: rect(1px 1px 1px 1px);clip: rect(1px, 1px, 1px, 1px);height: 1px;margin: -1px;overflow: hidden;padding: 0;position: absolute;width: 1px;}#sk-container-id-4 div.sk-estimator {font-family: monospace;background-color: #f0f8ff;border: 1px dotted black;border-radius: 0.25em;box-sizing: border-box;margin-bottom: 0.5em;}#sk-container-id-4 div.sk-estimator:hover {background-color: #d4ebff;}#sk-container-id-4 div.sk-parallel-item::after {content: \"\";width: 100%;border-bottom: 1px solid gray;flex-grow: 1;}#sk-container-id-4 div.sk-label:hover label.sk-toggleable__label {background-color: #d4ebff;}#sk-container-id-4 div.sk-serial::before {content: \"\";position: absolute;border-left: 1px solid gray;box-sizing: border-box;top: 0;bottom: 0;left: 50%;z-index: 0;}#sk-container-id-4 div.sk-serial {display: flex;flex-direction: column;align-items: center;background-color: white;padding-right: 0.2em;padding-left: 0.2em;position: relative;}#sk-container-id-4 div.sk-item {position: relative;z-index: 1;}#sk-container-id-4 div.sk-parallel {display: flex;align-items: stretch;justify-content: center;background-color: white;position: relative;}#sk-container-id-4 div.sk-item::before, #sk-container-id-4 div.sk-parallel-item::before {content: \"\";position: absolute;border-left: 1px solid gray;box-sizing: border-box;top: 0;bottom: 0;left: 50%;z-index: -1;}#sk-container-id-4 div.sk-parallel-item {display: flex;flex-direction: column;z-index: 1;position: relative;background-color: white;}#sk-container-id-4 div.sk-parallel-item:first-child::after {align-self: flex-end;width: 50%;}#sk-container-id-4 div.sk-parallel-item:last-child::after {align-self: flex-start;width: 50%;}#sk-container-id-4 div.sk-parallel-item:only-child::after {width: 0;}#sk-container-id-4 div.sk-dashed-wrapped {border: 1px dashed gray;margin: 0 0.4em 0.5em 0.4em;box-sizing: border-box;padding-bottom: 0.4em;background-color: white;}#sk-container-id-4 div.sk-label label {font-family: monospace;font-weight: bold;display: inline-block;line-height: 1.2em;}#sk-container-id-4 div.sk-label-container {text-align: center;}#sk-container-id-4 div.sk-container {/* jupyter's `normalize.less` sets `[hidden] { display: none; }` but bootstrap.min.css set `[hidden] { display: none !important; }` so we also need the `!important` here to be able to override the default hidden behavior on the sphinx rendered scikit-learn.org. See: https://github.com/scikit-learn/scikit-learn/issues/21755 */display: inline-block !important;position: relative;}#sk-container-id-4 div.sk-text-repr-fallback {display: none;}</style><div id=\"sk-container-id-4\" class=\"sk-top-container\"><div class=\"sk-text-repr-fallback\"><pre>GradientBoostingClassifier(learning_rate=1, max_depth=1, n_estimators=1,\n",
              "                           random_state=42)</pre><b>In a Jupyter environment, please rerun this cell to show the HTML representation or trust the notebook. <br />On GitHub, the HTML representation is unable to render, please try loading this page with nbviewer.org.</b></div><div class=\"sk-container\" hidden><div class=\"sk-item\"><div class=\"sk-estimator sk-toggleable\"><input class=\"sk-toggleable__control sk-hidden--visually\" id=\"sk-estimator-id-4\" type=\"checkbox\" checked><label for=\"sk-estimator-id-4\" class=\"sk-toggleable__label sk-toggleable__label-arrow\">GradientBoostingClassifier</label><div class=\"sk-toggleable__content\"><pre>GradientBoostingClassifier(learning_rate=1, max_depth=1, n_estimators=1,\n",
              "                           random_state=42)</pre></div></div></div></div></div>"
            ]
          },
          "metadata": {},
          "execution_count": 63
        }
      ],
      "source": [
        "# TODO\n",
        "gbc = GradientBoostingClassifier(learning_rate=1, max_depth=1, n_estimators=1, random_state=42)\n",
        "gbc.fit(X_test, Y_test)"
      ]
    },
    {
      "cell_type": "markdown",
      "metadata": {
        "id": "yzVtBSlpo9wF"
      },
      "source": [
        "### 6.2.3 Evaluate using the same metrics as before (accuracy_score, precision_score, recall_score, confusion_matrix, f1_score, roc_auc_score) (3pt)"
      ]
    },
    {
      "cell_type": "code",
      "execution_count": 72,
      "metadata": {
        "id": "-xl5Bdwyk8_W",
        "colab": {
          "base_uri": "https://localhost:8080/"
        },
        "outputId": "3a1485c3-c376-4a5f-ccc3-f2938cb41089"
      },
      "outputs": [
        {
          "output_type": "stream",
          "name": "stdout",
          "text": [
            "accuracy score 0.86\n",
            "precisison score 0.58\n",
            "recall score 0.55\n",
            "confusion matrix 245\n",
            "f1 score 0.56\n",
            "roc auc score 0.74\n"
          ]
        }
      ],
      "source": [
        "# TODO\n",
        "Y_pred_gbc = gbc.predict(X_test)\n",
        "acc_gbc = accuracy_score(Y_test, Y_pred_gbc)\n",
        "prec_gbc = precision_score(Y_test, Y_pred_gbc)\n",
        "rec_gbc = recall_score(Y_test, Y_pred_gbc)\n",
        "conf_gbc = confusion_matrix(Y_test, Y_pred_gbc)\n",
        "f1s_gbc = f1_score(Y_test, Y_pred_gbc)\n",
        "roc_gbc = roc_auc_score(Y_test, Y_pred_gbc)\n",
        "print(\"accuracy score {:.2}\".format(acc_gbc))\n",
        "print(\"precisison score {:.2}\".format(prec_gbc))\n",
        "print(\"recall score {:.2}\".format(rec_gbc))\n",
        "print(\"confusion matrix {}\".format(conf_gbc[1, 1]))\n",
        "print(\"f1 score {:.2}\".format(f1s_gbc))\n",
        "print(\"roc auc score {:.2}\".format(roc_gbc))"
      ]
    },
    {
      "cell_type": "markdown",
      "metadata": {
        "id": "LW4nKeUQ2Ewh"
      },
      "source": [
        "# 7. Summary Discussion (4 pts)"
      ]
    },
    {
      "cell_type": "markdown",
      "metadata": {
        "id": "LSekQD9J2GTc"
      },
      "source": [
        "Which model yields the highest precision?\n",
        "\n",
        "The random forest classifier yeilds the highest precision\n",
        "\n",
        "Which model yields the lowest recall? \n",
        "\n",
        "The model that yielded the lowest recall was the unbalanced Decision Tree\n",
        "\n",
        "Which model yields the higest True Positive (TP)? \n",
        "\n",
        "The model that yields the highest true positive is balanced decision tree\n",
        "\n",
        "Which model yields the best performance overall? \n",
        "\n",
        "The random forest model had yielded the best performance\n"
      ]
    }
  ],
  "metadata": {
    "colab": {
      "provenance": []
    },
    "kernelspec": {
      "display_name": "Python 3",
      "language": "python",
      "name": "python3"
    },
    "language_info": {
      "name": "python",
      "version": "3.10.3 (tags/v3.10.3:a342a49, Mar 16 2022, 13:07:40) [MSC v.1929 64 bit (AMD64)]"
    },
    "vscode": {
      "interpreter": {
        "hash": "60b64012b5ed67907a10276cfdedd88214213599e926916fcf8c83729d3a7c3a"
      }
    }
  },
  "nbformat": 4,
  "nbformat_minor": 0
}